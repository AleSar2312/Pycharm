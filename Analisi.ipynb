{
 "cells": [
  {
   "cell_type": "code",
   "id": "initial_id",
   "metadata": {
    "collapsed": true,
    "ExecuteTime": {
     "end_time": "2025-01-12T17:08:06.874160Z",
     "start_time": "2025-01-12T17:08:06.866579Z"
    }
   },
   "source": "import pandas as pd",
   "outputs": [],
   "execution_count": 4
  },
  {
   "metadata": {},
   "cell_type": "markdown",
   "source": "",
   "id": "b74b03020fc59a6b"
  },
  {
   "metadata": {
    "ExecuteTime": {
     "end_time": "2025-01-12T17:08:08.425823Z",
     "start_time": "2025-01-12T17:08:08.423341Z"
    }
   },
   "cell_type": "code",
   "source": "import matplotlib.pyplot as plt #Libreria per creazione dati",
   "id": "83eb9b1ae14e5d74",
   "outputs": [],
   "execution_count": 5
  },
  {
   "metadata": {
    "ExecuteTime": {
     "end_time": "2025-01-12T17:08:10.960030Z",
     "start_time": "2025-01-12T17:08:10.957376Z"
    }
   },
   "cell_type": "code",
   "source": "import seaborn as sns",
   "id": "67d4d1f09c899567",
   "outputs": [],
   "execution_count": 6
  },
  {
   "metadata": {
    "ExecuteTime": {
     "end_time": "2025-01-12T17:08:14.895316Z",
     "start_time": "2025-01-12T17:08:14.250995Z"
    }
   },
   "cell_type": "code",
   "source": [
    "game_events = pd.read_csv(\"/Users/alessandros/Desktop/Assignment_Data_2023-2024/game_events.csv\")\n",
    "game_events.shape\n"
   ],
   "id": "3d487b16e804b8b7",
   "outputs": [
    {
     "data": {
      "text/plain": [
       "(666558, 10)"
      ]
     },
     "execution_count": 8,
     "metadata": {},
     "output_type": "execute_result"
    }
   ],
   "execution_count": 8
  },
  {
   "metadata": {
    "ExecuteTime": {
     "end_time": "2025-01-12T17:08:18.511155Z",
     "start_time": "2025-01-12T17:08:18.495861Z"
    }
   },
   "cell_type": "code",
   "source": "game_events.head()",
   "id": "6a40dcb3b094a3a",
   "outputs": [
    {
     "data": {
      "text/plain": [
       "                      game_event_id        date  game_id  minute  \\\n",
       "0  2f41da30c471492e7d4a984951671677  2012-08-05  2211607      77   \n",
       "1  a72f7186d132775f234d3e2f7bc0ed5b  2012-08-05  2211607      77   \n",
       "2  b2d721eaed4692a5c59a92323689ef18  2012-08-05  2211607       3   \n",
       "3  aef768899cedac0c9a650980219075a2  2012-08-05  2211607      53   \n",
       "4  5d6d9533023057b6619ecd145a038bbe  2012-08-05  2211607      74   \n",
       "\n",
       "            type  club_id  player_id  \\\n",
       "0          Cards      610       4425   \n",
       "1          Cards      383      33210   \n",
       "2          Goals      383      36500   \n",
       "3          Goals      383      36500   \n",
       "4  Substitutions      383      36500   \n",
       "\n",
       "                                         description  player_in_id  \\\n",
       "0               1. Yellow card  , Mass confrontation           NaN   \n",
       "1               1. Yellow card  , Mass confrontation           NaN   \n",
       "2  , Header, 1. Tournament Goal Assist: , Corner,...           NaN   \n",
       "3  , Right-footed shot, 2. Tournament Goal Assist...           NaN   \n",
       "4                                     , Not reported       49499.0   \n",
       "\n",
       "   player_assist_id  \n",
       "0               NaN  \n",
       "1               NaN  \n",
       "2           56416.0  \n",
       "3          146258.0  \n",
       "4               NaN  "
      ],
      "text/html": [
       "<div>\n",
       "<style scoped>\n",
       "    .dataframe tbody tr th:only-of-type {\n",
       "        vertical-align: middle;\n",
       "    }\n",
       "\n",
       "    .dataframe tbody tr th {\n",
       "        vertical-align: top;\n",
       "    }\n",
       "\n",
       "    .dataframe thead th {\n",
       "        text-align: right;\n",
       "    }\n",
       "</style>\n",
       "<table border=\"1\" class=\"dataframe\">\n",
       "  <thead>\n",
       "    <tr style=\"text-align: right;\">\n",
       "      <th></th>\n",
       "      <th>game_event_id</th>\n",
       "      <th>date</th>\n",
       "      <th>game_id</th>\n",
       "      <th>minute</th>\n",
       "      <th>type</th>\n",
       "      <th>club_id</th>\n",
       "      <th>player_id</th>\n",
       "      <th>description</th>\n",
       "      <th>player_in_id</th>\n",
       "      <th>player_assist_id</th>\n",
       "    </tr>\n",
       "  </thead>\n",
       "  <tbody>\n",
       "    <tr>\n",
       "      <th>0</th>\n",
       "      <td>2f41da30c471492e7d4a984951671677</td>\n",
       "      <td>2012-08-05</td>\n",
       "      <td>2211607</td>\n",
       "      <td>77</td>\n",
       "      <td>Cards</td>\n",
       "      <td>610</td>\n",
       "      <td>4425</td>\n",
       "      <td>1. Yellow card  , Mass confrontation</td>\n",
       "      <td>NaN</td>\n",
       "      <td>NaN</td>\n",
       "    </tr>\n",
       "    <tr>\n",
       "      <th>1</th>\n",
       "      <td>a72f7186d132775f234d3e2f7bc0ed5b</td>\n",
       "      <td>2012-08-05</td>\n",
       "      <td>2211607</td>\n",
       "      <td>77</td>\n",
       "      <td>Cards</td>\n",
       "      <td>383</td>\n",
       "      <td>33210</td>\n",
       "      <td>1. Yellow card  , Mass confrontation</td>\n",
       "      <td>NaN</td>\n",
       "      <td>NaN</td>\n",
       "    </tr>\n",
       "    <tr>\n",
       "      <th>2</th>\n",
       "      <td>b2d721eaed4692a5c59a92323689ef18</td>\n",
       "      <td>2012-08-05</td>\n",
       "      <td>2211607</td>\n",
       "      <td>3</td>\n",
       "      <td>Goals</td>\n",
       "      <td>383</td>\n",
       "      <td>36500</td>\n",
       "      <td>, Header, 1. Tournament Goal Assist: , Corner,...</td>\n",
       "      <td>NaN</td>\n",
       "      <td>56416.0</td>\n",
       "    </tr>\n",
       "    <tr>\n",
       "      <th>3</th>\n",
       "      <td>aef768899cedac0c9a650980219075a2</td>\n",
       "      <td>2012-08-05</td>\n",
       "      <td>2211607</td>\n",
       "      <td>53</td>\n",
       "      <td>Goals</td>\n",
       "      <td>383</td>\n",
       "      <td>36500</td>\n",
       "      <td>, Right-footed shot, 2. Tournament Goal Assist...</td>\n",
       "      <td>NaN</td>\n",
       "      <td>146258.0</td>\n",
       "    </tr>\n",
       "    <tr>\n",
       "      <th>4</th>\n",
       "      <td>5d6d9533023057b6619ecd145a038bbe</td>\n",
       "      <td>2012-08-05</td>\n",
       "      <td>2211607</td>\n",
       "      <td>74</td>\n",
       "      <td>Substitutions</td>\n",
       "      <td>383</td>\n",
       "      <td>36500</td>\n",
       "      <td>, Not reported</td>\n",
       "      <td>49499.0</td>\n",
       "      <td>NaN</td>\n",
       "    </tr>\n",
       "  </tbody>\n",
       "</table>\n",
       "</div>"
      ]
     },
     "execution_count": 9,
     "metadata": {},
     "output_type": "execute_result"
    }
   ],
   "execution_count": 9
  },
  {
   "metadata": {
    "ExecuteTime": {
     "end_time": "2025-01-12T17:08:20.733526Z",
     "start_time": "2025-01-12T17:08:20.730408Z"
    }
   },
   "cell_type": "code",
   "source": "game_events.columns",
   "id": "b0ac6fc49e7fc386",
   "outputs": [
    {
     "data": {
      "text/plain": [
       "Index(['game_event_id', 'date', 'game_id', 'minute', 'type', 'club_id',\n",
       "       'player_id', 'description', 'player_in_id', 'player_assist_id'],\n",
       "      dtype='object')"
      ]
     },
     "execution_count": 10,
     "metadata": {},
     "output_type": "execute_result"
    }
   ],
   "execution_count": 10
  },
  {
   "metadata": {
    "ExecuteTime": {
     "end_time": "2025-01-12T17:08:22.552597Z",
     "start_time": "2025-01-12T17:08:22.426299Z"
    }
   },
   "cell_type": "code",
   "source": "game_events.describe()",
   "id": "71fc7f8ec6e02a5a",
   "outputs": [
    {
     "data": {
      "text/plain": [
       "            game_id         minute        club_id     player_id  player_in_id  \\\n",
       "count  6.665580e+05  666558.000000  666558.000000  6.665580e+05  4.212490e+05   \n",
       "mean   3.051644e+06      63.503254    4595.409720  2.010716e+05  2.429946e+05   \n",
       "std    6.079955e+05      21.927700   10915.447142  1.878795e+05  2.082146e+05   \n",
       "min    2.211607e+06      -1.000000       1.000000  1.000000e+01  1.000000e+01   \n",
       "25%    2.483327e+06      51.000000     336.000000  5.714400e+04  7.422300e+04   \n",
       "50%    3.047444e+06      68.000000     984.000000  1.403100e+05  1.884980e+05   \n",
       "75%    3.589539e+06      80.000000    3026.000000  2.912000e+05  3.481990e+05   \n",
       "max    4.228114e+06     120.000000  112755.000000  1.207623e+06  1.207623e+06   \n",
       "\n",
       "       player_assist_id  \n",
       "count      3.085700e+04  \n",
       "mean       1.301114e+05  \n",
       "std        1.752904e+05  \n",
       "min        1.000000e+01  \n",
       "25%        3.134800e+04  \n",
       "50%        6.044400e+04  \n",
       "75%        1.404460e+05  \n",
       "max        1.207623e+06  "
      ],
      "text/html": [
       "<div>\n",
       "<style scoped>\n",
       "    .dataframe tbody tr th:only-of-type {\n",
       "        vertical-align: middle;\n",
       "    }\n",
       "\n",
       "    .dataframe tbody tr th {\n",
       "        vertical-align: top;\n",
       "    }\n",
       "\n",
       "    .dataframe thead th {\n",
       "        text-align: right;\n",
       "    }\n",
       "</style>\n",
       "<table border=\"1\" class=\"dataframe\">\n",
       "  <thead>\n",
       "    <tr style=\"text-align: right;\">\n",
       "      <th></th>\n",
       "      <th>game_id</th>\n",
       "      <th>minute</th>\n",
       "      <th>club_id</th>\n",
       "      <th>player_id</th>\n",
       "      <th>player_in_id</th>\n",
       "      <th>player_assist_id</th>\n",
       "    </tr>\n",
       "  </thead>\n",
       "  <tbody>\n",
       "    <tr>\n",
       "      <th>count</th>\n",
       "      <td>6.665580e+05</td>\n",
       "      <td>666558.000000</td>\n",
       "      <td>666558.000000</td>\n",
       "      <td>6.665580e+05</td>\n",
       "      <td>4.212490e+05</td>\n",
       "      <td>3.085700e+04</td>\n",
       "    </tr>\n",
       "    <tr>\n",
       "      <th>mean</th>\n",
       "      <td>3.051644e+06</td>\n",
       "      <td>63.503254</td>\n",
       "      <td>4595.409720</td>\n",
       "      <td>2.010716e+05</td>\n",
       "      <td>2.429946e+05</td>\n",
       "      <td>1.301114e+05</td>\n",
       "    </tr>\n",
       "    <tr>\n",
       "      <th>std</th>\n",
       "      <td>6.079955e+05</td>\n",
       "      <td>21.927700</td>\n",
       "      <td>10915.447142</td>\n",
       "      <td>1.878795e+05</td>\n",
       "      <td>2.082146e+05</td>\n",
       "      <td>1.752904e+05</td>\n",
       "    </tr>\n",
       "    <tr>\n",
       "      <th>min</th>\n",
       "      <td>2.211607e+06</td>\n",
       "      <td>-1.000000</td>\n",
       "      <td>1.000000</td>\n",
       "      <td>1.000000e+01</td>\n",
       "      <td>1.000000e+01</td>\n",
       "      <td>1.000000e+01</td>\n",
       "    </tr>\n",
       "    <tr>\n",
       "      <th>25%</th>\n",
       "      <td>2.483327e+06</td>\n",
       "      <td>51.000000</td>\n",
       "      <td>336.000000</td>\n",
       "      <td>5.714400e+04</td>\n",
       "      <td>7.422300e+04</td>\n",
       "      <td>3.134800e+04</td>\n",
       "    </tr>\n",
       "    <tr>\n",
       "      <th>50%</th>\n",
       "      <td>3.047444e+06</td>\n",
       "      <td>68.000000</td>\n",
       "      <td>984.000000</td>\n",
       "      <td>1.403100e+05</td>\n",
       "      <td>1.884980e+05</td>\n",
       "      <td>6.044400e+04</td>\n",
       "    </tr>\n",
       "    <tr>\n",
       "      <th>75%</th>\n",
       "      <td>3.589539e+06</td>\n",
       "      <td>80.000000</td>\n",
       "      <td>3026.000000</td>\n",
       "      <td>2.912000e+05</td>\n",
       "      <td>3.481990e+05</td>\n",
       "      <td>1.404460e+05</td>\n",
       "    </tr>\n",
       "    <tr>\n",
       "      <th>max</th>\n",
       "      <td>4.228114e+06</td>\n",
       "      <td>120.000000</td>\n",
       "      <td>112755.000000</td>\n",
       "      <td>1.207623e+06</td>\n",
       "      <td>1.207623e+06</td>\n",
       "      <td>1.207623e+06</td>\n",
       "    </tr>\n",
       "  </tbody>\n",
       "</table>\n",
       "</div>"
      ]
     },
     "execution_count": 11,
     "metadata": {},
     "output_type": "execute_result"
    }
   ],
   "execution_count": 11
  },
  {
   "metadata": {
    "ExecuteTime": {
     "end_time": "2025-01-12T17:08:24.685512Z",
     "start_time": "2025-01-12T17:08:24.628689Z"
    }
   },
   "cell_type": "code",
   "source": "print(game_events.isna().sum())",
   "id": "9931c813e77b7279",
   "outputs": [
    {
     "name": "stdout",
     "output_type": "stream",
     "text": [
      "game_event_id            0\n",
      "date                     0\n",
      "game_id                  0\n",
      "minute                   0\n",
      "type                     0\n",
      "club_id                  0\n",
      "player_id                0\n",
      "description         336325\n",
      "player_in_id        245309\n",
      "player_assist_id    635701\n",
      "dtype: int64\n"
     ]
    }
   ],
   "execution_count": 12
  },
  {
   "metadata": {
    "ExecuteTime": {
     "end_time": "2025-01-12T17:08:26.775303Z",
     "start_time": "2025-01-12T17:08:26.450083Z"
    }
   },
   "cell_type": "code",
   "source": "game_events.loc[game_events.duplicated()] #conotrlla valori duplicati",
   "id": "92d95fa899446a29",
   "outputs": [
    {
     "data": {
      "text/plain": [
       "Empty DataFrame\n",
       "Columns: [game_event_id, date, game_id, minute, type, club_id, player_id, description, player_in_id, player_assist_id]\n",
       "Index: []"
      ],
      "text/html": [
       "<div>\n",
       "<style scoped>\n",
       "    .dataframe tbody tr th:only-of-type {\n",
       "        vertical-align: middle;\n",
       "    }\n",
       "\n",
       "    .dataframe tbody tr th {\n",
       "        vertical-align: top;\n",
       "    }\n",
       "\n",
       "    .dataframe thead th {\n",
       "        text-align: right;\n",
       "    }\n",
       "</style>\n",
       "<table border=\"1\" class=\"dataframe\">\n",
       "  <thead>\n",
       "    <tr style=\"text-align: right;\">\n",
       "      <th></th>\n",
       "      <th>game_event_id</th>\n",
       "      <th>date</th>\n",
       "      <th>game_id</th>\n",
       "      <th>minute</th>\n",
       "      <th>type</th>\n",
       "      <th>club_id</th>\n",
       "      <th>player_id</th>\n",
       "      <th>description</th>\n",
       "      <th>player_in_id</th>\n",
       "      <th>player_assist_id</th>\n",
       "    </tr>\n",
       "  </thead>\n",
       "  <tbody>\n",
       "  </tbody>\n",
       "</table>\n",
       "</div>"
      ]
     },
     "execution_count": 13,
     "metadata": {},
     "output_type": "execute_result"
    }
   ],
   "execution_count": 13
  },
  {
   "metadata": {
    "ExecuteTime": {
     "end_time": "2025-01-12T17:08:28.980832Z",
     "start_time": "2025-01-12T17:08:28.978721Z"
    }
   },
   "cell_type": "code",
   "source": [
    "import numpy as nt\n",
    "import pandas as pd\n",
    "import matplotlib.pyplot as plt\n",
    "#import geopandas as gpd\n",
    "import seaborn as sns\n",
    "#import folium as fl from geopy.geocoders import Nominatim"
   ],
   "id": "8aa117b8c3581504",
   "outputs": [],
   "execution_count": 14
  },
  {
   "metadata": {},
   "cell_type": "code",
   "outputs": [],
   "execution_count": null,
   "source": "",
   "id": "d697b4c753de50f1"
  },
  {
   "metadata": {
    "ExecuteTime": {
     "end_time": "2025-01-12T17:08:32.140825Z",
     "start_time": "2025-01-12T17:08:31.947142Z"
    }
   },
   "cell_type": "code",
   "source": "game_lineups = pd.read_csv('/Users/alessandros/Desktop/Assignment Data 2023-2024/game_lineups.csv')",
   "id": "56ebab3aa9a0ce25",
   "outputs": [
    {
     "ename": "FileNotFoundError",
     "evalue": "[Errno 2] No such file or directory: '/Users/alessandros/Desktop/Assignment Data 2023-2024/game_lineups.csv'",
     "output_type": "error",
     "traceback": [
      "\u001B[0;31m---------------------------------------------------------------------------\u001B[0m",
      "\u001B[0;31mFileNotFoundError\u001B[0m                         Traceback (most recent call last)",
      "Cell \u001B[0;32mIn[15], line 1\u001B[0m\n\u001B[0;32m----> 1\u001B[0m game_lineups \u001B[38;5;241m=\u001B[39m \u001B[43mpd\u001B[49m\u001B[38;5;241;43m.\u001B[39;49m\u001B[43mread_csv\u001B[49m\u001B[43m(\u001B[49m\u001B[38;5;124;43m'\u001B[39;49m\u001B[38;5;124;43m/Users/alessandros/Desktop/Assignment Data 2023-2024/game_lineups.csv\u001B[39;49m\u001B[38;5;124;43m'\u001B[39;49m\u001B[43m)\u001B[49m\n",
      "File \u001B[0;32m~/Library/Python/3.8/lib/python/site-packages/pandas/io/parsers/readers.py:912\u001B[0m, in \u001B[0;36mread_csv\u001B[0;34m(filepath_or_buffer, sep, delimiter, header, names, index_col, usecols, dtype, engine, converters, true_values, false_values, skipinitialspace, skiprows, skipfooter, nrows, na_values, keep_default_na, na_filter, verbose, skip_blank_lines, parse_dates, infer_datetime_format, keep_date_col, date_parser, date_format, dayfirst, cache_dates, iterator, chunksize, compression, thousands, decimal, lineterminator, quotechar, quoting, doublequote, escapechar, comment, encoding, encoding_errors, dialect, on_bad_lines, delim_whitespace, low_memory, memory_map, float_precision, storage_options, dtype_backend)\u001B[0m\n\u001B[1;32m    899\u001B[0m kwds_defaults \u001B[38;5;241m=\u001B[39m _refine_defaults_read(\n\u001B[1;32m    900\u001B[0m     dialect,\n\u001B[1;32m    901\u001B[0m     delimiter,\n\u001B[0;32m   (...)\u001B[0m\n\u001B[1;32m    908\u001B[0m     dtype_backend\u001B[38;5;241m=\u001B[39mdtype_backend,\n\u001B[1;32m    909\u001B[0m )\n\u001B[1;32m    910\u001B[0m kwds\u001B[38;5;241m.\u001B[39mupdate(kwds_defaults)\n\u001B[0;32m--> 912\u001B[0m \u001B[38;5;28;01mreturn\u001B[39;00m \u001B[43m_read\u001B[49m\u001B[43m(\u001B[49m\u001B[43mfilepath_or_buffer\u001B[49m\u001B[43m,\u001B[49m\u001B[43m \u001B[49m\u001B[43mkwds\u001B[49m\u001B[43m)\u001B[49m\n",
      "File \u001B[0;32m~/Library/Python/3.8/lib/python/site-packages/pandas/io/parsers/readers.py:577\u001B[0m, in \u001B[0;36m_read\u001B[0;34m(filepath_or_buffer, kwds)\u001B[0m\n\u001B[1;32m    574\u001B[0m _validate_names(kwds\u001B[38;5;241m.\u001B[39mget(\u001B[38;5;124m\"\u001B[39m\u001B[38;5;124mnames\u001B[39m\u001B[38;5;124m\"\u001B[39m, \u001B[38;5;28;01mNone\u001B[39;00m))\n\u001B[1;32m    576\u001B[0m \u001B[38;5;66;03m# Create the parser.\u001B[39;00m\n\u001B[0;32m--> 577\u001B[0m parser \u001B[38;5;241m=\u001B[39m \u001B[43mTextFileReader\u001B[49m\u001B[43m(\u001B[49m\u001B[43mfilepath_or_buffer\u001B[49m\u001B[43m,\u001B[49m\u001B[43m \u001B[49m\u001B[38;5;241;43m*\u001B[39;49m\u001B[38;5;241;43m*\u001B[39;49m\u001B[43mkwds\u001B[49m\u001B[43m)\u001B[49m\n\u001B[1;32m    579\u001B[0m \u001B[38;5;28;01mif\u001B[39;00m chunksize \u001B[38;5;129;01mor\u001B[39;00m iterator:\n\u001B[1;32m    580\u001B[0m     \u001B[38;5;28;01mreturn\u001B[39;00m parser\n",
      "File \u001B[0;32m~/Library/Python/3.8/lib/python/site-packages/pandas/io/parsers/readers.py:1407\u001B[0m, in \u001B[0;36mTextFileReader.__init__\u001B[0;34m(self, f, engine, **kwds)\u001B[0m\n\u001B[1;32m   1404\u001B[0m     \u001B[38;5;28mself\u001B[39m\u001B[38;5;241m.\u001B[39moptions[\u001B[38;5;124m\"\u001B[39m\u001B[38;5;124mhas_index_names\u001B[39m\u001B[38;5;124m\"\u001B[39m] \u001B[38;5;241m=\u001B[39m kwds[\u001B[38;5;124m\"\u001B[39m\u001B[38;5;124mhas_index_names\u001B[39m\u001B[38;5;124m\"\u001B[39m]\n\u001B[1;32m   1406\u001B[0m \u001B[38;5;28mself\u001B[39m\u001B[38;5;241m.\u001B[39mhandles: IOHandles \u001B[38;5;241m|\u001B[39m \u001B[38;5;28;01mNone\u001B[39;00m \u001B[38;5;241m=\u001B[39m \u001B[38;5;28;01mNone\u001B[39;00m\n\u001B[0;32m-> 1407\u001B[0m \u001B[38;5;28mself\u001B[39m\u001B[38;5;241m.\u001B[39m_engine \u001B[38;5;241m=\u001B[39m \u001B[38;5;28;43mself\u001B[39;49m\u001B[38;5;241;43m.\u001B[39;49m\u001B[43m_make_engine\u001B[49m\u001B[43m(\u001B[49m\u001B[43mf\u001B[49m\u001B[43m,\u001B[49m\u001B[43m \u001B[49m\u001B[38;5;28;43mself\u001B[39;49m\u001B[38;5;241;43m.\u001B[39;49m\u001B[43mengine\u001B[49m\u001B[43m)\u001B[49m\n",
      "File \u001B[0;32m~/Library/Python/3.8/lib/python/site-packages/pandas/io/parsers/readers.py:1661\u001B[0m, in \u001B[0;36mTextFileReader._make_engine\u001B[0;34m(self, f, engine)\u001B[0m\n\u001B[1;32m   1659\u001B[0m     \u001B[38;5;28;01mif\u001B[39;00m \u001B[38;5;124m\"\u001B[39m\u001B[38;5;124mb\u001B[39m\u001B[38;5;124m\"\u001B[39m \u001B[38;5;129;01mnot\u001B[39;00m \u001B[38;5;129;01min\u001B[39;00m mode:\n\u001B[1;32m   1660\u001B[0m         mode \u001B[38;5;241m+\u001B[39m\u001B[38;5;241m=\u001B[39m \u001B[38;5;124m\"\u001B[39m\u001B[38;5;124mb\u001B[39m\u001B[38;5;124m\"\u001B[39m\n\u001B[0;32m-> 1661\u001B[0m \u001B[38;5;28mself\u001B[39m\u001B[38;5;241m.\u001B[39mhandles \u001B[38;5;241m=\u001B[39m \u001B[43mget_handle\u001B[49m\u001B[43m(\u001B[49m\n\u001B[1;32m   1662\u001B[0m \u001B[43m    \u001B[49m\u001B[43mf\u001B[49m\u001B[43m,\u001B[49m\n\u001B[1;32m   1663\u001B[0m \u001B[43m    \u001B[49m\u001B[43mmode\u001B[49m\u001B[43m,\u001B[49m\n\u001B[1;32m   1664\u001B[0m \u001B[43m    \u001B[49m\u001B[43mencoding\u001B[49m\u001B[38;5;241;43m=\u001B[39;49m\u001B[38;5;28;43mself\u001B[39;49m\u001B[38;5;241;43m.\u001B[39;49m\u001B[43moptions\u001B[49m\u001B[38;5;241;43m.\u001B[39;49m\u001B[43mget\u001B[49m\u001B[43m(\u001B[49m\u001B[38;5;124;43m\"\u001B[39;49m\u001B[38;5;124;43mencoding\u001B[39;49m\u001B[38;5;124;43m\"\u001B[39;49m\u001B[43m,\u001B[49m\u001B[43m \u001B[49m\u001B[38;5;28;43;01mNone\u001B[39;49;00m\u001B[43m)\u001B[49m\u001B[43m,\u001B[49m\n\u001B[1;32m   1665\u001B[0m \u001B[43m    \u001B[49m\u001B[43mcompression\u001B[49m\u001B[38;5;241;43m=\u001B[39;49m\u001B[38;5;28;43mself\u001B[39;49m\u001B[38;5;241;43m.\u001B[39;49m\u001B[43moptions\u001B[49m\u001B[38;5;241;43m.\u001B[39;49m\u001B[43mget\u001B[49m\u001B[43m(\u001B[49m\u001B[38;5;124;43m\"\u001B[39;49m\u001B[38;5;124;43mcompression\u001B[39;49m\u001B[38;5;124;43m\"\u001B[39;49m\u001B[43m,\u001B[49m\u001B[43m \u001B[49m\u001B[38;5;28;43;01mNone\u001B[39;49;00m\u001B[43m)\u001B[49m\u001B[43m,\u001B[49m\n\u001B[1;32m   1666\u001B[0m \u001B[43m    \u001B[49m\u001B[43mmemory_map\u001B[49m\u001B[38;5;241;43m=\u001B[39;49m\u001B[38;5;28;43mself\u001B[39;49m\u001B[38;5;241;43m.\u001B[39;49m\u001B[43moptions\u001B[49m\u001B[38;5;241;43m.\u001B[39;49m\u001B[43mget\u001B[49m\u001B[43m(\u001B[49m\u001B[38;5;124;43m\"\u001B[39;49m\u001B[38;5;124;43mmemory_map\u001B[39;49m\u001B[38;5;124;43m\"\u001B[39;49m\u001B[43m,\u001B[49m\u001B[43m \u001B[49m\u001B[38;5;28;43;01mFalse\u001B[39;49;00m\u001B[43m)\u001B[49m\u001B[43m,\u001B[49m\n\u001B[1;32m   1667\u001B[0m \u001B[43m    \u001B[49m\u001B[43mis_text\u001B[49m\u001B[38;5;241;43m=\u001B[39;49m\u001B[43mis_text\u001B[49m\u001B[43m,\u001B[49m\n\u001B[1;32m   1668\u001B[0m \u001B[43m    \u001B[49m\u001B[43merrors\u001B[49m\u001B[38;5;241;43m=\u001B[39;49m\u001B[38;5;28;43mself\u001B[39;49m\u001B[38;5;241;43m.\u001B[39;49m\u001B[43moptions\u001B[49m\u001B[38;5;241;43m.\u001B[39;49m\u001B[43mget\u001B[49m\u001B[43m(\u001B[49m\u001B[38;5;124;43m\"\u001B[39;49m\u001B[38;5;124;43mencoding_errors\u001B[39;49m\u001B[38;5;124;43m\"\u001B[39;49m\u001B[43m,\u001B[49m\u001B[43m \u001B[49m\u001B[38;5;124;43m\"\u001B[39;49m\u001B[38;5;124;43mstrict\u001B[39;49m\u001B[38;5;124;43m\"\u001B[39;49m\u001B[43m)\u001B[49m\u001B[43m,\u001B[49m\n\u001B[1;32m   1669\u001B[0m \u001B[43m    \u001B[49m\u001B[43mstorage_options\u001B[49m\u001B[38;5;241;43m=\u001B[39;49m\u001B[38;5;28;43mself\u001B[39;49m\u001B[38;5;241;43m.\u001B[39;49m\u001B[43moptions\u001B[49m\u001B[38;5;241;43m.\u001B[39;49m\u001B[43mget\u001B[49m\u001B[43m(\u001B[49m\u001B[38;5;124;43m\"\u001B[39;49m\u001B[38;5;124;43mstorage_options\u001B[39;49m\u001B[38;5;124;43m\"\u001B[39;49m\u001B[43m,\u001B[49m\u001B[43m \u001B[49m\u001B[38;5;28;43;01mNone\u001B[39;49;00m\u001B[43m)\u001B[49m\u001B[43m,\u001B[49m\n\u001B[1;32m   1670\u001B[0m \u001B[43m\u001B[49m\u001B[43m)\u001B[49m\n\u001B[1;32m   1671\u001B[0m \u001B[38;5;28;01massert\u001B[39;00m \u001B[38;5;28mself\u001B[39m\u001B[38;5;241m.\u001B[39mhandles \u001B[38;5;129;01mis\u001B[39;00m \u001B[38;5;129;01mnot\u001B[39;00m \u001B[38;5;28;01mNone\u001B[39;00m\n\u001B[1;32m   1672\u001B[0m f \u001B[38;5;241m=\u001B[39m \u001B[38;5;28mself\u001B[39m\u001B[38;5;241m.\u001B[39mhandles\u001B[38;5;241m.\u001B[39mhandle\n",
      "File \u001B[0;32m~/Library/Python/3.8/lib/python/site-packages/pandas/io/common.py:859\u001B[0m, in \u001B[0;36mget_handle\u001B[0;34m(path_or_buf, mode, encoding, compression, memory_map, is_text, errors, storage_options)\u001B[0m\n\u001B[1;32m    854\u001B[0m \u001B[38;5;28;01melif\u001B[39;00m \u001B[38;5;28misinstance\u001B[39m(handle, \u001B[38;5;28mstr\u001B[39m):\n\u001B[1;32m    855\u001B[0m     \u001B[38;5;66;03m# Check whether the filename is to be opened in binary mode.\u001B[39;00m\n\u001B[1;32m    856\u001B[0m     \u001B[38;5;66;03m# Binary mode does not support 'encoding' and 'newline'.\u001B[39;00m\n\u001B[1;32m    857\u001B[0m     \u001B[38;5;28;01mif\u001B[39;00m ioargs\u001B[38;5;241m.\u001B[39mencoding \u001B[38;5;129;01mand\u001B[39;00m \u001B[38;5;124m\"\u001B[39m\u001B[38;5;124mb\u001B[39m\u001B[38;5;124m\"\u001B[39m \u001B[38;5;129;01mnot\u001B[39;00m \u001B[38;5;129;01min\u001B[39;00m ioargs\u001B[38;5;241m.\u001B[39mmode:\n\u001B[1;32m    858\u001B[0m         \u001B[38;5;66;03m# Encoding\u001B[39;00m\n\u001B[0;32m--> 859\u001B[0m         handle \u001B[38;5;241m=\u001B[39m \u001B[38;5;28;43mopen\u001B[39;49m\u001B[43m(\u001B[49m\n\u001B[1;32m    860\u001B[0m \u001B[43m            \u001B[49m\u001B[43mhandle\u001B[49m\u001B[43m,\u001B[49m\n\u001B[1;32m    861\u001B[0m \u001B[43m            \u001B[49m\u001B[43mioargs\u001B[49m\u001B[38;5;241;43m.\u001B[39;49m\u001B[43mmode\u001B[49m\u001B[43m,\u001B[49m\n\u001B[1;32m    862\u001B[0m \u001B[43m            \u001B[49m\u001B[43mencoding\u001B[49m\u001B[38;5;241;43m=\u001B[39;49m\u001B[43mioargs\u001B[49m\u001B[38;5;241;43m.\u001B[39;49m\u001B[43mencoding\u001B[49m\u001B[43m,\u001B[49m\n\u001B[1;32m    863\u001B[0m \u001B[43m            \u001B[49m\u001B[43merrors\u001B[49m\u001B[38;5;241;43m=\u001B[39;49m\u001B[43merrors\u001B[49m\u001B[43m,\u001B[49m\n\u001B[1;32m    864\u001B[0m \u001B[43m            \u001B[49m\u001B[43mnewline\u001B[49m\u001B[38;5;241;43m=\u001B[39;49m\u001B[38;5;124;43m\"\u001B[39;49m\u001B[38;5;124;43m\"\u001B[39;49m\u001B[43m,\u001B[49m\n\u001B[1;32m    865\u001B[0m \u001B[43m        \u001B[49m\u001B[43m)\u001B[49m\n\u001B[1;32m    866\u001B[0m     \u001B[38;5;28;01melse\u001B[39;00m:\n\u001B[1;32m    867\u001B[0m         \u001B[38;5;66;03m# Binary mode\u001B[39;00m\n\u001B[1;32m    868\u001B[0m         handle \u001B[38;5;241m=\u001B[39m \u001B[38;5;28mopen\u001B[39m(handle, ioargs\u001B[38;5;241m.\u001B[39mmode)\n",
      "\u001B[0;31mFileNotFoundError\u001B[0m: [Errno 2] No such file or directory: '/Users/alessandros/Desktop/Assignment Data 2023-2024/game_lineups.csv'"
     ]
    }
   ],
   "execution_count": 15
  },
  {
   "metadata": {
    "ExecuteTime": {
     "end_time": "2025-01-12T17:08:35.234753Z",
     "start_time": "2025-01-12T17:08:35.180576Z"
    }
   },
   "cell_type": "code",
   "source": "games = pd.read_csv('/Users/alessandros/Desktop/Assignment Data 2023-2024/games.csv')",
   "id": "e0cc495b2df06c0d",
   "outputs": [
    {
     "ename": "FileNotFoundError",
     "evalue": "[Errno 2] No such file or directory: '/Users/alessandros/Desktop/Assignment Data 2023-2024/games.csv'",
     "output_type": "error",
     "traceback": [
      "\u001B[0;31m---------------------------------------------------------------------------\u001B[0m",
      "\u001B[0;31mFileNotFoundError\u001B[0m                         Traceback (most recent call last)",
      "Cell \u001B[0;32mIn[16], line 1\u001B[0m\n\u001B[0;32m----> 1\u001B[0m games \u001B[38;5;241m=\u001B[39m \u001B[43mpd\u001B[49m\u001B[38;5;241;43m.\u001B[39;49m\u001B[43mread_csv\u001B[49m\u001B[43m(\u001B[49m\u001B[38;5;124;43m'\u001B[39;49m\u001B[38;5;124;43m/Users/alessandros/Desktop/Assignment Data 2023-2024/games.csv\u001B[39;49m\u001B[38;5;124;43m'\u001B[39;49m\u001B[43m)\u001B[49m\n",
      "File \u001B[0;32m~/Library/Python/3.8/lib/python/site-packages/pandas/io/parsers/readers.py:912\u001B[0m, in \u001B[0;36mread_csv\u001B[0;34m(filepath_or_buffer, sep, delimiter, header, names, index_col, usecols, dtype, engine, converters, true_values, false_values, skipinitialspace, skiprows, skipfooter, nrows, na_values, keep_default_na, na_filter, verbose, skip_blank_lines, parse_dates, infer_datetime_format, keep_date_col, date_parser, date_format, dayfirst, cache_dates, iterator, chunksize, compression, thousands, decimal, lineterminator, quotechar, quoting, doublequote, escapechar, comment, encoding, encoding_errors, dialect, on_bad_lines, delim_whitespace, low_memory, memory_map, float_precision, storage_options, dtype_backend)\u001B[0m\n\u001B[1;32m    899\u001B[0m kwds_defaults \u001B[38;5;241m=\u001B[39m _refine_defaults_read(\n\u001B[1;32m    900\u001B[0m     dialect,\n\u001B[1;32m    901\u001B[0m     delimiter,\n\u001B[0;32m   (...)\u001B[0m\n\u001B[1;32m    908\u001B[0m     dtype_backend\u001B[38;5;241m=\u001B[39mdtype_backend,\n\u001B[1;32m    909\u001B[0m )\n\u001B[1;32m    910\u001B[0m kwds\u001B[38;5;241m.\u001B[39mupdate(kwds_defaults)\n\u001B[0;32m--> 912\u001B[0m \u001B[38;5;28;01mreturn\u001B[39;00m \u001B[43m_read\u001B[49m\u001B[43m(\u001B[49m\u001B[43mfilepath_or_buffer\u001B[49m\u001B[43m,\u001B[49m\u001B[43m \u001B[49m\u001B[43mkwds\u001B[49m\u001B[43m)\u001B[49m\n",
      "File \u001B[0;32m~/Library/Python/3.8/lib/python/site-packages/pandas/io/parsers/readers.py:577\u001B[0m, in \u001B[0;36m_read\u001B[0;34m(filepath_or_buffer, kwds)\u001B[0m\n\u001B[1;32m    574\u001B[0m _validate_names(kwds\u001B[38;5;241m.\u001B[39mget(\u001B[38;5;124m\"\u001B[39m\u001B[38;5;124mnames\u001B[39m\u001B[38;5;124m\"\u001B[39m, \u001B[38;5;28;01mNone\u001B[39;00m))\n\u001B[1;32m    576\u001B[0m \u001B[38;5;66;03m# Create the parser.\u001B[39;00m\n\u001B[0;32m--> 577\u001B[0m parser \u001B[38;5;241m=\u001B[39m \u001B[43mTextFileReader\u001B[49m\u001B[43m(\u001B[49m\u001B[43mfilepath_or_buffer\u001B[49m\u001B[43m,\u001B[49m\u001B[43m \u001B[49m\u001B[38;5;241;43m*\u001B[39;49m\u001B[38;5;241;43m*\u001B[39;49m\u001B[43mkwds\u001B[49m\u001B[43m)\u001B[49m\n\u001B[1;32m    579\u001B[0m \u001B[38;5;28;01mif\u001B[39;00m chunksize \u001B[38;5;129;01mor\u001B[39;00m iterator:\n\u001B[1;32m    580\u001B[0m     \u001B[38;5;28;01mreturn\u001B[39;00m parser\n",
      "File \u001B[0;32m~/Library/Python/3.8/lib/python/site-packages/pandas/io/parsers/readers.py:1407\u001B[0m, in \u001B[0;36mTextFileReader.__init__\u001B[0;34m(self, f, engine, **kwds)\u001B[0m\n\u001B[1;32m   1404\u001B[0m     \u001B[38;5;28mself\u001B[39m\u001B[38;5;241m.\u001B[39moptions[\u001B[38;5;124m\"\u001B[39m\u001B[38;5;124mhas_index_names\u001B[39m\u001B[38;5;124m\"\u001B[39m] \u001B[38;5;241m=\u001B[39m kwds[\u001B[38;5;124m\"\u001B[39m\u001B[38;5;124mhas_index_names\u001B[39m\u001B[38;5;124m\"\u001B[39m]\n\u001B[1;32m   1406\u001B[0m \u001B[38;5;28mself\u001B[39m\u001B[38;5;241m.\u001B[39mhandles: IOHandles \u001B[38;5;241m|\u001B[39m \u001B[38;5;28;01mNone\u001B[39;00m \u001B[38;5;241m=\u001B[39m \u001B[38;5;28;01mNone\u001B[39;00m\n\u001B[0;32m-> 1407\u001B[0m \u001B[38;5;28mself\u001B[39m\u001B[38;5;241m.\u001B[39m_engine \u001B[38;5;241m=\u001B[39m \u001B[38;5;28;43mself\u001B[39;49m\u001B[38;5;241;43m.\u001B[39;49m\u001B[43m_make_engine\u001B[49m\u001B[43m(\u001B[49m\u001B[43mf\u001B[49m\u001B[43m,\u001B[49m\u001B[43m \u001B[49m\u001B[38;5;28;43mself\u001B[39;49m\u001B[38;5;241;43m.\u001B[39;49m\u001B[43mengine\u001B[49m\u001B[43m)\u001B[49m\n",
      "File \u001B[0;32m~/Library/Python/3.8/lib/python/site-packages/pandas/io/parsers/readers.py:1661\u001B[0m, in \u001B[0;36mTextFileReader._make_engine\u001B[0;34m(self, f, engine)\u001B[0m\n\u001B[1;32m   1659\u001B[0m     \u001B[38;5;28;01mif\u001B[39;00m \u001B[38;5;124m\"\u001B[39m\u001B[38;5;124mb\u001B[39m\u001B[38;5;124m\"\u001B[39m \u001B[38;5;129;01mnot\u001B[39;00m \u001B[38;5;129;01min\u001B[39;00m mode:\n\u001B[1;32m   1660\u001B[0m         mode \u001B[38;5;241m+\u001B[39m\u001B[38;5;241m=\u001B[39m \u001B[38;5;124m\"\u001B[39m\u001B[38;5;124mb\u001B[39m\u001B[38;5;124m\"\u001B[39m\n\u001B[0;32m-> 1661\u001B[0m \u001B[38;5;28mself\u001B[39m\u001B[38;5;241m.\u001B[39mhandles \u001B[38;5;241m=\u001B[39m \u001B[43mget_handle\u001B[49m\u001B[43m(\u001B[49m\n\u001B[1;32m   1662\u001B[0m \u001B[43m    \u001B[49m\u001B[43mf\u001B[49m\u001B[43m,\u001B[49m\n\u001B[1;32m   1663\u001B[0m \u001B[43m    \u001B[49m\u001B[43mmode\u001B[49m\u001B[43m,\u001B[49m\n\u001B[1;32m   1664\u001B[0m \u001B[43m    \u001B[49m\u001B[43mencoding\u001B[49m\u001B[38;5;241;43m=\u001B[39;49m\u001B[38;5;28;43mself\u001B[39;49m\u001B[38;5;241;43m.\u001B[39;49m\u001B[43moptions\u001B[49m\u001B[38;5;241;43m.\u001B[39;49m\u001B[43mget\u001B[49m\u001B[43m(\u001B[49m\u001B[38;5;124;43m\"\u001B[39;49m\u001B[38;5;124;43mencoding\u001B[39;49m\u001B[38;5;124;43m\"\u001B[39;49m\u001B[43m,\u001B[49m\u001B[43m \u001B[49m\u001B[38;5;28;43;01mNone\u001B[39;49;00m\u001B[43m)\u001B[49m\u001B[43m,\u001B[49m\n\u001B[1;32m   1665\u001B[0m \u001B[43m    \u001B[49m\u001B[43mcompression\u001B[49m\u001B[38;5;241;43m=\u001B[39;49m\u001B[38;5;28;43mself\u001B[39;49m\u001B[38;5;241;43m.\u001B[39;49m\u001B[43moptions\u001B[49m\u001B[38;5;241;43m.\u001B[39;49m\u001B[43mget\u001B[49m\u001B[43m(\u001B[49m\u001B[38;5;124;43m\"\u001B[39;49m\u001B[38;5;124;43mcompression\u001B[39;49m\u001B[38;5;124;43m\"\u001B[39;49m\u001B[43m,\u001B[49m\u001B[43m \u001B[49m\u001B[38;5;28;43;01mNone\u001B[39;49;00m\u001B[43m)\u001B[49m\u001B[43m,\u001B[49m\n\u001B[1;32m   1666\u001B[0m \u001B[43m    \u001B[49m\u001B[43mmemory_map\u001B[49m\u001B[38;5;241;43m=\u001B[39;49m\u001B[38;5;28;43mself\u001B[39;49m\u001B[38;5;241;43m.\u001B[39;49m\u001B[43moptions\u001B[49m\u001B[38;5;241;43m.\u001B[39;49m\u001B[43mget\u001B[49m\u001B[43m(\u001B[49m\u001B[38;5;124;43m\"\u001B[39;49m\u001B[38;5;124;43mmemory_map\u001B[39;49m\u001B[38;5;124;43m\"\u001B[39;49m\u001B[43m,\u001B[49m\u001B[43m \u001B[49m\u001B[38;5;28;43;01mFalse\u001B[39;49;00m\u001B[43m)\u001B[49m\u001B[43m,\u001B[49m\n\u001B[1;32m   1667\u001B[0m \u001B[43m    \u001B[49m\u001B[43mis_text\u001B[49m\u001B[38;5;241;43m=\u001B[39;49m\u001B[43mis_text\u001B[49m\u001B[43m,\u001B[49m\n\u001B[1;32m   1668\u001B[0m \u001B[43m    \u001B[49m\u001B[43merrors\u001B[49m\u001B[38;5;241;43m=\u001B[39;49m\u001B[38;5;28;43mself\u001B[39;49m\u001B[38;5;241;43m.\u001B[39;49m\u001B[43moptions\u001B[49m\u001B[38;5;241;43m.\u001B[39;49m\u001B[43mget\u001B[49m\u001B[43m(\u001B[49m\u001B[38;5;124;43m\"\u001B[39;49m\u001B[38;5;124;43mencoding_errors\u001B[39;49m\u001B[38;5;124;43m\"\u001B[39;49m\u001B[43m,\u001B[49m\u001B[43m \u001B[49m\u001B[38;5;124;43m\"\u001B[39;49m\u001B[38;5;124;43mstrict\u001B[39;49m\u001B[38;5;124;43m\"\u001B[39;49m\u001B[43m)\u001B[49m\u001B[43m,\u001B[49m\n\u001B[1;32m   1669\u001B[0m \u001B[43m    \u001B[49m\u001B[43mstorage_options\u001B[49m\u001B[38;5;241;43m=\u001B[39;49m\u001B[38;5;28;43mself\u001B[39;49m\u001B[38;5;241;43m.\u001B[39;49m\u001B[43moptions\u001B[49m\u001B[38;5;241;43m.\u001B[39;49m\u001B[43mget\u001B[49m\u001B[43m(\u001B[49m\u001B[38;5;124;43m\"\u001B[39;49m\u001B[38;5;124;43mstorage_options\u001B[39;49m\u001B[38;5;124;43m\"\u001B[39;49m\u001B[43m,\u001B[49m\u001B[43m \u001B[49m\u001B[38;5;28;43;01mNone\u001B[39;49;00m\u001B[43m)\u001B[49m\u001B[43m,\u001B[49m\n\u001B[1;32m   1670\u001B[0m \u001B[43m\u001B[49m\u001B[43m)\u001B[49m\n\u001B[1;32m   1671\u001B[0m \u001B[38;5;28;01massert\u001B[39;00m \u001B[38;5;28mself\u001B[39m\u001B[38;5;241m.\u001B[39mhandles \u001B[38;5;129;01mis\u001B[39;00m \u001B[38;5;129;01mnot\u001B[39;00m \u001B[38;5;28;01mNone\u001B[39;00m\n\u001B[1;32m   1672\u001B[0m f \u001B[38;5;241m=\u001B[39m \u001B[38;5;28mself\u001B[39m\u001B[38;5;241m.\u001B[39mhandles\u001B[38;5;241m.\u001B[39mhandle\n",
      "File \u001B[0;32m~/Library/Python/3.8/lib/python/site-packages/pandas/io/common.py:859\u001B[0m, in \u001B[0;36mget_handle\u001B[0;34m(path_or_buf, mode, encoding, compression, memory_map, is_text, errors, storage_options)\u001B[0m\n\u001B[1;32m    854\u001B[0m \u001B[38;5;28;01melif\u001B[39;00m \u001B[38;5;28misinstance\u001B[39m(handle, \u001B[38;5;28mstr\u001B[39m):\n\u001B[1;32m    855\u001B[0m     \u001B[38;5;66;03m# Check whether the filename is to be opened in binary mode.\u001B[39;00m\n\u001B[1;32m    856\u001B[0m     \u001B[38;5;66;03m# Binary mode does not support 'encoding' and 'newline'.\u001B[39;00m\n\u001B[1;32m    857\u001B[0m     \u001B[38;5;28;01mif\u001B[39;00m ioargs\u001B[38;5;241m.\u001B[39mencoding \u001B[38;5;129;01mand\u001B[39;00m \u001B[38;5;124m\"\u001B[39m\u001B[38;5;124mb\u001B[39m\u001B[38;5;124m\"\u001B[39m \u001B[38;5;129;01mnot\u001B[39;00m \u001B[38;5;129;01min\u001B[39;00m ioargs\u001B[38;5;241m.\u001B[39mmode:\n\u001B[1;32m    858\u001B[0m         \u001B[38;5;66;03m# Encoding\u001B[39;00m\n\u001B[0;32m--> 859\u001B[0m         handle \u001B[38;5;241m=\u001B[39m \u001B[38;5;28;43mopen\u001B[39;49m\u001B[43m(\u001B[49m\n\u001B[1;32m    860\u001B[0m \u001B[43m            \u001B[49m\u001B[43mhandle\u001B[49m\u001B[43m,\u001B[49m\n\u001B[1;32m    861\u001B[0m \u001B[43m            \u001B[49m\u001B[43mioargs\u001B[49m\u001B[38;5;241;43m.\u001B[39;49m\u001B[43mmode\u001B[49m\u001B[43m,\u001B[49m\n\u001B[1;32m    862\u001B[0m \u001B[43m            \u001B[49m\u001B[43mencoding\u001B[49m\u001B[38;5;241;43m=\u001B[39;49m\u001B[43mioargs\u001B[49m\u001B[38;5;241;43m.\u001B[39;49m\u001B[43mencoding\u001B[49m\u001B[43m,\u001B[49m\n\u001B[1;32m    863\u001B[0m \u001B[43m            \u001B[49m\u001B[43merrors\u001B[49m\u001B[38;5;241;43m=\u001B[39;49m\u001B[43merrors\u001B[49m\u001B[43m,\u001B[49m\n\u001B[1;32m    864\u001B[0m \u001B[43m            \u001B[49m\u001B[43mnewline\u001B[49m\u001B[38;5;241;43m=\u001B[39;49m\u001B[38;5;124;43m\"\u001B[39;49m\u001B[38;5;124;43m\"\u001B[39;49m\u001B[43m,\u001B[49m\n\u001B[1;32m    865\u001B[0m \u001B[43m        \u001B[49m\u001B[43m)\u001B[49m\n\u001B[1;32m    866\u001B[0m     \u001B[38;5;28;01melse\u001B[39;00m:\n\u001B[1;32m    867\u001B[0m         \u001B[38;5;66;03m# Binary mode\u001B[39;00m\n\u001B[1;32m    868\u001B[0m         handle \u001B[38;5;241m=\u001B[39m \u001B[38;5;28mopen\u001B[39m(handle, ioargs\u001B[38;5;241m.\u001B[39mmode)\n",
      "\u001B[0;31mFileNotFoundError\u001B[0m: [Errno 2] No such file or directory: '/Users/alessandros/Desktop/Assignment Data 2023-2024/games.csv'"
     ]
    }
   ],
   "execution_count": 16
  },
  {
   "metadata": {
    "ExecuteTime": {
     "end_time": "2025-01-07T10:21:26.285781Z",
     "start_time": "2025-01-07T10:21:25.965562Z"
    }
   },
   "cell_type": "code",
   "source": "",
   "id": "a21a8b1657fdb4c3",
   "outputs": [
    {
     "ename": "TypeError",
     "evalue": "'tuple' object is not callable",
     "output_type": "error",
     "traceback": [
      "\u001B[0;31m---------------------------------------------------------------------------\u001B[0m",
      "\u001B[0;31mTypeError\u001B[0m                                 Traceback (most recent call last)",
      "Cell \u001B[0;32mIn[29], line 1\u001B[0m\n\u001B[0;32m----> 1\u001B[0m \u001B[43mgame_events\u001B[49m\u001B[38;5;241;43m.\u001B[39;49m\u001B[43mshape\u001B[49m\u001B[43m(\u001B[49m\u001B[43m)\u001B[49m\n",
      "\u001B[0;31mTypeError\u001B[0m: 'tuple' object is not callable"
     ]
    }
   ],
   "execution_count": 29
  },
  {
   "metadata": {
    "ExecuteTime": {
     "end_time": "2025-01-12T17:08:42.041286Z",
     "start_time": "2025-01-12T17:08:41.940484Z"
    }
   },
   "cell_type": "code",
   "source": "plt.figure(figsize=(10, 6))",
   "id": "433de6831790eaa2",
   "outputs": [
    {
     "data": {
      "text/plain": [
       "<Figure size 1000x600 with 0 Axes>"
      ]
     },
     "execution_count": 17,
     "metadata": {},
     "output_type": "execute_result"
    },
    {
     "data": {
      "text/plain": [
       "<Figure size 1000x600 with 0 Axes>"
      ]
     },
     "metadata": {},
     "output_type": "display_data"
    }
   ],
   "execution_count": 17
  },
  {
   "metadata": {
    "ExecuteTime": {
     "end_time": "2025-01-12T17:09:22.838757Z",
     "start_time": "2025-01-12T17:09:22.752053Z"
    }
   },
   "cell_type": "code",
   "source": "sns.countplot(x='column_name', data=game_events)  # Sostituisci 'column_name' con una colonna del file game_events",
   "id": "effacd8470ebe569",
   "outputs": [
    {
     "ename": "ValueError",
     "evalue": "Could not interpret value `column_name` for `x`. An entry with this name does not appear in `data`.",
     "output_type": "error",
     "traceback": [
      "\u001B[0;31m---------------------------------------------------------------------------\u001B[0m",
      "\u001B[0;31mValueError\u001B[0m                                Traceback (most recent call last)",
      "Cell \u001B[0;32mIn[33], line 1\u001B[0m\n\u001B[0;32m----> 1\u001B[0m \u001B[43msns\u001B[49m\u001B[38;5;241;43m.\u001B[39;49m\u001B[43mcountplot\u001B[49m\u001B[43m(\u001B[49m\u001B[43mx\u001B[49m\u001B[38;5;241;43m=\u001B[39;49m\u001B[38;5;124;43m'\u001B[39;49m\u001B[38;5;124;43mcolumn_name\u001B[39;49m\u001B[38;5;124;43m'\u001B[39;49m\u001B[43m,\u001B[49m\u001B[43m \u001B[49m\u001B[43mdata\u001B[49m\u001B[38;5;241;43m=\u001B[39;49m\u001B[43mgame_events\u001B[49m\u001B[43m)\u001B[49m  \u001B[38;5;66;03m# Sostituisci 'column_name' con una colonna del file game_events\u001B[39;00m\n",
      "File \u001B[0;32m~/Library/Python/3.8/lib/python/site-packages/seaborn/categorical.py:2631\u001B[0m, in \u001B[0;36mcountplot\u001B[0;34m(data, x, y, hue, order, hue_order, orient, color, palette, saturation, fill, hue_norm, stat, width, dodge, gap, log_scale, native_scale, formatter, legend, ax, **kwargs)\u001B[0m\n\u001B[1;32m   2628\u001B[0m \u001B[38;5;28;01melif\u001B[39;00m x \u001B[38;5;129;01mis\u001B[39;00m \u001B[38;5;129;01mnot\u001B[39;00m \u001B[38;5;28;01mNone\u001B[39;00m \u001B[38;5;129;01mand\u001B[39;00m y \u001B[38;5;129;01mis\u001B[39;00m \u001B[38;5;129;01mnot\u001B[39;00m \u001B[38;5;28;01mNone\u001B[39;00m:\n\u001B[1;32m   2629\u001B[0m     \u001B[38;5;28;01mraise\u001B[39;00m \u001B[38;5;167;01mTypeError\u001B[39;00m(\u001B[38;5;124m\"\u001B[39m\u001B[38;5;124mCannot pass values for both `x` and `y`.\u001B[39m\u001B[38;5;124m\"\u001B[39m)\n\u001B[0;32m-> 2631\u001B[0m p \u001B[38;5;241m=\u001B[39m \u001B[43m_CategoricalAggPlotter\u001B[49m\u001B[43m(\u001B[49m\n\u001B[1;32m   2632\u001B[0m \u001B[43m    \u001B[49m\u001B[43mdata\u001B[49m\u001B[38;5;241;43m=\u001B[39;49m\u001B[43mdata\u001B[49m\u001B[43m,\u001B[49m\n\u001B[1;32m   2633\u001B[0m \u001B[43m    \u001B[49m\u001B[43mvariables\u001B[49m\u001B[38;5;241;43m=\u001B[39;49m\u001B[38;5;28;43mdict\u001B[39;49m\u001B[43m(\u001B[49m\u001B[43mx\u001B[49m\u001B[38;5;241;43m=\u001B[39;49m\u001B[43mx\u001B[49m\u001B[43m,\u001B[49m\u001B[43m \u001B[49m\u001B[43my\u001B[49m\u001B[38;5;241;43m=\u001B[39;49m\u001B[43my\u001B[49m\u001B[43m,\u001B[49m\u001B[43m \u001B[49m\u001B[43mhue\u001B[49m\u001B[38;5;241;43m=\u001B[39;49m\u001B[43mhue\u001B[49m\u001B[43m)\u001B[49m\u001B[43m,\u001B[49m\n\u001B[1;32m   2634\u001B[0m \u001B[43m    \u001B[49m\u001B[43morder\u001B[49m\u001B[38;5;241;43m=\u001B[39;49m\u001B[43morder\u001B[49m\u001B[43m,\u001B[49m\n\u001B[1;32m   2635\u001B[0m \u001B[43m    \u001B[49m\u001B[43morient\u001B[49m\u001B[38;5;241;43m=\u001B[39;49m\u001B[43morient\u001B[49m\u001B[43m,\u001B[49m\n\u001B[1;32m   2636\u001B[0m \u001B[43m    \u001B[49m\u001B[43mcolor\u001B[49m\u001B[38;5;241;43m=\u001B[39;49m\u001B[43mcolor\u001B[49m\u001B[43m,\u001B[49m\n\u001B[1;32m   2637\u001B[0m \u001B[43m    \u001B[49m\u001B[43mlegend\u001B[49m\u001B[38;5;241;43m=\u001B[39;49m\u001B[43mlegend\u001B[49m\u001B[43m,\u001B[49m\n\u001B[1;32m   2638\u001B[0m \u001B[43m\u001B[49m\u001B[43m)\u001B[49m\n\u001B[1;32m   2640\u001B[0m \u001B[38;5;28;01mif\u001B[39;00m ax \u001B[38;5;129;01mis\u001B[39;00m \u001B[38;5;28;01mNone\u001B[39;00m:\n\u001B[1;32m   2641\u001B[0m     ax \u001B[38;5;241m=\u001B[39m plt\u001B[38;5;241m.\u001B[39mgca()\n",
      "File \u001B[0;32m~/Library/Python/3.8/lib/python/site-packages/seaborn/categorical.py:67\u001B[0m, in \u001B[0;36m_CategoricalPlotter.__init__\u001B[0;34m(self, data, variables, order, orient, require_numeric, color, legend)\u001B[0m\n\u001B[1;32m     56\u001B[0m \u001B[38;5;28;01mdef\u001B[39;00m\u001B[38;5;250m \u001B[39m\u001B[38;5;21m__init__\u001B[39m(\n\u001B[1;32m     57\u001B[0m     \u001B[38;5;28mself\u001B[39m,\n\u001B[1;32m     58\u001B[0m     data\u001B[38;5;241m=\u001B[39m\u001B[38;5;28;01mNone\u001B[39;00m,\n\u001B[0;32m   (...)\u001B[0m\n\u001B[1;32m     64\u001B[0m     legend\u001B[38;5;241m=\u001B[39m\u001B[38;5;124m\"\u001B[39m\u001B[38;5;124mauto\u001B[39m\u001B[38;5;124m\"\u001B[39m,\n\u001B[1;32m     65\u001B[0m ):\n\u001B[0;32m---> 67\u001B[0m     \u001B[38;5;28;43msuper\u001B[39;49m\u001B[43m(\u001B[49m\u001B[43m)\u001B[49m\u001B[38;5;241;43m.\u001B[39;49m\u001B[38;5;21;43m__init__\u001B[39;49m\u001B[43m(\u001B[49m\u001B[43mdata\u001B[49m\u001B[38;5;241;43m=\u001B[39;49m\u001B[43mdata\u001B[49m\u001B[43m,\u001B[49m\u001B[43m \u001B[49m\u001B[43mvariables\u001B[49m\u001B[38;5;241;43m=\u001B[39;49m\u001B[43mvariables\u001B[49m\u001B[43m)\u001B[49m\n\u001B[1;32m     69\u001B[0m     \u001B[38;5;66;03m# This method takes care of some bookkeeping that is necessary because the\u001B[39;00m\n\u001B[1;32m     70\u001B[0m     \u001B[38;5;66;03m# original categorical plots (prior to the 2021 refactor) had some rules that\u001B[39;00m\n\u001B[1;32m     71\u001B[0m     \u001B[38;5;66;03m# don't fit exactly into VectorPlotter logic. It may be wise to have a second\u001B[39;00m\n\u001B[0;32m   (...)\u001B[0m\n\u001B[1;32m     76\u001B[0m     \u001B[38;5;66;03m# default VectorPlotter rules. If we do decide to make orient part of the\u001B[39;00m\n\u001B[1;32m     77\u001B[0m     \u001B[38;5;66;03m# _base variable assignment, we'll want to figure out how to express that.\u001B[39;00m\n\u001B[1;32m     78\u001B[0m     \u001B[38;5;28;01mif\u001B[39;00m \u001B[38;5;28mself\u001B[39m\u001B[38;5;241m.\u001B[39minput_format \u001B[38;5;241m==\u001B[39m \u001B[38;5;124m\"\u001B[39m\u001B[38;5;124mwide\u001B[39m\u001B[38;5;124m\"\u001B[39m \u001B[38;5;129;01mand\u001B[39;00m orient \u001B[38;5;129;01min\u001B[39;00m [\u001B[38;5;124m\"\u001B[39m\u001B[38;5;124mh\u001B[39m\u001B[38;5;124m\"\u001B[39m, \u001B[38;5;124m\"\u001B[39m\u001B[38;5;124my\u001B[39m\u001B[38;5;124m\"\u001B[39m]:\n",
      "File \u001B[0;32m~/Library/Python/3.8/lib/python/site-packages/seaborn/_base.py:634\u001B[0m, in \u001B[0;36mVectorPlotter.__init__\u001B[0;34m(self, data, variables)\u001B[0m\n\u001B[1;32m    629\u001B[0m \u001B[38;5;66;03m# var_ordered is relevant only for categorical axis variables, and may\u001B[39;00m\n\u001B[1;32m    630\u001B[0m \u001B[38;5;66;03m# be better handled by an internal axis information object that tracks\u001B[39;00m\n\u001B[1;32m    631\u001B[0m \u001B[38;5;66;03m# such information and is set up by the scale_* methods. The analogous\u001B[39;00m\n\u001B[1;32m    632\u001B[0m \u001B[38;5;66;03m# information for numeric axes would be information about log scales.\u001B[39;00m\n\u001B[1;32m    633\u001B[0m \u001B[38;5;28mself\u001B[39m\u001B[38;5;241m.\u001B[39m_var_ordered \u001B[38;5;241m=\u001B[39m {\u001B[38;5;124m\"\u001B[39m\u001B[38;5;124mx\u001B[39m\u001B[38;5;124m\"\u001B[39m: \u001B[38;5;28;01mFalse\u001B[39;00m, \u001B[38;5;124m\"\u001B[39m\u001B[38;5;124my\u001B[39m\u001B[38;5;124m\"\u001B[39m: \u001B[38;5;28;01mFalse\u001B[39;00m}  \u001B[38;5;66;03m# alt., used DefaultDict\u001B[39;00m\n\u001B[0;32m--> 634\u001B[0m \u001B[38;5;28;43mself\u001B[39;49m\u001B[38;5;241;43m.\u001B[39;49m\u001B[43massign_variables\u001B[49m\u001B[43m(\u001B[49m\u001B[43mdata\u001B[49m\u001B[43m,\u001B[49m\u001B[43m \u001B[49m\u001B[43mvariables\u001B[49m\u001B[43m)\u001B[49m\n\u001B[1;32m    636\u001B[0m \u001B[38;5;66;03m# TODO Lots of tests assume that these are called to initialize the\u001B[39;00m\n\u001B[1;32m    637\u001B[0m \u001B[38;5;66;03m# mappings to default values on class initialization. I'd prefer to\u001B[39;00m\n\u001B[1;32m    638\u001B[0m \u001B[38;5;66;03m# move away from that and only have a mapping when explicitly called.\u001B[39;00m\n\u001B[1;32m    639\u001B[0m \u001B[38;5;28;01mfor\u001B[39;00m var \u001B[38;5;129;01min\u001B[39;00m [\u001B[38;5;124m\"\u001B[39m\u001B[38;5;124mhue\u001B[39m\u001B[38;5;124m\"\u001B[39m, \u001B[38;5;124m\"\u001B[39m\u001B[38;5;124msize\u001B[39m\u001B[38;5;124m\"\u001B[39m, \u001B[38;5;124m\"\u001B[39m\u001B[38;5;124mstyle\u001B[39m\u001B[38;5;124m\"\u001B[39m]:\n",
      "File \u001B[0;32m~/Library/Python/3.8/lib/python/site-packages/seaborn/_base.py:679\u001B[0m, in \u001B[0;36mVectorPlotter.assign_variables\u001B[0;34m(self, data, variables)\u001B[0m\n\u001B[1;32m    674\u001B[0m \u001B[38;5;28;01melse\u001B[39;00m:\n\u001B[1;32m    675\u001B[0m     \u001B[38;5;66;03m# When dealing with long-form input, use the newer PlotData\u001B[39;00m\n\u001B[1;32m    676\u001B[0m     \u001B[38;5;66;03m# object (internal but introduced for the objects interface)\u001B[39;00m\n\u001B[1;32m    677\u001B[0m     \u001B[38;5;66;03m# to centralize / standardize data consumption logic.\u001B[39;00m\n\u001B[1;32m    678\u001B[0m     \u001B[38;5;28mself\u001B[39m\u001B[38;5;241m.\u001B[39minput_format \u001B[38;5;241m=\u001B[39m \u001B[38;5;124m\"\u001B[39m\u001B[38;5;124mlong\u001B[39m\u001B[38;5;124m\"\u001B[39m\n\u001B[0;32m--> 679\u001B[0m     plot_data \u001B[38;5;241m=\u001B[39m \u001B[43mPlotData\u001B[49m\u001B[43m(\u001B[49m\u001B[43mdata\u001B[49m\u001B[43m,\u001B[49m\u001B[43m \u001B[49m\u001B[43mvariables\u001B[49m\u001B[43m)\u001B[49m\n\u001B[1;32m    680\u001B[0m     frame \u001B[38;5;241m=\u001B[39m plot_data\u001B[38;5;241m.\u001B[39mframe\n\u001B[1;32m    681\u001B[0m     names \u001B[38;5;241m=\u001B[39m plot_data\u001B[38;5;241m.\u001B[39mnames\n",
      "File \u001B[0;32m~/Library/Python/3.8/lib/python/site-packages/seaborn/_core/data.py:58\u001B[0m, in \u001B[0;36mPlotData.__init__\u001B[0;34m(self, data, variables)\u001B[0m\n\u001B[1;32m     51\u001B[0m \u001B[38;5;28;01mdef\u001B[39;00m\u001B[38;5;250m \u001B[39m\u001B[38;5;21m__init__\u001B[39m(\n\u001B[1;32m     52\u001B[0m     \u001B[38;5;28mself\u001B[39m,\n\u001B[1;32m     53\u001B[0m     data: DataSource,\n\u001B[1;32m     54\u001B[0m     variables: \u001B[38;5;28mdict\u001B[39m[\u001B[38;5;28mstr\u001B[39m, VariableSpec],\n\u001B[1;32m     55\u001B[0m ):\n\u001B[1;32m     57\u001B[0m     data \u001B[38;5;241m=\u001B[39m handle_data_source(data)\n\u001B[0;32m---> 58\u001B[0m     frame, names, ids \u001B[38;5;241m=\u001B[39m \u001B[38;5;28;43mself\u001B[39;49m\u001B[38;5;241;43m.\u001B[39;49m\u001B[43m_assign_variables\u001B[49m\u001B[43m(\u001B[49m\u001B[43mdata\u001B[49m\u001B[43m,\u001B[49m\u001B[43m \u001B[49m\u001B[43mvariables\u001B[49m\u001B[43m)\u001B[49m\n\u001B[1;32m     60\u001B[0m     \u001B[38;5;28mself\u001B[39m\u001B[38;5;241m.\u001B[39mframe \u001B[38;5;241m=\u001B[39m frame\n\u001B[1;32m     61\u001B[0m     \u001B[38;5;28mself\u001B[39m\u001B[38;5;241m.\u001B[39mnames \u001B[38;5;241m=\u001B[39m names\n",
      "File \u001B[0;32m~/Library/Python/3.8/lib/python/site-packages/seaborn/_core/data.py:232\u001B[0m, in \u001B[0;36mPlotData._assign_variables\u001B[0;34m(self, data, variables)\u001B[0m\n\u001B[1;32m    230\u001B[0m     \u001B[38;5;28;01melse\u001B[39;00m:\n\u001B[1;32m    231\u001B[0m         err \u001B[38;5;241m+\u001B[39m\u001B[38;5;241m=\u001B[39m \u001B[38;5;124m\"\u001B[39m\u001B[38;5;124mAn entry with this name does not appear in `data`.\u001B[39m\u001B[38;5;124m\"\u001B[39m\n\u001B[0;32m--> 232\u001B[0m     \u001B[38;5;28;01mraise\u001B[39;00m \u001B[38;5;167;01mValueError\u001B[39;00m(err)\n\u001B[1;32m    234\u001B[0m \u001B[38;5;28;01melse\u001B[39;00m:\n\u001B[1;32m    235\u001B[0m \n\u001B[1;32m    236\u001B[0m     \u001B[38;5;66;03m# Otherwise, assume the value somehow represents data\u001B[39;00m\n\u001B[1;32m    237\u001B[0m \n\u001B[1;32m    238\u001B[0m     \u001B[38;5;66;03m# Ignore empty data structures\u001B[39;00m\n\u001B[1;32m    239\u001B[0m     \u001B[38;5;28;01mif\u001B[39;00m \u001B[38;5;28misinstance\u001B[39m(val, Sized) \u001B[38;5;129;01mand\u001B[39;00m \u001B[38;5;28mlen\u001B[39m(val) \u001B[38;5;241m==\u001B[39m \u001B[38;5;241m0\u001B[39m:\n",
      "\u001B[0;31mValueError\u001B[0m: Could not interpret value `column_name` for `x`. An entry with this name does not appear in `data`."
     ]
    }
   ],
   "execution_count": 33
  },
  {
   "metadata": {
    "ExecuteTime": {
     "end_time": "2025-01-12T17:08:45.504908Z",
     "start_time": "2025-01-12T17:08:45.500289Z"
    }
   },
   "cell_type": "code",
   "source": "print(game_events.columns)",
   "id": "2085a1f01f873d6b",
   "outputs": [
    {
     "name": "stdout",
     "output_type": "stream",
     "text": [
      "Index(['game_event_id', 'date', 'game_id', 'minute', 'type', 'club_id',\n",
      "       'player_id', 'description', 'player_in_id', 'player_assist_id'],\n",
      "      dtype='object')\n"
     ]
    }
   ],
   "execution_count": 19
  },
  {
   "metadata": {
    "ExecuteTime": {
     "end_time": "2025-01-12T17:08:46.819533Z",
     "start_time": "2025-01-12T17:08:46.817242Z"
    }
   },
   "cell_type": "code",
   "source": "import pandas as pd",
   "id": "47304fa772895305",
   "outputs": [],
   "execution_count": 20
  },
  {
   "metadata": {
    "ExecuteTime": {
     "end_time": "2025-01-12T17:08:47.999673Z",
     "start_time": "2025-01-12T17:08:47.997798Z"
    }
   },
   "cell_type": "code",
   "source": "import seaborn as sns",
   "id": "15b845082aaf4e5b",
   "outputs": [],
   "execution_count": 21
  },
  {
   "metadata": {
    "ExecuteTime": {
     "end_time": "2025-01-12T17:08:49.143651Z",
     "start_time": "2025-01-12T17:08:49.081884Z"
    }
   },
   "cell_type": "code",
   "source": "game_events = pd.read_csv('/Users/alessandros/Desktop/Assignment Data 2023-2024/game_events.csv')",
   "id": "885cc7645235ef64",
   "outputs": [
    {
     "ename": "FileNotFoundError",
     "evalue": "[Errno 2] No such file or directory: '/Users/alessandros/Desktop/Assignment Data 2023-2024/game_events.csv'",
     "output_type": "error",
     "traceback": [
      "\u001B[0;31m---------------------------------------------------------------------------\u001B[0m",
      "\u001B[0;31mFileNotFoundError\u001B[0m                         Traceback (most recent call last)",
      "Cell \u001B[0;32mIn[22], line 1\u001B[0m\n\u001B[0;32m----> 1\u001B[0m game_events \u001B[38;5;241m=\u001B[39m \u001B[43mpd\u001B[49m\u001B[38;5;241;43m.\u001B[39;49m\u001B[43mread_csv\u001B[49m\u001B[43m(\u001B[49m\u001B[38;5;124;43m'\u001B[39;49m\u001B[38;5;124;43m/Users/alessandros/Desktop/Assignment Data 2023-2024/game_events.csv\u001B[39;49m\u001B[38;5;124;43m'\u001B[39;49m\u001B[43m)\u001B[49m\n",
      "File \u001B[0;32m~/Library/Python/3.8/lib/python/site-packages/pandas/io/parsers/readers.py:912\u001B[0m, in \u001B[0;36mread_csv\u001B[0;34m(filepath_or_buffer, sep, delimiter, header, names, index_col, usecols, dtype, engine, converters, true_values, false_values, skipinitialspace, skiprows, skipfooter, nrows, na_values, keep_default_na, na_filter, verbose, skip_blank_lines, parse_dates, infer_datetime_format, keep_date_col, date_parser, date_format, dayfirst, cache_dates, iterator, chunksize, compression, thousands, decimal, lineterminator, quotechar, quoting, doublequote, escapechar, comment, encoding, encoding_errors, dialect, on_bad_lines, delim_whitespace, low_memory, memory_map, float_precision, storage_options, dtype_backend)\u001B[0m\n\u001B[1;32m    899\u001B[0m kwds_defaults \u001B[38;5;241m=\u001B[39m _refine_defaults_read(\n\u001B[1;32m    900\u001B[0m     dialect,\n\u001B[1;32m    901\u001B[0m     delimiter,\n\u001B[0;32m   (...)\u001B[0m\n\u001B[1;32m    908\u001B[0m     dtype_backend\u001B[38;5;241m=\u001B[39mdtype_backend,\n\u001B[1;32m    909\u001B[0m )\n\u001B[1;32m    910\u001B[0m kwds\u001B[38;5;241m.\u001B[39mupdate(kwds_defaults)\n\u001B[0;32m--> 912\u001B[0m \u001B[38;5;28;01mreturn\u001B[39;00m \u001B[43m_read\u001B[49m\u001B[43m(\u001B[49m\u001B[43mfilepath_or_buffer\u001B[49m\u001B[43m,\u001B[49m\u001B[43m \u001B[49m\u001B[43mkwds\u001B[49m\u001B[43m)\u001B[49m\n",
      "File \u001B[0;32m~/Library/Python/3.8/lib/python/site-packages/pandas/io/parsers/readers.py:577\u001B[0m, in \u001B[0;36m_read\u001B[0;34m(filepath_or_buffer, kwds)\u001B[0m\n\u001B[1;32m    574\u001B[0m _validate_names(kwds\u001B[38;5;241m.\u001B[39mget(\u001B[38;5;124m\"\u001B[39m\u001B[38;5;124mnames\u001B[39m\u001B[38;5;124m\"\u001B[39m, \u001B[38;5;28;01mNone\u001B[39;00m))\n\u001B[1;32m    576\u001B[0m \u001B[38;5;66;03m# Create the parser.\u001B[39;00m\n\u001B[0;32m--> 577\u001B[0m parser \u001B[38;5;241m=\u001B[39m \u001B[43mTextFileReader\u001B[49m\u001B[43m(\u001B[49m\u001B[43mfilepath_or_buffer\u001B[49m\u001B[43m,\u001B[49m\u001B[43m \u001B[49m\u001B[38;5;241;43m*\u001B[39;49m\u001B[38;5;241;43m*\u001B[39;49m\u001B[43mkwds\u001B[49m\u001B[43m)\u001B[49m\n\u001B[1;32m    579\u001B[0m \u001B[38;5;28;01mif\u001B[39;00m chunksize \u001B[38;5;129;01mor\u001B[39;00m iterator:\n\u001B[1;32m    580\u001B[0m     \u001B[38;5;28;01mreturn\u001B[39;00m parser\n",
      "File \u001B[0;32m~/Library/Python/3.8/lib/python/site-packages/pandas/io/parsers/readers.py:1407\u001B[0m, in \u001B[0;36mTextFileReader.__init__\u001B[0;34m(self, f, engine, **kwds)\u001B[0m\n\u001B[1;32m   1404\u001B[0m     \u001B[38;5;28mself\u001B[39m\u001B[38;5;241m.\u001B[39moptions[\u001B[38;5;124m\"\u001B[39m\u001B[38;5;124mhas_index_names\u001B[39m\u001B[38;5;124m\"\u001B[39m] \u001B[38;5;241m=\u001B[39m kwds[\u001B[38;5;124m\"\u001B[39m\u001B[38;5;124mhas_index_names\u001B[39m\u001B[38;5;124m\"\u001B[39m]\n\u001B[1;32m   1406\u001B[0m \u001B[38;5;28mself\u001B[39m\u001B[38;5;241m.\u001B[39mhandles: IOHandles \u001B[38;5;241m|\u001B[39m \u001B[38;5;28;01mNone\u001B[39;00m \u001B[38;5;241m=\u001B[39m \u001B[38;5;28;01mNone\u001B[39;00m\n\u001B[0;32m-> 1407\u001B[0m \u001B[38;5;28mself\u001B[39m\u001B[38;5;241m.\u001B[39m_engine \u001B[38;5;241m=\u001B[39m \u001B[38;5;28;43mself\u001B[39;49m\u001B[38;5;241;43m.\u001B[39;49m\u001B[43m_make_engine\u001B[49m\u001B[43m(\u001B[49m\u001B[43mf\u001B[49m\u001B[43m,\u001B[49m\u001B[43m \u001B[49m\u001B[38;5;28;43mself\u001B[39;49m\u001B[38;5;241;43m.\u001B[39;49m\u001B[43mengine\u001B[49m\u001B[43m)\u001B[49m\n",
      "File \u001B[0;32m~/Library/Python/3.8/lib/python/site-packages/pandas/io/parsers/readers.py:1661\u001B[0m, in \u001B[0;36mTextFileReader._make_engine\u001B[0;34m(self, f, engine)\u001B[0m\n\u001B[1;32m   1659\u001B[0m     \u001B[38;5;28;01mif\u001B[39;00m \u001B[38;5;124m\"\u001B[39m\u001B[38;5;124mb\u001B[39m\u001B[38;5;124m\"\u001B[39m \u001B[38;5;129;01mnot\u001B[39;00m \u001B[38;5;129;01min\u001B[39;00m mode:\n\u001B[1;32m   1660\u001B[0m         mode \u001B[38;5;241m+\u001B[39m\u001B[38;5;241m=\u001B[39m \u001B[38;5;124m\"\u001B[39m\u001B[38;5;124mb\u001B[39m\u001B[38;5;124m\"\u001B[39m\n\u001B[0;32m-> 1661\u001B[0m \u001B[38;5;28mself\u001B[39m\u001B[38;5;241m.\u001B[39mhandles \u001B[38;5;241m=\u001B[39m \u001B[43mget_handle\u001B[49m\u001B[43m(\u001B[49m\n\u001B[1;32m   1662\u001B[0m \u001B[43m    \u001B[49m\u001B[43mf\u001B[49m\u001B[43m,\u001B[49m\n\u001B[1;32m   1663\u001B[0m \u001B[43m    \u001B[49m\u001B[43mmode\u001B[49m\u001B[43m,\u001B[49m\n\u001B[1;32m   1664\u001B[0m \u001B[43m    \u001B[49m\u001B[43mencoding\u001B[49m\u001B[38;5;241;43m=\u001B[39;49m\u001B[38;5;28;43mself\u001B[39;49m\u001B[38;5;241;43m.\u001B[39;49m\u001B[43moptions\u001B[49m\u001B[38;5;241;43m.\u001B[39;49m\u001B[43mget\u001B[49m\u001B[43m(\u001B[49m\u001B[38;5;124;43m\"\u001B[39;49m\u001B[38;5;124;43mencoding\u001B[39;49m\u001B[38;5;124;43m\"\u001B[39;49m\u001B[43m,\u001B[49m\u001B[43m \u001B[49m\u001B[38;5;28;43;01mNone\u001B[39;49;00m\u001B[43m)\u001B[49m\u001B[43m,\u001B[49m\n\u001B[1;32m   1665\u001B[0m \u001B[43m    \u001B[49m\u001B[43mcompression\u001B[49m\u001B[38;5;241;43m=\u001B[39;49m\u001B[38;5;28;43mself\u001B[39;49m\u001B[38;5;241;43m.\u001B[39;49m\u001B[43moptions\u001B[49m\u001B[38;5;241;43m.\u001B[39;49m\u001B[43mget\u001B[49m\u001B[43m(\u001B[49m\u001B[38;5;124;43m\"\u001B[39;49m\u001B[38;5;124;43mcompression\u001B[39;49m\u001B[38;5;124;43m\"\u001B[39;49m\u001B[43m,\u001B[49m\u001B[43m \u001B[49m\u001B[38;5;28;43;01mNone\u001B[39;49;00m\u001B[43m)\u001B[49m\u001B[43m,\u001B[49m\n\u001B[1;32m   1666\u001B[0m \u001B[43m    \u001B[49m\u001B[43mmemory_map\u001B[49m\u001B[38;5;241;43m=\u001B[39;49m\u001B[38;5;28;43mself\u001B[39;49m\u001B[38;5;241;43m.\u001B[39;49m\u001B[43moptions\u001B[49m\u001B[38;5;241;43m.\u001B[39;49m\u001B[43mget\u001B[49m\u001B[43m(\u001B[49m\u001B[38;5;124;43m\"\u001B[39;49m\u001B[38;5;124;43mmemory_map\u001B[39;49m\u001B[38;5;124;43m\"\u001B[39;49m\u001B[43m,\u001B[49m\u001B[43m \u001B[49m\u001B[38;5;28;43;01mFalse\u001B[39;49;00m\u001B[43m)\u001B[49m\u001B[43m,\u001B[49m\n\u001B[1;32m   1667\u001B[0m \u001B[43m    \u001B[49m\u001B[43mis_text\u001B[49m\u001B[38;5;241;43m=\u001B[39;49m\u001B[43mis_text\u001B[49m\u001B[43m,\u001B[49m\n\u001B[1;32m   1668\u001B[0m \u001B[43m    \u001B[49m\u001B[43merrors\u001B[49m\u001B[38;5;241;43m=\u001B[39;49m\u001B[38;5;28;43mself\u001B[39;49m\u001B[38;5;241;43m.\u001B[39;49m\u001B[43moptions\u001B[49m\u001B[38;5;241;43m.\u001B[39;49m\u001B[43mget\u001B[49m\u001B[43m(\u001B[49m\u001B[38;5;124;43m\"\u001B[39;49m\u001B[38;5;124;43mencoding_errors\u001B[39;49m\u001B[38;5;124;43m\"\u001B[39;49m\u001B[43m,\u001B[49m\u001B[43m \u001B[49m\u001B[38;5;124;43m\"\u001B[39;49m\u001B[38;5;124;43mstrict\u001B[39;49m\u001B[38;5;124;43m\"\u001B[39;49m\u001B[43m)\u001B[49m\u001B[43m,\u001B[49m\n\u001B[1;32m   1669\u001B[0m \u001B[43m    \u001B[49m\u001B[43mstorage_options\u001B[49m\u001B[38;5;241;43m=\u001B[39;49m\u001B[38;5;28;43mself\u001B[39;49m\u001B[38;5;241;43m.\u001B[39;49m\u001B[43moptions\u001B[49m\u001B[38;5;241;43m.\u001B[39;49m\u001B[43mget\u001B[49m\u001B[43m(\u001B[49m\u001B[38;5;124;43m\"\u001B[39;49m\u001B[38;5;124;43mstorage_options\u001B[39;49m\u001B[38;5;124;43m\"\u001B[39;49m\u001B[43m,\u001B[49m\u001B[43m \u001B[49m\u001B[38;5;28;43;01mNone\u001B[39;49;00m\u001B[43m)\u001B[49m\u001B[43m,\u001B[49m\n\u001B[1;32m   1670\u001B[0m \u001B[43m\u001B[49m\u001B[43m)\u001B[49m\n\u001B[1;32m   1671\u001B[0m \u001B[38;5;28;01massert\u001B[39;00m \u001B[38;5;28mself\u001B[39m\u001B[38;5;241m.\u001B[39mhandles \u001B[38;5;129;01mis\u001B[39;00m \u001B[38;5;129;01mnot\u001B[39;00m \u001B[38;5;28;01mNone\u001B[39;00m\n\u001B[1;32m   1672\u001B[0m f \u001B[38;5;241m=\u001B[39m \u001B[38;5;28mself\u001B[39m\u001B[38;5;241m.\u001B[39mhandles\u001B[38;5;241m.\u001B[39mhandle\n",
      "File \u001B[0;32m~/Library/Python/3.8/lib/python/site-packages/pandas/io/common.py:859\u001B[0m, in \u001B[0;36mget_handle\u001B[0;34m(path_or_buf, mode, encoding, compression, memory_map, is_text, errors, storage_options)\u001B[0m\n\u001B[1;32m    854\u001B[0m \u001B[38;5;28;01melif\u001B[39;00m \u001B[38;5;28misinstance\u001B[39m(handle, \u001B[38;5;28mstr\u001B[39m):\n\u001B[1;32m    855\u001B[0m     \u001B[38;5;66;03m# Check whether the filename is to be opened in binary mode.\u001B[39;00m\n\u001B[1;32m    856\u001B[0m     \u001B[38;5;66;03m# Binary mode does not support 'encoding' and 'newline'.\u001B[39;00m\n\u001B[1;32m    857\u001B[0m     \u001B[38;5;28;01mif\u001B[39;00m ioargs\u001B[38;5;241m.\u001B[39mencoding \u001B[38;5;129;01mand\u001B[39;00m \u001B[38;5;124m\"\u001B[39m\u001B[38;5;124mb\u001B[39m\u001B[38;5;124m\"\u001B[39m \u001B[38;5;129;01mnot\u001B[39;00m \u001B[38;5;129;01min\u001B[39;00m ioargs\u001B[38;5;241m.\u001B[39mmode:\n\u001B[1;32m    858\u001B[0m         \u001B[38;5;66;03m# Encoding\u001B[39;00m\n\u001B[0;32m--> 859\u001B[0m         handle \u001B[38;5;241m=\u001B[39m \u001B[38;5;28;43mopen\u001B[39;49m\u001B[43m(\u001B[49m\n\u001B[1;32m    860\u001B[0m \u001B[43m            \u001B[49m\u001B[43mhandle\u001B[49m\u001B[43m,\u001B[49m\n\u001B[1;32m    861\u001B[0m \u001B[43m            \u001B[49m\u001B[43mioargs\u001B[49m\u001B[38;5;241;43m.\u001B[39;49m\u001B[43mmode\u001B[49m\u001B[43m,\u001B[49m\n\u001B[1;32m    862\u001B[0m \u001B[43m            \u001B[49m\u001B[43mencoding\u001B[49m\u001B[38;5;241;43m=\u001B[39;49m\u001B[43mioargs\u001B[49m\u001B[38;5;241;43m.\u001B[39;49m\u001B[43mencoding\u001B[49m\u001B[43m,\u001B[49m\n\u001B[1;32m    863\u001B[0m \u001B[43m            \u001B[49m\u001B[43merrors\u001B[49m\u001B[38;5;241;43m=\u001B[39;49m\u001B[43merrors\u001B[49m\u001B[43m,\u001B[49m\n\u001B[1;32m    864\u001B[0m \u001B[43m            \u001B[49m\u001B[43mnewline\u001B[49m\u001B[38;5;241;43m=\u001B[39;49m\u001B[38;5;124;43m\"\u001B[39;49m\u001B[38;5;124;43m\"\u001B[39;49m\u001B[43m,\u001B[49m\n\u001B[1;32m    865\u001B[0m \u001B[43m        \u001B[49m\u001B[43m)\u001B[49m\n\u001B[1;32m    866\u001B[0m     \u001B[38;5;28;01melse\u001B[39;00m:\n\u001B[1;32m    867\u001B[0m         \u001B[38;5;66;03m# Binary mode\u001B[39;00m\n\u001B[1;32m    868\u001B[0m         handle \u001B[38;5;241m=\u001B[39m \u001B[38;5;28mopen\u001B[39m(handle, ioargs\u001B[38;5;241m.\u001B[39mmode)\n",
      "\u001B[0;31mFileNotFoundError\u001B[0m: [Errno 2] No such file or directory: '/Users/alessandros/Desktop/Assignment Data 2023-2024/game_events.csv'"
     ]
    }
   ],
   "execution_count": 22
  },
  {
   "metadata": {
    "ExecuteTime": {
     "end_time": "2025-01-12T17:08:55.756495Z",
     "start_time": "2025-01-12T17:08:55.753095Z"
    }
   },
   "cell_type": "code",
   "source": "print(game_events.columns)",
   "id": "2a705aa7798d34fa",
   "outputs": [
    {
     "name": "stdout",
     "output_type": "stream",
     "text": [
      "Index(['game_event_id', 'date', 'game_id', 'minute', 'type', 'club_id',\n",
      "       'player_id', 'description', 'player_in_id', 'player_assist_id'],\n",
      "      dtype='object')\n"
     ]
    }
   ],
   "execution_count": 23
  },
  {
   "metadata": {
    "ExecuteTime": {
     "end_time": "2025-01-12T17:08:57.528953Z",
     "start_time": "2025-01-12T17:08:57.515892Z"
    }
   },
   "cell_type": "code",
   "source": "plt.figure(figsize=(10, 6))",
   "id": "242f9c6ab63ac475",
   "outputs": [
    {
     "data": {
      "text/plain": [
       "<Figure size 1000x600 with 0 Axes>"
      ]
     },
     "execution_count": 24,
     "metadata": {},
     "output_type": "execute_result"
    },
    {
     "data": {
      "text/plain": [
       "<Figure size 1000x600 with 0 Axes>"
      ]
     },
     "metadata": {},
     "output_type": "display_data"
    }
   ],
   "execution_count": 24
  },
  {
   "metadata": {
    "ExecuteTime": {
     "end_time": "2025-01-12T17:08:59.285422Z",
     "start_time": "2025-01-12T17:08:59.206420Z"
    }
   },
   "cell_type": "code",
   "source": "sns.countplot(x='event_type', data=game_events)",
   "id": "2b7f488e664f359b",
   "outputs": [
    {
     "ename": "ValueError",
     "evalue": "Could not interpret value `event_type` for `x`. An entry with this name does not appear in `data`.",
     "output_type": "error",
     "traceback": [
      "\u001B[0;31m---------------------------------------------------------------------------\u001B[0m",
      "\u001B[0;31mValueError\u001B[0m                                Traceback (most recent call last)",
      "Cell \u001B[0;32mIn[25], line 1\u001B[0m\n\u001B[0;32m----> 1\u001B[0m \u001B[43msns\u001B[49m\u001B[38;5;241;43m.\u001B[39;49m\u001B[43mcountplot\u001B[49m\u001B[43m(\u001B[49m\u001B[43mx\u001B[49m\u001B[38;5;241;43m=\u001B[39;49m\u001B[38;5;124;43m'\u001B[39;49m\u001B[38;5;124;43mevent_type\u001B[39;49m\u001B[38;5;124;43m'\u001B[39;49m\u001B[43m,\u001B[49m\u001B[43m \u001B[49m\u001B[43mdata\u001B[49m\u001B[38;5;241;43m=\u001B[39;49m\u001B[43mgame_events\u001B[49m\u001B[43m)\u001B[49m\n",
      "File \u001B[0;32m~/Library/Python/3.8/lib/python/site-packages/seaborn/categorical.py:2631\u001B[0m, in \u001B[0;36mcountplot\u001B[0;34m(data, x, y, hue, order, hue_order, orient, color, palette, saturation, fill, hue_norm, stat, width, dodge, gap, log_scale, native_scale, formatter, legend, ax, **kwargs)\u001B[0m\n\u001B[1;32m   2628\u001B[0m \u001B[38;5;28;01melif\u001B[39;00m x \u001B[38;5;129;01mis\u001B[39;00m \u001B[38;5;129;01mnot\u001B[39;00m \u001B[38;5;28;01mNone\u001B[39;00m \u001B[38;5;129;01mand\u001B[39;00m y \u001B[38;5;129;01mis\u001B[39;00m \u001B[38;5;129;01mnot\u001B[39;00m \u001B[38;5;28;01mNone\u001B[39;00m:\n\u001B[1;32m   2629\u001B[0m     \u001B[38;5;28;01mraise\u001B[39;00m \u001B[38;5;167;01mTypeError\u001B[39;00m(\u001B[38;5;124m\"\u001B[39m\u001B[38;5;124mCannot pass values for both `x` and `y`.\u001B[39m\u001B[38;5;124m\"\u001B[39m)\n\u001B[0;32m-> 2631\u001B[0m p \u001B[38;5;241m=\u001B[39m \u001B[43m_CategoricalAggPlotter\u001B[49m\u001B[43m(\u001B[49m\n\u001B[1;32m   2632\u001B[0m \u001B[43m    \u001B[49m\u001B[43mdata\u001B[49m\u001B[38;5;241;43m=\u001B[39;49m\u001B[43mdata\u001B[49m\u001B[43m,\u001B[49m\n\u001B[1;32m   2633\u001B[0m \u001B[43m    \u001B[49m\u001B[43mvariables\u001B[49m\u001B[38;5;241;43m=\u001B[39;49m\u001B[38;5;28;43mdict\u001B[39;49m\u001B[43m(\u001B[49m\u001B[43mx\u001B[49m\u001B[38;5;241;43m=\u001B[39;49m\u001B[43mx\u001B[49m\u001B[43m,\u001B[49m\u001B[43m \u001B[49m\u001B[43my\u001B[49m\u001B[38;5;241;43m=\u001B[39;49m\u001B[43my\u001B[49m\u001B[43m,\u001B[49m\u001B[43m \u001B[49m\u001B[43mhue\u001B[49m\u001B[38;5;241;43m=\u001B[39;49m\u001B[43mhue\u001B[49m\u001B[43m)\u001B[49m\u001B[43m,\u001B[49m\n\u001B[1;32m   2634\u001B[0m \u001B[43m    \u001B[49m\u001B[43morder\u001B[49m\u001B[38;5;241;43m=\u001B[39;49m\u001B[43morder\u001B[49m\u001B[43m,\u001B[49m\n\u001B[1;32m   2635\u001B[0m \u001B[43m    \u001B[49m\u001B[43morient\u001B[49m\u001B[38;5;241;43m=\u001B[39;49m\u001B[43morient\u001B[49m\u001B[43m,\u001B[49m\n\u001B[1;32m   2636\u001B[0m \u001B[43m    \u001B[49m\u001B[43mcolor\u001B[49m\u001B[38;5;241;43m=\u001B[39;49m\u001B[43mcolor\u001B[49m\u001B[43m,\u001B[49m\n\u001B[1;32m   2637\u001B[0m \u001B[43m    \u001B[49m\u001B[43mlegend\u001B[49m\u001B[38;5;241;43m=\u001B[39;49m\u001B[43mlegend\u001B[49m\u001B[43m,\u001B[49m\n\u001B[1;32m   2638\u001B[0m \u001B[43m\u001B[49m\u001B[43m)\u001B[49m\n\u001B[1;32m   2640\u001B[0m \u001B[38;5;28;01mif\u001B[39;00m ax \u001B[38;5;129;01mis\u001B[39;00m \u001B[38;5;28;01mNone\u001B[39;00m:\n\u001B[1;32m   2641\u001B[0m     ax \u001B[38;5;241m=\u001B[39m plt\u001B[38;5;241m.\u001B[39mgca()\n",
      "File \u001B[0;32m~/Library/Python/3.8/lib/python/site-packages/seaborn/categorical.py:67\u001B[0m, in \u001B[0;36m_CategoricalPlotter.__init__\u001B[0;34m(self, data, variables, order, orient, require_numeric, color, legend)\u001B[0m\n\u001B[1;32m     56\u001B[0m \u001B[38;5;28;01mdef\u001B[39;00m\u001B[38;5;250m \u001B[39m\u001B[38;5;21m__init__\u001B[39m(\n\u001B[1;32m     57\u001B[0m     \u001B[38;5;28mself\u001B[39m,\n\u001B[1;32m     58\u001B[0m     data\u001B[38;5;241m=\u001B[39m\u001B[38;5;28;01mNone\u001B[39;00m,\n\u001B[0;32m   (...)\u001B[0m\n\u001B[1;32m     64\u001B[0m     legend\u001B[38;5;241m=\u001B[39m\u001B[38;5;124m\"\u001B[39m\u001B[38;5;124mauto\u001B[39m\u001B[38;5;124m\"\u001B[39m,\n\u001B[1;32m     65\u001B[0m ):\n\u001B[0;32m---> 67\u001B[0m     \u001B[38;5;28;43msuper\u001B[39;49m\u001B[43m(\u001B[49m\u001B[43m)\u001B[49m\u001B[38;5;241;43m.\u001B[39;49m\u001B[38;5;21;43m__init__\u001B[39;49m\u001B[43m(\u001B[49m\u001B[43mdata\u001B[49m\u001B[38;5;241;43m=\u001B[39;49m\u001B[43mdata\u001B[49m\u001B[43m,\u001B[49m\u001B[43m \u001B[49m\u001B[43mvariables\u001B[49m\u001B[38;5;241;43m=\u001B[39;49m\u001B[43mvariables\u001B[49m\u001B[43m)\u001B[49m\n\u001B[1;32m     69\u001B[0m     \u001B[38;5;66;03m# This method takes care of some bookkeeping that is necessary because the\u001B[39;00m\n\u001B[1;32m     70\u001B[0m     \u001B[38;5;66;03m# original categorical plots (prior to the 2021 refactor) had some rules that\u001B[39;00m\n\u001B[1;32m     71\u001B[0m     \u001B[38;5;66;03m# don't fit exactly into VectorPlotter logic. It may be wise to have a second\u001B[39;00m\n\u001B[0;32m   (...)\u001B[0m\n\u001B[1;32m     76\u001B[0m     \u001B[38;5;66;03m# default VectorPlotter rules. If we do decide to make orient part of the\u001B[39;00m\n\u001B[1;32m     77\u001B[0m     \u001B[38;5;66;03m# _base variable assignment, we'll want to figure out how to express that.\u001B[39;00m\n\u001B[1;32m     78\u001B[0m     \u001B[38;5;28;01mif\u001B[39;00m \u001B[38;5;28mself\u001B[39m\u001B[38;5;241m.\u001B[39minput_format \u001B[38;5;241m==\u001B[39m \u001B[38;5;124m\"\u001B[39m\u001B[38;5;124mwide\u001B[39m\u001B[38;5;124m\"\u001B[39m \u001B[38;5;129;01mand\u001B[39;00m orient \u001B[38;5;129;01min\u001B[39;00m [\u001B[38;5;124m\"\u001B[39m\u001B[38;5;124mh\u001B[39m\u001B[38;5;124m\"\u001B[39m, \u001B[38;5;124m\"\u001B[39m\u001B[38;5;124my\u001B[39m\u001B[38;5;124m\"\u001B[39m]:\n",
      "File \u001B[0;32m~/Library/Python/3.8/lib/python/site-packages/seaborn/_base.py:634\u001B[0m, in \u001B[0;36mVectorPlotter.__init__\u001B[0;34m(self, data, variables)\u001B[0m\n\u001B[1;32m    629\u001B[0m \u001B[38;5;66;03m# var_ordered is relevant only for categorical axis variables, and may\u001B[39;00m\n\u001B[1;32m    630\u001B[0m \u001B[38;5;66;03m# be better handled by an internal axis information object that tracks\u001B[39;00m\n\u001B[1;32m    631\u001B[0m \u001B[38;5;66;03m# such information and is set up by the scale_* methods. The analogous\u001B[39;00m\n\u001B[1;32m    632\u001B[0m \u001B[38;5;66;03m# information for numeric axes would be information about log scales.\u001B[39;00m\n\u001B[1;32m    633\u001B[0m \u001B[38;5;28mself\u001B[39m\u001B[38;5;241m.\u001B[39m_var_ordered \u001B[38;5;241m=\u001B[39m {\u001B[38;5;124m\"\u001B[39m\u001B[38;5;124mx\u001B[39m\u001B[38;5;124m\"\u001B[39m: \u001B[38;5;28;01mFalse\u001B[39;00m, \u001B[38;5;124m\"\u001B[39m\u001B[38;5;124my\u001B[39m\u001B[38;5;124m\"\u001B[39m: \u001B[38;5;28;01mFalse\u001B[39;00m}  \u001B[38;5;66;03m# alt., used DefaultDict\u001B[39;00m\n\u001B[0;32m--> 634\u001B[0m \u001B[38;5;28;43mself\u001B[39;49m\u001B[38;5;241;43m.\u001B[39;49m\u001B[43massign_variables\u001B[49m\u001B[43m(\u001B[49m\u001B[43mdata\u001B[49m\u001B[43m,\u001B[49m\u001B[43m \u001B[49m\u001B[43mvariables\u001B[49m\u001B[43m)\u001B[49m\n\u001B[1;32m    636\u001B[0m \u001B[38;5;66;03m# TODO Lots of tests assume that these are called to initialize the\u001B[39;00m\n\u001B[1;32m    637\u001B[0m \u001B[38;5;66;03m# mappings to default values on class initialization. I'd prefer to\u001B[39;00m\n\u001B[1;32m    638\u001B[0m \u001B[38;5;66;03m# move away from that and only have a mapping when explicitly called.\u001B[39;00m\n\u001B[1;32m    639\u001B[0m \u001B[38;5;28;01mfor\u001B[39;00m var \u001B[38;5;129;01min\u001B[39;00m [\u001B[38;5;124m\"\u001B[39m\u001B[38;5;124mhue\u001B[39m\u001B[38;5;124m\"\u001B[39m, \u001B[38;5;124m\"\u001B[39m\u001B[38;5;124msize\u001B[39m\u001B[38;5;124m\"\u001B[39m, \u001B[38;5;124m\"\u001B[39m\u001B[38;5;124mstyle\u001B[39m\u001B[38;5;124m\"\u001B[39m]:\n",
      "File \u001B[0;32m~/Library/Python/3.8/lib/python/site-packages/seaborn/_base.py:679\u001B[0m, in \u001B[0;36mVectorPlotter.assign_variables\u001B[0;34m(self, data, variables)\u001B[0m\n\u001B[1;32m    674\u001B[0m \u001B[38;5;28;01melse\u001B[39;00m:\n\u001B[1;32m    675\u001B[0m     \u001B[38;5;66;03m# When dealing with long-form input, use the newer PlotData\u001B[39;00m\n\u001B[1;32m    676\u001B[0m     \u001B[38;5;66;03m# object (internal but introduced for the objects interface)\u001B[39;00m\n\u001B[1;32m    677\u001B[0m     \u001B[38;5;66;03m# to centralize / standardize data consumption logic.\u001B[39;00m\n\u001B[1;32m    678\u001B[0m     \u001B[38;5;28mself\u001B[39m\u001B[38;5;241m.\u001B[39minput_format \u001B[38;5;241m=\u001B[39m \u001B[38;5;124m\"\u001B[39m\u001B[38;5;124mlong\u001B[39m\u001B[38;5;124m\"\u001B[39m\n\u001B[0;32m--> 679\u001B[0m     plot_data \u001B[38;5;241m=\u001B[39m \u001B[43mPlotData\u001B[49m\u001B[43m(\u001B[49m\u001B[43mdata\u001B[49m\u001B[43m,\u001B[49m\u001B[43m \u001B[49m\u001B[43mvariables\u001B[49m\u001B[43m)\u001B[49m\n\u001B[1;32m    680\u001B[0m     frame \u001B[38;5;241m=\u001B[39m plot_data\u001B[38;5;241m.\u001B[39mframe\n\u001B[1;32m    681\u001B[0m     names \u001B[38;5;241m=\u001B[39m plot_data\u001B[38;5;241m.\u001B[39mnames\n",
      "File \u001B[0;32m~/Library/Python/3.8/lib/python/site-packages/seaborn/_core/data.py:58\u001B[0m, in \u001B[0;36mPlotData.__init__\u001B[0;34m(self, data, variables)\u001B[0m\n\u001B[1;32m     51\u001B[0m \u001B[38;5;28;01mdef\u001B[39;00m\u001B[38;5;250m \u001B[39m\u001B[38;5;21m__init__\u001B[39m(\n\u001B[1;32m     52\u001B[0m     \u001B[38;5;28mself\u001B[39m,\n\u001B[1;32m     53\u001B[0m     data: DataSource,\n\u001B[1;32m     54\u001B[0m     variables: \u001B[38;5;28mdict\u001B[39m[\u001B[38;5;28mstr\u001B[39m, VariableSpec],\n\u001B[1;32m     55\u001B[0m ):\n\u001B[1;32m     57\u001B[0m     data \u001B[38;5;241m=\u001B[39m handle_data_source(data)\n\u001B[0;32m---> 58\u001B[0m     frame, names, ids \u001B[38;5;241m=\u001B[39m \u001B[38;5;28;43mself\u001B[39;49m\u001B[38;5;241;43m.\u001B[39;49m\u001B[43m_assign_variables\u001B[49m\u001B[43m(\u001B[49m\u001B[43mdata\u001B[49m\u001B[43m,\u001B[49m\u001B[43m \u001B[49m\u001B[43mvariables\u001B[49m\u001B[43m)\u001B[49m\n\u001B[1;32m     60\u001B[0m     \u001B[38;5;28mself\u001B[39m\u001B[38;5;241m.\u001B[39mframe \u001B[38;5;241m=\u001B[39m frame\n\u001B[1;32m     61\u001B[0m     \u001B[38;5;28mself\u001B[39m\u001B[38;5;241m.\u001B[39mnames \u001B[38;5;241m=\u001B[39m names\n",
      "File \u001B[0;32m~/Library/Python/3.8/lib/python/site-packages/seaborn/_core/data.py:232\u001B[0m, in \u001B[0;36mPlotData._assign_variables\u001B[0;34m(self, data, variables)\u001B[0m\n\u001B[1;32m    230\u001B[0m     \u001B[38;5;28;01melse\u001B[39;00m:\n\u001B[1;32m    231\u001B[0m         err \u001B[38;5;241m+\u001B[39m\u001B[38;5;241m=\u001B[39m \u001B[38;5;124m\"\u001B[39m\u001B[38;5;124mAn entry with this name does not appear in `data`.\u001B[39m\u001B[38;5;124m\"\u001B[39m\n\u001B[0;32m--> 232\u001B[0m     \u001B[38;5;28;01mraise\u001B[39;00m \u001B[38;5;167;01mValueError\u001B[39;00m(err)\n\u001B[1;32m    234\u001B[0m \u001B[38;5;28;01melse\u001B[39;00m:\n\u001B[1;32m    235\u001B[0m \n\u001B[1;32m    236\u001B[0m     \u001B[38;5;66;03m# Otherwise, assume the value somehow represents data\u001B[39;00m\n\u001B[1;32m    237\u001B[0m \n\u001B[1;32m    238\u001B[0m     \u001B[38;5;66;03m# Ignore empty data structures\u001B[39;00m\n\u001B[1;32m    239\u001B[0m     \u001B[38;5;28;01mif\u001B[39;00m \u001B[38;5;28misinstance\u001B[39m(val, Sized) \u001B[38;5;129;01mand\u001B[39;00m \u001B[38;5;28mlen\u001B[39m(val) \u001B[38;5;241m==\u001B[39m \u001B[38;5;241m0\u001B[39m:\n",
      "\u001B[0;31mValueError\u001B[0m: Could not interpret value `event_type` for `x`. An entry with this name does not appear in `data`."
     ]
    }
   ],
   "execution_count": 25
  },
  {
   "metadata": {
    "ExecuteTime": {
     "end_time": "2025-01-12T17:09:01.893407Z",
     "start_time": "2025-01-12T17:09:00.759396Z"
    }
   },
   "cell_type": "code",
   "source": "sns.countplot(x='type', data=game_events)",
   "id": "592eecabc1430ec0",
   "outputs": [
    {
     "data": {
      "text/plain": [
       "<Axes: xlabel='type', ylabel='count'>"
      ]
     },
     "execution_count": 26,
     "metadata": {},
     "output_type": "execute_result"
    },
    {
     "data": {
      "text/plain": [
       "<Figure size 640x480 with 1 Axes>"
      ],
      "image/png": "[encoded data removed]"
     },
     "metadata": {},
     "output_type": "display_data"
    }
   ],
   "execution_count": 26
  },
  {
   "metadata": {
    "ExecuteTime": {
     "end_time": "2025-01-12T17:09:04.318264Z",
     "start_time": "2025-01-12T17:09:04.168526Z"
    }
   },
   "cell_type": "code",
   "source": "plt.title('Distribuzione dei Tipi di Eventi')",
   "id": "364393e0d1205440",
   "outputs": [
    {
     "data": {
      "text/plain": [
       "Text(0.5, 1.0, 'Distribuzione dei Tipi di Eventi')"
      ]
     },
     "execution_count": 27,
     "metadata": {},
     "output_type": "execute_result"
    },
    {
     "data": {
      "text/plain": [
       "<Figure size 640x480 with 1 Axes>"
      ],
      "image/png": "[encoded data removed]"
     },
     "metadata": {},
     "output_type": "display_data"
    }
   ],
   "execution_count": 27
  },
  {
   "metadata": {
    "ExecuteTime": {
     "end_time": "2025-01-12T17:09:06.701472Z",
     "start_time": "2025-01-12T17:09:06.551452Z"
    }
   },
   "cell_type": "code",
   "source": "plt.xlabel('Tipo di Evento')",
   "id": "5d1ce853c9bab207",
   "outputs": [
    {
     "data": {
      "text/plain": [
       "Text(0.5, 0, 'Tipo di Evento')"
      ]
     },
     "execution_count": 28,
     "metadata": {},
     "output_type": "execute_result"
    },
    {
     "data": {
      "text/plain": [
       "<Figure size 640x480 with 1 Axes>"
      ],
      "image/png": "[encoded data removed]"
     },
     "metadata": {},
     "output_type": "display_data"
    }
   ],
   "execution_count": 28
  },
  {
   "metadata": {
    "ExecuteTime": {
     "end_time": "2025-01-12T17:09:09.303239Z",
     "start_time": "2025-01-12T17:09:08.953376Z"
    }
   },
   "cell_type": "code",
   "source": "plt.ylabel('Conteggio')",
   "id": "88313ff4f8920b43",
   "outputs": [
    {
     "data": {
      "text/plain": [
       "Text(0, 0.5, 'Conteggio')"
      ]
     },
     "execution_count": 29,
     "metadata": {},
     "output_type": "execute_result"
    },
    {
     "data": {
      "text/plain": [
       "<Figure size 640x480 with 1 Axes>"
      ],
      "image/png": "[encoded data removed]"
     },
     "metadata": {},
     "output_type": "display_data"
    }
   ],
   "execution_count": 29
  },
  {
   "metadata": {
    "ExecuteTime": {
     "end_time": "2025-01-12T17:09:12.756581Z",
     "start_time": "2025-01-12T17:09:12.566328Z"
    }
   },
   "cell_type": "code",
   "source": "plt.xticks(rotation=45)",
   "id": "cd89ede6c093c4e3",
   "outputs": [
    {
     "data": {
      "text/plain": [
       "(array([0. , 0.2, 0.4, 0.6, 0.8, 1. ]),\n",
       " [Text(0.0, 0, '0.0'),\n",
       "  Text(0.2, 0, '0.2'),\n",
       "  Text(0.4, 0, '0.4'),\n",
       "  Text(0.6000000000000001, 0, '0.6'),\n",
       "  Text(0.8, 0, '0.8'),\n",
       "  Text(1.0, 0, '1.0')])"
      ]
     },
     "execution_count": 30,
     "metadata": {},
     "output_type": "execute_result"
    },
    {
     "data": {
      "text/plain": [
       "<Figure size 640x480 with 1 Axes>"
      ],
      "image/png": "[encoded data removed]"
     },
     "metadata": {},
     "output_type": "display_data"
    }
   ],
   "execution_count": 30
  },
  {
   "metadata": {
    "ExecuteTime": {
     "end_time": "2025-01-12T17:09:17.051850Z",
     "start_time": "2025-01-12T17:09:17.048604Z"
    }
   },
   "cell_type": "code",
   "source": "plt.show()",
   "id": "85d8703448413fa1",
   "outputs": [],
   "execution_count": 31
  },
  {
   "metadata": {
    "ExecuteTime": {
     "end_time": "2025-01-12T17:09:18.493018Z",
     "start_time": "2025-01-12T17:09:18.490312Z"
    }
   },
   "cell_type": "code",
   "source": "plt.show()",
   "id": "2648f911f0fa63d",
   "outputs": [],
   "execution_count": 32
  },
  {
   "metadata": {
    "ExecuteTime": {
     "end_time": "2025-01-12T18:09:57.557957Z",
     "start_time": "2025-01-12T18:09:56.326988Z"
    }
   },
   "cell_type": "code",
   "source": "app = pd.read_csv(\"/Users/alessandros/Desktop/Assignment_Data_2023-2024/data/appearances.csv\")",
   "id": "aba87ee6a053f7da",
   "outputs": [],
   "execution_count": 38
  },
  {
   "metadata": {
    "ExecuteTime": {
     "end_time": "2025-01-12T18:10:18.939198Z",
     "start_time": "2025-01-12T18:10:18.935619Z"
    }
   },
   "cell_type": "code",
   "source": "app.shape",
   "id": "75454e611b79b62a",
   "outputs": [
    {
     "data": {
      "text/plain": [
       "(1507351, 13)"
      ]
     },
     "execution_count": 39,
     "metadata": {},
     "output_type": "execute_result"
    }
   ],
   "execution_count": 39
  },
  {
   "metadata": {
    "ExecuteTime": {
     "end_time": "2025-01-12T18:10:27.677991Z",
     "start_time": "2025-01-12T18:10:27.667179Z"
    }
   },
   "cell_type": "code",
   "source": "app.head()",
   "id": "42245dc24a991938",
   "outputs": [
    {
     "data": {
      "text/plain": [
       "    appearance_id  game_id  player_id  player_club_id  player_current_club_id  \\\n",
       "0   2231978_38004  2231978      38004             853                     235   \n",
       "1   2233748_79232  2233748      79232            8841                    2698   \n",
       "2   2234413_42792  2234413      42792            6251                     465   \n",
       "3   2234418_73333  2234418      73333            1274                    6646   \n",
       "4  2234421_122011  2234421     122011             195                    3008   \n",
       "\n",
       "         date       player_name competition_id  yellow_cards  red_cards  \\\n",
       "0  2012-07-03  Aurélien Joachim            CLQ             0          0   \n",
       "1  2012-07-05    Ruslan Abyshov            ELQ             0          0   \n",
       "2  2012-07-05       Sander Puri            ELQ             0          0   \n",
       "3  2012-07-05   Vegar Hedenstad            ELQ             0          0   \n",
       "4  2012-07-05  Markus Henriksen            ELQ             0          0   \n",
       "\n",
       "   goals  assists  minutes_played  \n",
       "0      2        0              90  \n",
       "1      0        0              90  \n",
       "2      0        0              45  \n",
       "3      0        0              90  \n",
       "4      0        1              90  "
      ],
      "text/html": [
       "<div>\n",
       "<style scoped>\n",
       "    .dataframe tbody tr th:only-of-type {\n",
       "        vertical-align: middle;\n",
       "    }\n",
       "\n",
       "    .dataframe tbody tr th {\n",
       "        vertical-align: top;\n",
       "    }\n",
       "\n",
       "    .dataframe thead th {\n",
       "        text-align: right;\n",
       "    }\n",
       "</style>\n",
       "<table border=\"1\" class=\"dataframe\">\n",
       "  <thead>\n",
       "    <tr style=\"text-align: right;\">\n",
       "      <th></th>\n",
       "      <th>appearance_id</th>\n",
       "      <th>game_id</th>\n",
       "      <th>player_id</th>\n",
       "      <th>player_club_id</th>\n",
       "      <th>player_current_club_id</th>\n",
       "      <th>date</th>\n",
       "      <th>player_name</th>\n",
       "      <th>competition_id</th>\n",
       "      <th>yellow_cards</th>\n",
       "      <th>red_cards</th>\n",
       "      <th>goals</th>\n",
       "      <th>assists</th>\n",
       "      <th>minutes_played</th>\n",
       "    </tr>\n",
       "  </thead>\n",
       "  <tbody>\n",
       "    <tr>\n",
       "      <th>0</th>\n",
       "      <td>2231978_38004</td>\n",
       "      <td>2231978</td>\n",
       "      <td>38004</td>\n",
       "      <td>853</td>\n",
       "      <td>235</td>\n",
       "      <td>2012-07-03</td>\n",
       "      <td>Aurélien Joachim</td>\n",
       "      <td>CLQ</td>\n",
       "      <td>0</td>\n",
       "      <td>0</td>\n",
       "      <td>2</td>\n",
       "      <td>0</td>\n",
       "      <td>90</td>\n",
       "    </tr>\n",
       "    <tr>\n",
       "      <th>1</th>\n",
       "      <td>2233748_79232</td>\n",
       "      <td>2233748</td>\n",
       "      <td>79232</td>\n",
       "      <td>8841</td>\n",
       "      <td>2698</td>\n",
       "      <td>2012-07-05</td>\n",
       "      <td>Ruslan Abyshov</td>\n",
       "      <td>ELQ</td>\n",
       "      <td>0</td>\n",
       "      <td>0</td>\n",
       "      <td>0</td>\n",
       "      <td>0</td>\n",
       "      <td>90</td>\n",
       "    </tr>\n",
       "    <tr>\n",
       "      <th>2</th>\n",
       "      <td>2234413_42792</td>\n",
       "      <td>2234413</td>\n",
       "      <td>42792</td>\n",
       "      <td>6251</td>\n",
       "      <td>465</td>\n",
       "      <td>2012-07-05</td>\n",
       "      <td>Sander Puri</td>\n",
       "      <td>ELQ</td>\n",
       "      <td>0</td>\n",
       "      <td>0</td>\n",
       "      <td>0</td>\n",
       "      <td>0</td>\n",
       "      <td>45</td>\n",
       "    </tr>\n",
       "    <tr>\n",
       "      <th>3</th>\n",
       "      <td>2234418_73333</td>\n",
       "      <td>2234418</td>\n",
       "      <td>73333</td>\n",
       "      <td>1274</td>\n",
       "      <td>6646</td>\n",
       "      <td>2012-07-05</td>\n",
       "      <td>Vegar Hedenstad</td>\n",
       "      <td>ELQ</td>\n",
       "      <td>0</td>\n",
       "      <td>0</td>\n",
       "      <td>0</td>\n",
       "      <td>0</td>\n",
       "      <td>90</td>\n",
       "    </tr>\n",
       "    <tr>\n",
       "      <th>4</th>\n",
       "      <td>2234421_122011</td>\n",
       "      <td>2234421</td>\n",
       "      <td>122011</td>\n",
       "      <td>195</td>\n",
       "      <td>3008</td>\n",
       "      <td>2012-07-05</td>\n",
       "      <td>Markus Henriksen</td>\n",
       "      <td>ELQ</td>\n",
       "      <td>0</td>\n",
       "      <td>0</td>\n",
       "      <td>0</td>\n",
       "      <td>1</td>\n",
       "      <td>90</td>\n",
       "    </tr>\n",
       "  </tbody>\n",
       "</table>\n",
       "</div>"
      ]
     },
     "execution_count": 40,
     "metadata": {},
     "output_type": "execute_result"
    }
   ],
   "execution_count": 40
  },
  {
   "metadata": {
    "ExecuteTime": {
     "end_time": "2025-01-12T18:10:47.859621Z",
     "start_time": "2025-01-12T18:10:47.853202Z"
    }
   },
   "cell_type": "code",
   "source": "app.columns",
   "id": "94ddfaa8fa358899",
   "outputs": [
    {
     "data": {
      "text/plain": [
       "Index(['appearance_id', 'game_id', 'player_id', 'player_club_id',\n",
       "       'player_current_club_id', 'date', 'player_name', 'competition_id',\n",
       "       'yellow_cards', 'red_cards', 'goals', 'assists', 'minutes_played'],\n",
       "      dtype='object')"
      ]
     },
     "execution_count": 41,
     "metadata": {},
     "output_type": "execute_result"
    }
   ],
   "execution_count": 41
  },
  {
   "metadata": {
    "ExecuteTime": {
     "end_time": "2025-01-12T18:10:57.994911Z",
     "start_time": "2025-01-12T18:10:57.750582Z"
    }
   },
   "cell_type": "code",
   "source": "app.describe()",
   "id": "a47fe672bfe06eac",
   "outputs": [
    {
     "data": {
      "text/plain": [
       "            game_id     player_id  player_club_id  player_current_club_id  \\\n",
       "count  1.507351e+06  1.507351e+06    1.507351e+06            1.507351e+06   \n",
       "mean   3.014718e+06  1.798913e+05    2.881502e+03            3.638909e+03   \n",
       "std    5.570794e+05  1.652259e+05    7.113885e+03            9.309395e+03   \n",
       "min    2.211607e+06  1.000000e+01    1.000000e+00           -1.000000e+00   \n",
       "25%    2.518634e+06  5.369600e+04    2.890000e+02            3.360000e+02   \n",
       "50%    2.917390e+06  1.271420e+05    8.550000e+02            9.310000e+02   \n",
       "75%    3.450701e+06  2.608060e+05    2.441000e+03            2.687000e+03   \n",
       "max    4.227848e+06  1.186012e+06    8.367800e+04            8.367800e+04   \n",
       "\n",
       "       yellow_cards     red_cards         goals       assists  minutes_played  \n",
       "count  1.507351e+06  1.507351e+06  1.507351e+06  1.507351e+06    1.507351e+06  \n",
       "mean   1.490230e-01  3.827244e-03  9.635778e-02  7.431050e-02    6.964984e+01  \n",
       "std    3.675721e-01  6.174624e-02  3.318755e-01  2.834195e-01    2.976078e+01  \n",
       "min    0.000000e+00  0.000000e+00  0.000000e+00  0.000000e+00    1.000000e+00  \n",
       "25%    0.000000e+00  0.000000e+00  0.000000e+00  0.000000e+00    5.200000e+01  \n",
       "50%    0.000000e+00  0.000000e+00  0.000000e+00  0.000000e+00    9.000000e+01  \n",
       "75%    0.000000e+00  0.000000e+00  0.000000e+00  0.000000e+00    9.000000e+01  \n",
       "max    2.000000e+00  1.000000e+00  6.000000e+00  6.000000e+00    1.200000e+02  "
      ],
      "text/html": [
       "<div>\n",
       "<style scoped>\n",
       "    .dataframe tbody tr th:only-of-type {\n",
       "        vertical-align: middle;\n",
       "    }\n",
       "\n",
       "    .dataframe tbody tr th {\n",
       "        vertical-align: top;\n",
       "    }\n",
       "\n",
       "    .dataframe thead th {\n",
       "        text-align: right;\n",
       "    }\n",
       "</style>\n",
       "<table border=\"1\" class=\"dataframe\">\n",
       "  <thead>\n",
       "    <tr style=\"text-align: right;\">\n",
       "      <th></th>\n",
       "      <th>game_id</th>\n",
       "      <th>player_id</th>\n",
       "      <th>player_club_id</th>\n",
       "      <th>player_current_club_id</th>\n",
       "      <th>yellow_cards</th>\n",
       "      <th>red_cards</th>\n",
       "      <th>goals</th>\n",
       "      <th>assists</th>\n",
       "      <th>minutes_played</th>\n",
       "    </tr>\n",
       "  </thead>\n",
       "  <tbody>\n",
       "    <tr>\n",
       "      <th>count</th>\n",
       "      <td>1.507351e+06</td>\n",
       "      <td>1.507351e+06</td>\n",
       "      <td>1.507351e+06</td>\n",
       "      <td>1.507351e+06</td>\n",
       "      <td>1.507351e+06</td>\n",
       "      <td>1.507351e+06</td>\n",
       "      <td>1.507351e+06</td>\n",
       "      <td>1.507351e+06</td>\n",
       "      <td>1.507351e+06</td>\n",
       "    </tr>\n",
       "    <tr>\n",
       "      <th>mean</th>\n",
       "      <td>3.014718e+06</td>\n",
       "      <td>1.798913e+05</td>\n",
       "      <td>2.881502e+03</td>\n",
       "      <td>3.638909e+03</td>\n",
       "      <td>1.490230e-01</td>\n",
       "      <td>3.827244e-03</td>\n",
       "      <td>9.635778e-02</td>\n",
       "      <td>7.431050e-02</td>\n",
       "      <td>6.964984e+01</td>\n",
       "    </tr>\n",
       "    <tr>\n",
       "      <th>std</th>\n",
       "      <td>5.570794e+05</td>\n",
       "      <td>1.652259e+05</td>\n",
       "      <td>7.113885e+03</td>\n",
       "      <td>9.309395e+03</td>\n",
       "      <td>3.675721e-01</td>\n",
       "      <td>6.174624e-02</td>\n",
       "      <td>3.318755e-01</td>\n",
       "      <td>2.834195e-01</td>\n",
       "      <td>2.976078e+01</td>\n",
       "    </tr>\n",
       "    <tr>\n",
       "      <th>min</th>\n",
       "      <td>2.211607e+06</td>\n",
       "      <td>1.000000e+01</td>\n",
       "      <td>1.000000e+00</td>\n",
       "      <td>-1.000000e+00</td>\n",
       "      <td>0.000000e+00</td>\n",
       "      <td>0.000000e+00</td>\n",
       "      <td>0.000000e+00</td>\n",
       "      <td>0.000000e+00</td>\n",
       "      <td>1.000000e+00</td>\n",
       "    </tr>\n",
       "    <tr>\n",
       "      <th>25%</th>\n",
       "      <td>2.518634e+06</td>\n",
       "      <td>5.369600e+04</td>\n",
       "      <td>2.890000e+02</td>\n",
       "      <td>3.360000e+02</td>\n",
       "      <td>0.000000e+00</td>\n",
       "      <td>0.000000e+00</td>\n",
       "      <td>0.000000e+00</td>\n",
       "      <td>0.000000e+00</td>\n",
       "      <td>5.200000e+01</td>\n",
       "    </tr>\n",
       "    <tr>\n",
       "      <th>50%</th>\n",
       "      <td>2.917390e+06</td>\n",
       "      <td>1.271420e+05</td>\n",
       "      <td>8.550000e+02</td>\n",
       "      <td>9.310000e+02</td>\n",
       "      <td>0.000000e+00</td>\n",
       "      <td>0.000000e+00</td>\n",
       "      <td>0.000000e+00</td>\n",
       "      <td>0.000000e+00</td>\n",
       "      <td>9.000000e+01</td>\n",
       "    </tr>\n",
       "    <tr>\n",
       "      <th>75%</th>\n",
       "      <td>3.450701e+06</td>\n",
       "      <td>2.608060e+05</td>\n",
       "      <td>2.441000e+03</td>\n",
       "      <td>2.687000e+03</td>\n",
       "      <td>0.000000e+00</td>\n",
       "      <td>0.000000e+00</td>\n",
       "      <td>0.000000e+00</td>\n",
       "      <td>0.000000e+00</td>\n",
       "      <td>9.000000e+01</td>\n",
       "    </tr>\n",
       "    <tr>\n",
       "      <th>max</th>\n",
       "      <td>4.227848e+06</td>\n",
       "      <td>1.186012e+06</td>\n",
       "      <td>8.367800e+04</td>\n",
       "      <td>8.367800e+04</td>\n",
       "      <td>2.000000e+00</td>\n",
       "      <td>1.000000e+00</td>\n",
       "      <td>6.000000e+00</td>\n",
       "      <td>6.000000e+00</td>\n",
       "      <td>1.200000e+02</td>\n",
       "    </tr>\n",
       "  </tbody>\n",
       "</table>\n",
       "</div>"
      ]
     },
     "execution_count": 42,
     "metadata": {},
     "output_type": "execute_result"
    }
   ],
   "execution_count": 42
  },
  {
   "metadata": {
    "ExecuteTime": {
     "end_time": "2025-01-12T18:11:16.567884Z",
     "start_time": "2025-01-12T18:11:16.426795Z"
    }
   },
   "cell_type": "code",
   "source": "print(app.isna().sum())",
   "id": "3ef7d08449a8ee60",
   "outputs": [
    {
     "name": "stdout",
     "output_type": "stream",
     "text": [
      "appearance_id               0\n",
      "game_id                     0\n",
      "player_id                   0\n",
      "player_club_id              0\n",
      "player_current_club_id      0\n",
      "date                        0\n",
      "player_name               324\n",
      "competition_id              0\n",
      "yellow_cards                0\n",
      "red_cards                   0\n",
      "goals                       0\n",
      "assists                     0\n",
      "minutes_played              0\n",
      "dtype: int64\n"
     ]
    }
   ],
   "execution_count": 43
  },
  {
   "metadata": {
    "ExecuteTime": {
     "end_time": "2025-01-12T18:11:41.550829Z",
     "start_time": "2025-01-12T18:11:40.975544Z"
    }
   },
   "cell_type": "code",
   "source": "app.loc[app.duplicated()]",
   "id": "b629b4540daa8e04",
   "outputs": [
    {
     "data": {
      "text/plain": [
       "Empty DataFrame\n",
       "Columns: [appearance_id, game_id, player_id, player_club_id, player_current_club_id, date, player_name, competition_id, yellow_cards, red_cards, goals, assists, minutes_played]\n",
       "Index: []"
      ],
      "text/html": [
       "<div>\n",
       "<style scoped>\n",
       "    .dataframe tbody tr th:only-of-type {\n",
       "        vertical-align: middle;\n",
       "    }\n",
       "\n",
       "    .dataframe tbody tr th {\n",
       "        vertical-align: top;\n",
       "    }\n",
       "\n",
       "    .dataframe thead th {\n",
       "        text-align: right;\n",
       "    }\n",
       "</style>\n",
       "<table border=\"1\" class=\"dataframe\">\n",
       "  <thead>\n",
       "    <tr style=\"text-align: right;\">\n",
       "      <th></th>\n",
       "      <th>appearance_id</th>\n",
       "      <th>game_id</th>\n",
       "      <th>player_id</th>\n",
       "      <th>player_club_id</th>\n",
       "      <th>player_current_club_id</th>\n",
       "      <th>date</th>\n",
       "      <th>player_name</th>\n",
       "      <th>competition_id</th>\n",
       "      <th>yellow_cards</th>\n",
       "      <th>red_cards</th>\n",
       "      <th>goals</th>\n",
       "      <th>assists</th>\n",
       "      <th>minutes_played</th>\n",
       "    </tr>\n",
       "  </thead>\n",
       "  <tbody>\n",
       "  </tbody>\n",
       "</table>\n",
       "</div>"
      ]
     },
     "execution_count": 44,
     "metadata": {},
     "output_type": "execute_result"
    }
   ],
   "execution_count": 44
  },
  {
   "metadata": {
    "ExecuteTime": {
     "end_time": "2025-01-12T18:12:54.184305Z",
     "start_time": "2025-01-12T18:12:54.091050Z"
    }
   },
   "cell_type": "code",
   "source": "club_games = pd.read_csv(\"/Users/alessandros/Desktop/Assignment_Data_2023-2024/data/club_games.csv\")",
   "id": "ef5a3e9969dbbc98",
   "outputs": [],
   "execution_count": 46
  },
  {
   "metadata": {
    "ExecuteTime": {
     "end_time": "2025-01-12T18:13:16.876158Z",
     "start_time": "2025-01-12T18:13:16.868576Z"
    }
   },
   "cell_type": "code",
   "source": "club_games.shape",
   "id": "db6df3275628d34e",
   "outputs": [
    {
     "data": {
      "text/plain": [
       "(130432, 11)"
      ]
     },
     "execution_count": 47,
     "metadata": {},
     "output_type": "execute_result"
    }
   ],
   "execution_count": 47
  },
  {
   "metadata": {
    "ExecuteTime": {
     "end_time": "2025-01-12T18:13:27.802979Z",
     "start_time": "2025-01-12T18:13:27.795062Z"
    }
   },
   "cell_type": "code",
   "source": "club_games.head()",
   "id": "d5571268c9e9836d",
   "outputs": [
    {
     "data": {
      "text/plain": [
       "   game_id  club_id  own_goals  own_position      own_manager_name  \\\n",
       "0  2221751      431          1           NaN         Lutz Göttling   \n",
       "1  2221755       83          3           NaN      Ralph Hasenhüttl   \n",
       "2  2222597     3725          2           2.0  Stanislav Cherchesov   \n",
       "3  2222627     2696          0          11.0        Andrey Kobelev   \n",
       "4  2222658     2410          0           2.0        Leonid Slutski   \n",
       "\n",
       "   opponent_id  opponent_goals  opponent_position opponent_manager_name  \\\n",
       "0           60               2                NaN     Christian Streich   \n",
       "1         4795               0                NaN            Tomas Oral   \n",
       "2          232               1                5.0            Unai Emery   \n",
       "3         4128               2               10.0         Rustem Khuzin   \n",
       "4          121               2               13.0          Dan Petrescu   \n",
       "\n",
       "  hosting  is_win  \n",
       "0    Home       0  \n",
       "1    Home       1  \n",
       "2    Home       1  \n",
       "3    Home       0  \n",
       "4    Home       0  "
      ],
      "text/html": [
       "<div>\n",
       "<style scoped>\n",
       "    .dataframe tbody tr th:only-of-type {\n",
       "        vertical-align: middle;\n",
       "    }\n",
       "\n",
       "    .dataframe tbody tr th {\n",
       "        vertical-align: top;\n",
       "    }\n",
       "\n",
       "    .dataframe thead th {\n",
       "        text-align: right;\n",
       "    }\n",
       "</style>\n",
       "<table border=\"1\" class=\"dataframe\">\n",
       "  <thead>\n",
       "    <tr style=\"text-align: right;\">\n",
       "      <th></th>\n",
       "      <th>game_id</th>\n",
       "      <th>club_id</th>\n",
       "      <th>own_goals</th>\n",
       "      <th>own_position</th>\n",
       "      <th>own_manager_name</th>\n",
       "      <th>opponent_id</th>\n",
       "      <th>opponent_goals</th>\n",
       "      <th>opponent_position</th>\n",
       "      <th>opponent_manager_name</th>\n",
       "      <th>hosting</th>\n",
       "      <th>is_win</th>\n",
       "    </tr>\n",
       "  </thead>\n",
       "  <tbody>\n",
       "    <tr>\n",
       "      <th>0</th>\n",
       "      <td>2221751</td>\n",
       "      <td>431</td>\n",
       "      <td>1</td>\n",
       "      <td>NaN</td>\n",
       "      <td>Lutz Göttling</td>\n",
       "      <td>60</td>\n",
       "      <td>2</td>\n",
       "      <td>NaN</td>\n",
       "      <td>Christian Streich</td>\n",
       "      <td>Home</td>\n",
       "      <td>0</td>\n",
       "    </tr>\n",
       "    <tr>\n",
       "      <th>1</th>\n",
       "      <td>2221755</td>\n",
       "      <td>83</td>\n",
       "      <td>3</td>\n",
       "      <td>NaN</td>\n",
       "      <td>Ralph Hasenhüttl</td>\n",
       "      <td>4795</td>\n",
       "      <td>0</td>\n",
       "      <td>NaN</td>\n",
       "      <td>Tomas Oral</td>\n",
       "      <td>Home</td>\n",
       "      <td>1</td>\n",
       "    </tr>\n",
       "    <tr>\n",
       "      <th>2</th>\n",
       "      <td>2222597</td>\n",
       "      <td>3725</td>\n",
       "      <td>2</td>\n",
       "      <td>2.0</td>\n",
       "      <td>Stanislav Cherchesov</td>\n",
       "      <td>232</td>\n",
       "      <td>1</td>\n",
       "      <td>5.0</td>\n",
       "      <td>Unai Emery</td>\n",
       "      <td>Home</td>\n",
       "      <td>1</td>\n",
       "    </tr>\n",
       "    <tr>\n",
       "      <th>3</th>\n",
       "      <td>2222627</td>\n",
       "      <td>2696</td>\n",
       "      <td>0</td>\n",
       "      <td>11.0</td>\n",
       "      <td>Andrey Kobelev</td>\n",
       "      <td>4128</td>\n",
       "      <td>2</td>\n",
       "      <td>10.0</td>\n",
       "      <td>Rustem Khuzin</td>\n",
       "      <td>Home</td>\n",
       "      <td>0</td>\n",
       "    </tr>\n",
       "    <tr>\n",
       "      <th>4</th>\n",
       "      <td>2222658</td>\n",
       "      <td>2410</td>\n",
       "      <td>0</td>\n",
       "      <td>2.0</td>\n",
       "      <td>Leonid Slutski</td>\n",
       "      <td>121</td>\n",
       "      <td>2</td>\n",
       "      <td>13.0</td>\n",
       "      <td>Dan Petrescu</td>\n",
       "      <td>Home</td>\n",
       "      <td>0</td>\n",
       "    </tr>\n",
       "  </tbody>\n",
       "</table>\n",
       "</div>"
      ]
     },
     "execution_count": 48,
     "metadata": {},
     "output_type": "execute_result"
    }
   ],
   "execution_count": 48
  },
  {
   "metadata": {
    "ExecuteTime": {
     "end_time": "2025-01-12T18:13:39.192329Z",
     "start_time": "2025-01-12T18:13:39.187434Z"
    }
   },
   "cell_type": "code",
   "source": "club_games.columns",
   "id": "3ad96c64697bb521",
   "outputs": [
    {
     "data": {
      "text/plain": [
       "Index(['game_id', 'club_id', 'own_goals', 'own_position', 'own_manager_name',\n",
       "       'opponent_id', 'opponent_goals', 'opponent_position',\n",
       "       'opponent_manager_name', 'hosting', 'is_win'],\n",
       "      dtype='object')"
      ]
     },
     "execution_count": 49,
     "metadata": {},
     "output_type": "execute_result"
    }
   ],
   "execution_count": 49
  },
  {
   "metadata": {
    "ExecuteTime": {
     "end_time": "2025-01-12T18:13:47.440339Z",
     "start_time": "2025-01-12T18:13:47.399871Z"
    }
   },
   "cell_type": "code",
   "source": "club_games.describe()",
   "id": "84ef7d11344e7189",
   "outputs": [
    {
     "data": {
      "text/plain": [
       "            game_id       club_id      own_goals  own_position   opponent_id  \\\n",
       "count  1.304320e+05  130432.00000  130432.000000  91524.000000  130432.00000   \n",
       "mean   3.018125e+06    4681.76423       1.457365      9.364910    4681.76423   \n",
       "std    5.605194e+05   10870.32151       1.402178      5.311624   10870.32151   \n",
       "min    2.211607e+06       1.00000       0.000000      1.000000       1.00000   \n",
       "25%    2.518596e+06     354.00000       0.000000      5.000000     354.00000   \n",
       "50%    2.919854e+06     995.00000       1.000000      9.000000     995.00000   \n",
       "75%    3.450800e+06    3060.00000       2.000000     14.000000    3060.00000   \n",
       "max    4.228114e+06  112755.00000      19.000000     21.000000  112755.00000   \n",
       "\n",
       "       opponent_goals  opponent_position         is_win  \n",
       "count   130432.000000       91524.000000  130432.000000  \n",
       "mean         1.457365           9.364910       0.392703  \n",
       "std          1.402178           5.311624       0.488353  \n",
       "min          0.000000           1.000000       0.000000  \n",
       "25%          0.000000           5.000000       0.000000  \n",
       "50%          1.000000           9.000000       0.000000  \n",
       "75%          2.000000          14.000000       1.000000  \n",
       "max         19.000000          21.000000       1.000000  "
      ],
      "text/html": [
       "<div>\n",
       "<style scoped>\n",
       "    .dataframe tbody tr th:only-of-type {\n",
       "        vertical-align: middle;\n",
       "    }\n",
       "\n",
       "    .dataframe tbody tr th {\n",
       "        vertical-align: top;\n",
       "    }\n",
       "\n",
       "    .dataframe thead th {\n",
       "        text-align: right;\n",
       "    }\n",
       "</style>\n",
       "<table border=\"1\" class=\"dataframe\">\n",
       "  <thead>\n",
       "    <tr style=\"text-align: right;\">\n",
       "      <th></th>\n",
       "      <th>game_id</th>\n",
       "      <th>club_id</th>\n",
       "      <th>own_goals</th>\n",
       "      <th>own_position</th>\n",
       "      <th>opponent_id</th>\n",
       "      <th>opponent_goals</th>\n",
       "      <th>opponent_position</th>\n",
       "      <th>is_win</th>\n",
       "    </tr>\n",
       "  </thead>\n",
       "  <tbody>\n",
       "    <tr>\n",
       "      <th>count</th>\n",
       "      <td>1.304320e+05</td>\n",
       "      <td>130432.00000</td>\n",
       "      <td>130432.000000</td>\n",
       "      <td>91524.000000</td>\n",
       "      <td>130432.00000</td>\n",
       "      <td>130432.000000</td>\n",
       "      <td>91524.000000</td>\n",
       "      <td>130432.000000</td>\n",
       "    </tr>\n",
       "    <tr>\n",
       "      <th>mean</th>\n",
       "      <td>3.018125e+06</td>\n",
       "      <td>4681.76423</td>\n",
       "      <td>1.457365</td>\n",
       "      <td>9.364910</td>\n",
       "      <td>4681.76423</td>\n",
       "      <td>1.457365</td>\n",
       "      <td>9.364910</td>\n",
       "      <td>0.392703</td>\n",
       "    </tr>\n",
       "    <tr>\n",
       "      <th>std</th>\n",
       "      <td>5.605194e+05</td>\n",
       "      <td>10870.32151</td>\n",
       "      <td>1.402178</td>\n",
       "      <td>5.311624</td>\n",
       "      <td>10870.32151</td>\n",
       "      <td>1.402178</td>\n",
       "      <td>5.311624</td>\n",
       "      <td>0.488353</td>\n",
       "    </tr>\n",
       "    <tr>\n",
       "      <th>min</th>\n",
       "      <td>2.211607e+06</td>\n",
       "      <td>1.00000</td>\n",
       "      <td>0.000000</td>\n",
       "      <td>1.000000</td>\n",
       "      <td>1.00000</td>\n",
       "      <td>0.000000</td>\n",
       "      <td>1.000000</td>\n",
       "      <td>0.000000</td>\n",
       "    </tr>\n",
       "    <tr>\n",
       "      <th>25%</th>\n",
       "      <td>2.518596e+06</td>\n",
       "      <td>354.00000</td>\n",
       "      <td>0.000000</td>\n",
       "      <td>5.000000</td>\n",
       "      <td>354.00000</td>\n",
       "      <td>0.000000</td>\n",
       "      <td>5.000000</td>\n",
       "      <td>0.000000</td>\n",
       "    </tr>\n",
       "    <tr>\n",
       "      <th>50%</th>\n",
       "      <td>2.919854e+06</td>\n",
       "      <td>995.00000</td>\n",
       "      <td>1.000000</td>\n",
       "      <td>9.000000</td>\n",
       "      <td>995.00000</td>\n",
       "      <td>1.000000</td>\n",
       "      <td>9.000000</td>\n",
       "      <td>0.000000</td>\n",
       "    </tr>\n",
       "    <tr>\n",
       "      <th>75%</th>\n",
       "      <td>3.450800e+06</td>\n",
       "      <td>3060.00000</td>\n",
       "      <td>2.000000</td>\n",
       "      <td>14.000000</td>\n",
       "      <td>3060.00000</td>\n",
       "      <td>2.000000</td>\n",
       "      <td>14.000000</td>\n",
       "      <td>1.000000</td>\n",
       "    </tr>\n",
       "    <tr>\n",
       "      <th>max</th>\n",
       "      <td>4.228114e+06</td>\n",
       "      <td>112755.00000</td>\n",
       "      <td>19.000000</td>\n",
       "      <td>21.000000</td>\n",
       "      <td>112755.00000</td>\n",
       "      <td>19.000000</td>\n",
       "      <td>21.000000</td>\n",
       "      <td>1.000000</td>\n",
       "    </tr>\n",
       "  </tbody>\n",
       "</table>\n",
       "</div>"
      ]
     },
     "execution_count": 50,
     "metadata": {},
     "output_type": "execute_result"
    }
   ],
   "execution_count": 50
  },
  {
   "metadata": {
    "ExecuteTime": {
     "end_time": "2025-01-12T18:13:59.707969Z",
     "start_time": "2025-01-12T18:13:59.689868Z"
    }
   },
   "cell_type": "code",
   "source": "print(club_games.isna().sum())",
   "id": "f11b969489369bc3",
   "outputs": [
    {
     "name": "stdout",
     "output_type": "stream",
     "text": [
      "game_id                      0\n",
      "club_id                      0\n",
      "own_goals                    0\n",
      "own_position             38908\n",
      "own_manager_name          1484\n",
      "opponent_id                  0\n",
      "opponent_goals               0\n",
      "opponent_position        38908\n",
      "opponent_manager_name     1484\n",
      "hosting                      0\n",
      "is_win                       0\n",
      "dtype: int64\n"
     ]
    }
   ],
   "execution_count": 51
  },
  {
   "metadata": {
    "ExecuteTime": {
     "end_time": "2025-01-12T18:14:24.422205Z",
     "start_time": "2025-01-12T18:14:24.379085Z"
    }
   },
   "cell_type": "code",
   "source": "club_games.loc[club_games.duplicated()]",
   "id": "d80a8e051b9d830e",
   "outputs": [
    {
     "data": {
      "text/plain": [
       "Empty DataFrame\n",
       "Columns: [game_id, club_id, own_goals, own_position, own_manager_name, opponent_id, opponent_goals, opponent_position, opponent_manager_name, hosting, is_win]\n",
       "Index: []"
      ],
      "text/html": [
       "<div>\n",
       "<style scoped>\n",
       "    .dataframe tbody tr th:only-of-type {\n",
       "        vertical-align: middle;\n",
       "    }\n",
       "\n",
       "    .dataframe tbody tr th {\n",
       "        vertical-align: top;\n",
       "    }\n",
       "\n",
       "    .dataframe thead th {\n",
       "        text-align: right;\n",
       "    }\n",
       "</style>\n",
       "<table border=\"1\" class=\"dataframe\">\n",
       "  <thead>\n",
       "    <tr style=\"text-align: right;\">\n",
       "      <th></th>\n",
       "      <th>game_id</th>\n",
       "      <th>club_id</th>\n",
       "      <th>own_goals</th>\n",
       "      <th>own_position</th>\n",
       "      <th>own_manager_name</th>\n",
       "      <th>opponent_id</th>\n",
       "      <th>opponent_goals</th>\n",
       "      <th>opponent_position</th>\n",
       "      <th>opponent_manager_name</th>\n",
       "      <th>hosting</th>\n",
       "      <th>is_win</th>\n",
       "    </tr>\n",
       "  </thead>\n",
       "  <tbody>\n",
       "  </tbody>\n",
       "</table>\n",
       "</div>"
      ]
     },
     "execution_count": 52,
     "metadata": {},
     "output_type": "execute_result"
    }
   ],
   "execution_count": 52
  },
  {
   "metadata": {
    "ExecuteTime": {
     "end_time": "2025-01-12T18:15:18.791329Z",
     "start_time": "2025-01-12T18:15:18.699872Z"
    }
   },
   "cell_type": "code",
   "source": "clubs = pd.read_csv(\"/Users/alessandros/Desktop/Assignment_Data_2023-2024/data/club_games.csv\")",
   "id": "682ef5e766117c78",
   "outputs": [],
   "execution_count": 54
  },
  {
   "metadata": {
    "ExecuteTime": {
     "end_time": "2025-01-12T18:15:33.734375Z",
     "start_time": "2025-01-12T18:15:33.730161Z"
    }
   },
   "cell_type": "code",
   "source": "clubs.shape",
   "id": "81595cc1f715cd58",
   "outputs": [
    {
     "data": {
      "text/plain": [
       "(130432, 11)"
      ]
     },
     "execution_count": 55,
     "metadata": {},
     "output_type": "execute_result"
    }
   ],
   "execution_count": 55
  },
  {
   "metadata": {
    "ExecuteTime": {
     "end_time": "2025-01-12T18:15:44.296911Z",
     "start_time": "2025-01-12T18:15:44.288566Z"
    }
   },
   "cell_type": "code",
   "source": "clubs.head()",
   "id": "e6a4920b43f0f14c",
   "outputs": [
    {
     "data": {
      "text/plain": [
       "   game_id  club_id  own_goals  own_position      own_manager_name  \\\n",
       "0  2221751      431          1           NaN         Lutz Göttling   \n",
       "1  2221755       83          3           NaN      Ralph Hasenhüttl   \n",
       "2  2222597     3725          2           2.0  Stanislav Cherchesov   \n",
       "3  2222627     2696          0          11.0        Andrey Kobelev   \n",
       "4  2222658     2410          0           2.0        Leonid Slutski   \n",
       "\n",
       "   opponent_id  opponent_goals  opponent_position opponent_manager_name  \\\n",
       "0           60               2                NaN     Christian Streich   \n",
       "1         4795               0                NaN            Tomas Oral   \n",
       "2          232               1                5.0            Unai Emery   \n",
       "3         4128               2               10.0         Rustem Khuzin   \n",
       "4          121               2               13.0          Dan Petrescu   \n",
       "\n",
       "  hosting  is_win  \n",
       "0    Home       0  \n",
       "1    Home       1  \n",
       "2    Home       1  \n",
       "3    Home       0  \n",
       "4    Home       0  "
      ],
      "text/html": [
       "<div>\n",
       "<style scoped>\n",
       "    .dataframe tbody tr th:only-of-type {\n",
       "        vertical-align: middle;\n",
       "    }\n",
       "\n",
       "    .dataframe tbody tr th {\n",
       "        vertical-align: top;\n",
       "    }\n",
       "\n",
       "    .dataframe thead th {\n",
       "        text-align: right;\n",
       "    }\n",
       "</style>\n",
       "<table border=\"1\" class=\"dataframe\">\n",
       "  <thead>\n",
       "    <tr style=\"text-align: right;\">\n",
       "      <th></th>\n",
       "      <th>game_id</th>\n",
       "      <th>club_id</th>\n",
       "      <th>own_goals</th>\n",
       "      <th>own_position</th>\n",
       "      <th>own_manager_name</th>\n",
       "      <th>opponent_id</th>\n",
       "      <th>opponent_goals</th>\n",
       "      <th>opponent_position</th>\n",
       "      <th>opponent_manager_name</th>\n",
       "      <th>hosting</th>\n",
       "      <th>is_win</th>\n",
       "    </tr>\n",
       "  </thead>\n",
       "  <tbody>\n",
       "    <tr>\n",
       "      <th>0</th>\n",
       "      <td>2221751</td>\n",
       "      <td>431</td>\n",
       "      <td>1</td>\n",
       "      <td>NaN</td>\n",
       "      <td>Lutz Göttling</td>\n",
       "      <td>60</td>\n",
       "      <td>2</td>\n",
       "      <td>NaN</td>\n",
       "      <td>Christian Streich</td>\n",
       "      <td>Home</td>\n",
       "      <td>0</td>\n",
       "    </tr>\n",
       "    <tr>\n",
       "      <th>1</th>\n",
       "      <td>2221755</td>\n",
       "      <td>83</td>\n",
       "      <td>3</td>\n",
       "      <td>NaN</td>\n",
       "      <td>Ralph Hasenhüttl</td>\n",
       "      <td>4795</td>\n",
       "      <td>0</td>\n",
       "      <td>NaN</td>\n",
       "      <td>Tomas Oral</td>\n",
       "      <td>Home</td>\n",
       "      <td>1</td>\n",
       "    </tr>\n",
       "    <tr>\n",
       "      <th>2</th>\n",
       "      <td>2222597</td>\n",
       "      <td>3725</td>\n",
       "      <td>2</td>\n",
       "      <td>2.0</td>\n",
       "      <td>Stanislav Cherchesov</td>\n",
       "      <td>232</td>\n",
       "      <td>1</td>\n",
       "      <td>5.0</td>\n",
       "      <td>Unai Emery</td>\n",
       "      <td>Home</td>\n",
       "      <td>1</td>\n",
       "    </tr>\n",
       "    <tr>\n",
       "      <th>3</th>\n",
       "      <td>2222627</td>\n",
       "      <td>2696</td>\n",
       "      <td>0</td>\n",
       "      <td>11.0</td>\n",
       "      <td>Andrey Kobelev</td>\n",
       "      <td>4128</td>\n",
       "      <td>2</td>\n",
       "      <td>10.0</td>\n",
       "      <td>Rustem Khuzin</td>\n",
       "      <td>Home</td>\n",
       "      <td>0</td>\n",
       "    </tr>\n",
       "    <tr>\n",
       "      <th>4</th>\n",
       "      <td>2222658</td>\n",
       "      <td>2410</td>\n",
       "      <td>0</td>\n",
       "      <td>2.0</td>\n",
       "      <td>Leonid Slutski</td>\n",
       "      <td>121</td>\n",
       "      <td>2</td>\n",
       "      <td>13.0</td>\n",
       "      <td>Dan Petrescu</td>\n",
       "      <td>Home</td>\n",
       "      <td>0</td>\n",
       "    </tr>\n",
       "  </tbody>\n",
       "</table>\n",
       "</div>"
      ]
     },
     "execution_count": 56,
     "metadata": {},
     "output_type": "execute_result"
    }
   ],
   "execution_count": 56
  },
  {
   "metadata": {
    "ExecuteTime": {
     "end_time": "2025-01-12T18:15:52.400349Z",
     "start_time": "2025-01-12T18:15:52.395918Z"
    }
   },
   "cell_type": "code",
   "source": "clubs.columns",
   "id": "eb37819f4a586f4d",
   "outputs": [
    {
     "data": {
      "text/plain": [
       "Index(['game_id', 'club_id', 'own_goals', 'own_position', 'own_manager_name',\n",
       "       'opponent_id', 'opponent_goals', 'opponent_position',\n",
       "       'opponent_manager_name', 'hosting', 'is_win'],\n",
       "      dtype='object')"
      ]
     },
     "execution_count": 57,
     "metadata": {},
     "output_type": "execute_result"
    }
   ],
   "execution_count": 57
  },
  {
   "metadata": {
    "ExecuteTime": {
     "end_time": "2025-01-12T18:16:02.712164Z",
     "start_time": "2025-01-12T18:16:02.671673Z"
    }
   },
   "cell_type": "code",
   "source": "clubs.describe()",
   "id": "175313108399f7aa",
   "outputs": [
    {
     "data": {
      "text/plain": [
       "            game_id       club_id      own_goals  own_position   opponent_id  \\\n",
       "count  1.304320e+05  130432.00000  130432.000000  91524.000000  130432.00000   \n",
       "mean   3.018125e+06    4681.76423       1.457365      9.364910    4681.76423   \n",
       "std    5.605194e+05   10870.32151       1.402178      5.311624   10870.32151   \n",
       "min    2.211607e+06       1.00000       0.000000      1.000000       1.00000   \n",
       "25%    2.518596e+06     354.00000       0.000000      5.000000     354.00000   \n",
       "50%    2.919854e+06     995.00000       1.000000      9.000000     995.00000   \n",
       "75%    3.450800e+06    3060.00000       2.000000     14.000000    3060.00000   \n",
       "max    4.228114e+06  112755.00000      19.000000     21.000000  112755.00000   \n",
       "\n",
       "       opponent_goals  opponent_position         is_win  \n",
       "count   130432.000000       91524.000000  130432.000000  \n",
       "mean         1.457365           9.364910       0.392703  \n",
       "std          1.402178           5.311624       0.488353  \n",
       "min          0.000000           1.000000       0.000000  \n",
       "25%          0.000000           5.000000       0.000000  \n",
       "50%          1.000000           9.000000       0.000000  \n",
       "75%          2.000000          14.000000       1.000000  \n",
       "max         19.000000          21.000000       1.000000  "
      ],
      "text/html": [
       "<div>\n",
       "<style scoped>\n",
       "    .dataframe tbody tr th:only-of-type {\n",
       "        vertical-align: middle;\n",
       "    }\n",
       "\n",
       "    .dataframe tbody tr th {\n",
       "        vertical-align: top;\n",
       "    }\n",
       "\n",
       "    .dataframe thead th {\n",
       "        text-align: right;\n",
       "    }\n",
       "</style>\n",
       "<table border=\"1\" class=\"dataframe\">\n",
       "  <thead>\n",
       "    <tr style=\"text-align: right;\">\n",
       "      <th></th>\n",
       "      <th>game_id</th>\n",
       "      <th>club_id</th>\n",
       "      <th>own_goals</th>\n",
       "      <th>own_position</th>\n",
       "      <th>opponent_id</th>\n",
       "      <th>opponent_goals</th>\n",
       "      <th>opponent_position</th>\n",
       "      <th>is_win</th>\n",
       "    </tr>\n",
       "  </thead>\n",
       "  <tbody>\n",
       "    <tr>\n",
       "      <th>count</th>\n",
       "      <td>1.304320e+05</td>\n",
       "      <td>130432.00000</td>\n",
       "      <td>130432.000000</td>\n",
       "      <td>91524.000000</td>\n",
       "      <td>130432.00000</td>\n",
       "      <td>130432.000000</td>\n",
       "      <td>91524.000000</td>\n",
       "      <td>130432.000000</td>\n",
       "    </tr>\n",
       "    <tr>\n",
       "      <th>mean</th>\n",
       "      <td>3.018125e+06</td>\n",
       "      <td>4681.76423</td>\n",
       "      <td>1.457365</td>\n",
       "      <td>9.364910</td>\n",
       "      <td>4681.76423</td>\n",
       "      <td>1.457365</td>\n",
       "      <td>9.364910</td>\n",
       "      <td>0.392703</td>\n",
       "    </tr>\n",
       "    <tr>\n",
       "      <th>std</th>\n",
       "      <td>5.605194e+05</td>\n",
       "      <td>10870.32151</td>\n",
       "      <td>1.402178</td>\n",
       "      <td>5.311624</td>\n",
       "      <td>10870.32151</td>\n",
       "      <td>1.402178</td>\n",
       "      <td>5.311624</td>\n",
       "      <td>0.488353</td>\n",
       "    </tr>\n",
       "    <tr>\n",
       "      <th>min</th>\n",
       "      <td>2.211607e+06</td>\n",
       "      <td>1.00000</td>\n",
       "      <td>0.000000</td>\n",
       "      <td>1.000000</td>\n",
       "      <td>1.00000</td>\n",
       "      <td>0.000000</td>\n",
       "      <td>1.000000</td>\n",
       "      <td>0.000000</td>\n",
       "    </tr>\n",
       "    <tr>\n",
       "      <th>25%</th>\n",
       "      <td>2.518596e+06</td>\n",
       "      <td>354.00000</td>\n",
       "      <td>0.000000</td>\n",
       "      <td>5.000000</td>\n",
       "      <td>354.00000</td>\n",
       "      <td>0.000000</td>\n",
       "      <td>5.000000</td>\n",
       "      <td>0.000000</td>\n",
       "    </tr>\n",
       "    <tr>\n",
       "      <th>50%</th>\n",
       "      <td>2.919854e+06</td>\n",
       "      <td>995.00000</td>\n",
       "      <td>1.000000</td>\n",
       "      <td>9.000000</td>\n",
       "      <td>995.00000</td>\n",
       "      <td>1.000000</td>\n",
       "      <td>9.000000</td>\n",
       "      <td>0.000000</td>\n",
       "    </tr>\n",
       "    <tr>\n",
       "      <th>75%</th>\n",
       "      <td>3.450800e+06</td>\n",
       "      <td>3060.00000</td>\n",
       "      <td>2.000000</td>\n",
       "      <td>14.000000</td>\n",
       "      <td>3060.00000</td>\n",
       "      <td>2.000000</td>\n",
       "      <td>14.000000</td>\n",
       "      <td>1.000000</td>\n",
       "    </tr>\n",
       "    <tr>\n",
       "      <th>max</th>\n",
       "      <td>4.228114e+06</td>\n",
       "      <td>112755.00000</td>\n",
       "      <td>19.000000</td>\n",
       "      <td>21.000000</td>\n",
       "      <td>112755.00000</td>\n",
       "      <td>19.000000</td>\n",
       "      <td>21.000000</td>\n",
       "      <td>1.000000</td>\n",
       "    </tr>\n",
       "  </tbody>\n",
       "</table>\n",
       "</div>"
      ]
     },
     "execution_count": 58,
     "metadata": {},
     "output_type": "execute_result"
    }
   ],
   "execution_count": 58
  },
  {
   "metadata": {
    "ExecuteTime": {
     "end_time": "2025-01-12T18:16:17.105984Z",
     "start_time": "2025-01-12T18:16:17.086750Z"
    }
   },
   "cell_type": "code",
   "source": "print(clubs.isna().sum())",
   "id": "1cf4cd1e546b9705",
   "outputs": [
    {
     "name": "stdout",
     "output_type": "stream",
     "text": [
      "game_id                      0\n",
      "club_id                      0\n",
      "own_goals                    0\n",
      "own_position             38908\n",
      "own_manager_name          1484\n",
      "opponent_id                  0\n",
      "opponent_goals               0\n",
      "opponent_position        38908\n",
      "opponent_manager_name     1484\n",
      "hosting                      0\n",
      "is_win                       0\n",
      "dtype: int64\n"
     ]
    }
   ],
   "execution_count": 59
  },
  {
   "metadata": {
    "ExecuteTime": {
     "end_time": "2025-01-12T18:16:36.933481Z",
     "start_time": "2025-01-12T18:16:36.895243Z"
    }
   },
   "cell_type": "code",
   "source": "clubs.loc[clubs.duplicated()]",
   "id": "8460b63094c7a2e4",
   "outputs": [
    {
     "data": {
      "text/plain": [
       "Empty DataFrame\n",
       "Columns: [game_id, club_id, own_goals, own_position, own_manager_name, opponent_id, opponent_goals, opponent_position, opponent_manager_name, hosting, is_win]\n",
       "Index: []"
      ],
      "text/html": [
       "<div>\n",
       "<style scoped>\n",
       "    .dataframe tbody tr th:only-of-type {\n",
       "        vertical-align: middle;\n",
       "    }\n",
       "\n",
       "    .dataframe tbody tr th {\n",
       "        vertical-align: top;\n",
       "    }\n",
       "\n",
       "    .dataframe thead th {\n",
       "        text-align: right;\n",
       "    }\n",
       "</style>\n",
       "<table border=\"1\" class=\"dataframe\">\n",
       "  <thead>\n",
       "    <tr style=\"text-align: right;\">\n",
       "      <th></th>\n",
       "      <th>game_id</th>\n",
       "      <th>club_id</th>\n",
       "      <th>own_goals</th>\n",
       "      <th>own_position</th>\n",
       "      <th>own_manager_name</th>\n",
       "      <th>opponent_id</th>\n",
       "      <th>opponent_goals</th>\n",
       "      <th>opponent_position</th>\n",
       "      <th>opponent_manager_name</th>\n",
       "      <th>hosting</th>\n",
       "      <th>is_win</th>\n",
       "    </tr>\n",
       "  </thead>\n",
       "  <tbody>\n",
       "  </tbody>\n",
       "</table>\n",
       "</div>"
      ]
     },
     "execution_count": 60,
     "metadata": {},
     "output_type": "execute_result"
    }
   ],
   "execution_count": 60
  },
  {
   "metadata": {
    "ExecuteTime": {
     "end_time": "2025-01-12T18:17:18.280223Z",
     "start_time": "2025-01-12T18:17:18.273552Z"
    }
   },
   "cell_type": "code",
   "source": "competitions = pd.read_csv(\"/Users/alessandros/Desktop/Assignment_Data_2023-2024/data/competitions.csv\")\n",
   "id": "35ad5c95eb144a24",
   "outputs": [],
   "execution_count": 61
  },
  {
   "metadata": {
    "ExecuteTime": {
     "end_time": "2025-01-12T18:17:30.081505Z",
     "start_time": "2025-01-12T18:17:30.074144Z"
    }
   },
   "cell_type": "code",
   "source": "competitions.shape",
   "id": "c15c218d051f76e1",
   "outputs": [
    {
     "data": {
      "text/plain": [
       "(43, 10)"
      ]
     },
     "execution_count": 62,
     "metadata": {},
     "output_type": "execute_result"
    }
   ],
   "execution_count": 62
  },
  {
   "metadata": {
    "ExecuteTime": {
     "end_time": "2025-01-12T18:17:38.487448Z",
     "start_time": "2025-01-12T18:17:38.480241Z"
    }
   },
   "cell_type": "code",
   "source": "competitions.head()",
   "id": "6bf2745f092ab1d",
   "outputs": [
    {
     "data": {
      "text/plain": [
       "  competition_id               competition_code  \\\n",
       "0            CIT                      italy-cup   \n",
       "1           NLSC           johan-cruijff-schaal   \n",
       "2            GRP                kypello-elladas   \n",
       "3           POSU  supertaca-candido-de-oliveira   \n",
       "4           RUSS              russian-super-cup   \n",
       "\n",
       "                            name            sub_type          type  \\\n",
       "0                      italy-cup        domestic_cup  domestic_cup   \n",
       "1           johan-cruijff-schaal  domestic_super_cup         other   \n",
       "2                kypello-elladas        domestic_cup  domestic_cup   \n",
       "3  supertaca-candido-de-oliveira  domestic_super_cup         other   \n",
       "4              russian-super-cup  domestic_super_cup         other   \n",
       "\n",
       "   country_id country_name domestic_league_code confederation  \\\n",
       "0          75        Italy                  IT1        europa   \n",
       "1         122  Netherlands                  NL1        europa   \n",
       "2          56       Greece                  GR1        europa   \n",
       "3         136     Portugal                  PO1        europa   \n",
       "4         141       Russia                  RU1        europa   \n",
       "\n",
       "                                                 url  \n",
       "0  https://www.transfermarkt.co.uk/italy-cup/star...  \n",
       "1  https://www.transfermarkt.co.uk/johan-cruijff-...  \n",
       "2  https://www.transfermarkt.co.uk/kypello-ellada...  \n",
       "3  https://www.transfermarkt.co.uk/supertaca-cand...  \n",
       "4  https://www.transfermarkt.co.uk/russian-super-...  "
      ],
      "text/html": [
       "<div>\n",
       "<style scoped>\n",
       "    .dataframe tbody tr th:only-of-type {\n",
       "        vertical-align: middle;\n",
       "    }\n",
       "\n",
       "    .dataframe tbody tr th {\n",
       "        vertical-align: top;\n",
       "    }\n",
       "\n",
       "    .dataframe thead th {\n",
       "        text-align: right;\n",
       "    }\n",
       "</style>\n",
       "<table border=\"1\" class=\"dataframe\">\n",
       "  <thead>\n",
       "    <tr style=\"text-align: right;\">\n",
       "      <th></th>\n",
       "      <th>competition_id</th>\n",
       "      <th>competition_code</th>\n",
       "      <th>name</th>\n",
       "      <th>sub_type</th>\n",
       "      <th>type</th>\n",
       "      <th>country_id</th>\n",
       "      <th>country_name</th>\n",
       "      <th>domestic_league_code</th>\n",
       "      <th>confederation</th>\n",
       "      <th>url</th>\n",
       "    </tr>\n",
       "  </thead>\n",
       "  <tbody>\n",
       "    <tr>\n",
       "      <th>0</th>\n",
       "      <td>CIT</td>\n",
       "      <td>italy-cup</td>\n",
       "      <td>italy-cup</td>\n",
       "      <td>domestic_cup</td>\n",
       "      <td>domestic_cup</td>\n",
       "      <td>75</td>\n",
       "      <td>Italy</td>\n",
       "      <td>IT1</td>\n",
       "      <td>europa</td>\n",
       "      <td>https://www.transfermarkt.co.uk/italy-cup/star...</td>\n",
       "    </tr>\n",
       "    <tr>\n",
       "      <th>1</th>\n",
       "      <td>NLSC</td>\n",
       "      <td>johan-cruijff-schaal</td>\n",
       "      <td>johan-cruijff-schaal</td>\n",
       "      <td>domestic_super_cup</td>\n",
       "      <td>other</td>\n",
       "      <td>122</td>\n",
       "      <td>Netherlands</td>\n",
       "      <td>NL1</td>\n",
       "      <td>europa</td>\n",
       "      <td>https://www.transfermarkt.co.uk/johan-cruijff-...</td>\n",
       "    </tr>\n",
       "    <tr>\n",
       "      <th>2</th>\n",
       "      <td>GRP</td>\n",
       "      <td>kypello-elladas</td>\n",
       "      <td>kypello-elladas</td>\n",
       "      <td>domestic_cup</td>\n",
       "      <td>domestic_cup</td>\n",
       "      <td>56</td>\n",
       "      <td>Greece</td>\n",
       "      <td>GR1</td>\n",
       "      <td>europa</td>\n",
       "      <td>https://www.transfermarkt.co.uk/kypello-ellada...</td>\n",
       "    </tr>\n",
       "    <tr>\n",
       "      <th>3</th>\n",
       "      <td>POSU</td>\n",
       "      <td>supertaca-candido-de-oliveira</td>\n",
       "      <td>supertaca-candido-de-oliveira</td>\n",
       "      <td>domestic_super_cup</td>\n",
       "      <td>other</td>\n",
       "      <td>136</td>\n",
       "      <td>Portugal</td>\n",
       "      <td>PO1</td>\n",
       "      <td>europa</td>\n",
       "      <td>https://www.transfermarkt.co.uk/supertaca-cand...</td>\n",
       "    </tr>\n",
       "    <tr>\n",
       "      <th>4</th>\n",
       "      <td>RUSS</td>\n",
       "      <td>russian-super-cup</td>\n",
       "      <td>russian-super-cup</td>\n",
       "      <td>domestic_super_cup</td>\n",
       "      <td>other</td>\n",
       "      <td>141</td>\n",
       "      <td>Russia</td>\n",
       "      <td>RU1</td>\n",
       "      <td>europa</td>\n",
       "      <td>https://www.transfermarkt.co.uk/russian-super-...</td>\n",
       "    </tr>\n",
       "  </tbody>\n",
       "</table>\n",
       "</div>"
      ]
     },
     "execution_count": 63,
     "metadata": {},
     "output_type": "execute_result"
    }
   ],
   "execution_count": 63
  },
  {
   "metadata": {
    "ExecuteTime": {
     "end_time": "2025-01-12T18:17:52.501709Z",
     "start_time": "2025-01-12T18:17:52.487165Z"
    }
   },
   "cell_type": "code",
   "source": "competitions.columns",
   "id": "703511106b2b9cdb",
   "outputs": [
    {
     "data": {
      "text/plain": [
       "Index(['competition_id', 'competition_code', 'name', 'sub_type', 'type',\n",
       "       'country_id', 'country_name', 'domestic_league_code', 'confederation',\n",
       "       'url'],\n",
       "      dtype='object')"
      ]
     },
     "execution_count": 64,
     "metadata": {},
     "output_type": "execute_result"
    }
   ],
   "execution_count": 64
  },
  {
   "metadata": {
    "ExecuteTime": {
     "end_time": "2025-01-12T18:18:11.296643Z",
     "start_time": "2025-01-12T18:18:11.286066Z"
    }
   },
   "cell_type": "code",
   "source": "competitions.describe()",
   "id": "6ed961e6cfa1d38b",
   "outputs": [
    {
     "data": {
      "text/plain": [
       "       country_id\n",
       "count   43.000000\n",
       "mean    97.093023\n",
       "std     69.766896\n",
       "min     -1.000000\n",
       "25%     39.500000\n",
       "50%    122.000000\n",
       "75%    157.000000\n",
       "max    190.000000"
      ],
      "text/html": [
       "<div>\n",
       "<style scoped>\n",
       "    .dataframe tbody tr th:only-of-type {\n",
       "        vertical-align: middle;\n",
       "    }\n",
       "\n",
       "    .dataframe tbody tr th {\n",
       "        vertical-align: top;\n",
       "    }\n",
       "\n",
       "    .dataframe thead th {\n",
       "        text-align: right;\n",
       "    }\n",
       "</style>\n",
       "<table border=\"1\" class=\"dataframe\">\n",
       "  <thead>\n",
       "    <tr style=\"text-align: right;\">\n",
       "      <th></th>\n",
       "      <th>country_id</th>\n",
       "    </tr>\n",
       "  </thead>\n",
       "  <tbody>\n",
       "    <tr>\n",
       "      <th>count</th>\n",
       "      <td>43.000000</td>\n",
       "    </tr>\n",
       "    <tr>\n",
       "      <th>mean</th>\n",
       "      <td>97.093023</td>\n",
       "    </tr>\n",
       "    <tr>\n",
       "      <th>std</th>\n",
       "      <td>69.766896</td>\n",
       "    </tr>\n",
       "    <tr>\n",
       "      <th>min</th>\n",
       "      <td>-1.000000</td>\n",
       "    </tr>\n",
       "    <tr>\n",
       "      <th>25%</th>\n",
       "      <td>39.500000</td>\n",
       "    </tr>\n",
       "    <tr>\n",
       "      <th>50%</th>\n",
       "      <td>122.000000</td>\n",
       "    </tr>\n",
       "    <tr>\n",
       "      <th>75%</th>\n",
       "      <td>157.000000</td>\n",
       "    </tr>\n",
       "    <tr>\n",
       "      <th>max</th>\n",
       "      <td>190.000000</td>\n",
       "    </tr>\n",
       "  </tbody>\n",
       "</table>\n",
       "</div>"
      ]
     },
     "execution_count": 65,
     "metadata": {},
     "output_type": "execute_result"
    }
   ],
   "execution_count": 65
  },
  {
   "metadata": {
    "ExecuteTime": {
     "end_time": "2025-01-12T18:18:25.879109Z",
     "start_time": "2025-01-12T18:18:25.874430Z"
    }
   },
   "cell_type": "code",
   "source": "print(competitions.isna().sum())",
   "id": "c1fd665359f01f23",
   "outputs": [
    {
     "name": "stdout",
     "output_type": "stream",
     "text": [
      "competition_id          0\n",
      "competition_code        0\n",
      "name                    0\n",
      "sub_type                0\n",
      "type                    0\n",
      "country_id              0\n",
      "country_name            7\n",
      "domestic_league_code    7\n",
      "confederation           0\n",
      "url                     0\n",
      "dtype: int64\n"
     ]
    }
   ],
   "execution_count": 66
  },
  {
   "metadata": {
    "ExecuteTime": {
     "end_time": "2025-01-12T18:18:38.800344Z",
     "start_time": "2025-01-12T18:18:38.791471Z"
    }
   },
   "cell_type": "code",
   "source": "competitions.loc[competitions.duplicated()]",
   "id": "3893f431c02cc9d0",
   "outputs": [
    {
     "data": {
      "text/plain": [
       "Empty DataFrame\n",
       "Columns: [competition_id, competition_code, name, sub_type, type, country_id, country_name, domestic_league_code, confederation, url]\n",
       "Index: []"
      ],
      "text/html": [
       "<div>\n",
       "<style scoped>\n",
       "    .dataframe tbody tr th:only-of-type {\n",
       "        vertical-align: middle;\n",
       "    }\n",
       "\n",
       "    .dataframe tbody tr th {\n",
       "        vertical-align: top;\n",
       "    }\n",
       "\n",
       "    .dataframe thead th {\n",
       "        text-align: right;\n",
       "    }\n",
       "</style>\n",
       "<table border=\"1\" class=\"dataframe\">\n",
       "  <thead>\n",
       "    <tr style=\"text-align: right;\">\n",
       "      <th></th>\n",
       "      <th>competition_id</th>\n",
       "      <th>competition_code</th>\n",
       "      <th>name</th>\n",
       "      <th>sub_type</th>\n",
       "      <th>type</th>\n",
       "      <th>country_id</th>\n",
       "      <th>country_name</th>\n",
       "      <th>domestic_league_code</th>\n",
       "      <th>confederation</th>\n",
       "      <th>url</th>\n",
       "    </tr>\n",
       "  </thead>\n",
       "  <tbody>\n",
       "  </tbody>\n",
       "</table>\n",
       "</div>"
      ]
     },
     "execution_count": 67,
     "metadata": {},
     "output_type": "execute_result"
    }
   ],
   "execution_count": 67
  },
  {
   "metadata": {
    "ExecuteTime": {
     "end_time": "2025-01-12T22:24:01.099867Z",
     "start_time": "2025-01-12T22:24:00.485377Z"
    }
   },
   "cell_type": "code",
   "source": "game_events = pd.read_csv(\"/Users/alessandros/Desktop/Assignment_Data_2023-2024/data/game_events.csv\")",
   "id": "41694abf235508b5",
   "outputs": [],
   "execution_count": 68
  },
  {
   "metadata": {
    "ExecuteTime": {
     "end_time": "2025-01-12T22:24:14.388927Z",
     "start_time": "2025-01-12T22:24:14.379346Z"
    }
   },
   "cell_type": "code",
   "source": "game_events.shape",
   "id": "57c4a627056b3e24",
   "outputs": [
    {
     "data": {
      "text/plain": [
       "(666558, 10)"
      ]
     },
     "execution_count": 69,
     "metadata": {},
     "output_type": "execute_result"
    }
   ],
   "execution_count": 69
  },
  {
   "metadata": {
    "ExecuteTime": {
     "end_time": "2025-01-12T22:24:29.675635Z",
     "start_time": "2025-01-12T22:24:29.663808Z"
    }
   },
   "cell_type": "code",
   "source": "game_events.head()",
   "id": "60081281b1255012",
   "outputs": [
    {
     "data": {
      "text/plain": [
       "                      game_event_id        date  game_id  minute  \\\n",
       "0  2f41da30c471492e7d4a984951671677  2012-08-05  2211607      77   \n",
       "1  a72f7186d132775f234d3e2f7bc0ed5b  2012-08-05  2211607      77   \n",
       "2  b2d721eaed4692a5c59a92323689ef18  2012-08-05  2211607       3   \n",
       "3  aef768899cedac0c9a650980219075a2  2012-08-05  2211607      53   \n",
       "4  5d6d9533023057b6619ecd145a038bbe  2012-08-05  2211607      74   \n",
       "\n",
       "            type  club_id  player_id  \\\n",
       "0          Cards      610       4425   \n",
       "1          Cards      383      33210   \n",
       "2          Goals      383      36500   \n",
       "3          Goals      383      36500   \n",
       "4  Substitutions      383      36500   \n",
       "\n",
       "                                         description  player_in_id  \\\n",
       "0               1. Yellow card  , Mass confrontation           NaN   \n",
       "1               1. Yellow card  , Mass confrontation           NaN   \n",
       "2  , Header, 1. Tournament Goal Assist: , Corner,...           NaN   \n",
       "3  , Right-footed shot, 2. Tournament Goal Assist...           NaN   \n",
       "4                                     , Not reported       49499.0   \n",
       "\n",
       "   player_assist_id  \n",
       "0               NaN  \n",
       "1               NaN  \n",
       "2           56416.0  \n",
       "3          146258.0  \n",
       "4               NaN  "
      ],
      "text/html": [
       "<div>\n",
       "<style scoped>\n",
       "    .dataframe tbody tr th:only-of-type {\n",
       "        vertical-align: middle;\n",
       "    }\n",
       "\n",
       "    .dataframe tbody tr th {\n",
       "        vertical-align: top;\n",
       "    }\n",
       "\n",
       "    .dataframe thead th {\n",
       "        text-align: right;\n",
       "    }\n",
       "</style>\n",
       "<table border=\"1\" class=\"dataframe\">\n",
       "  <thead>\n",
       "    <tr style=\"text-align: right;\">\n",
       "      <th></th>\n",
       "      <th>game_event_id</th>\n",
       "      <th>date</th>\n",
       "      <th>game_id</th>\n",
       "      <th>minute</th>\n",
       "      <th>type</th>\n",
       "      <th>club_id</th>\n",
       "      <th>player_id</th>\n",
       "      <th>description</th>\n",
       "      <th>player_in_id</th>\n",
       "      <th>player_assist_id</th>\n",
       "    </tr>\n",
       "  </thead>\n",
       "  <tbody>\n",
       "    <tr>\n",
       "      <th>0</th>\n",
       "      <td>2f41da30c471492e7d4a984951671677</td>\n",
       "      <td>2012-08-05</td>\n",
       "      <td>2211607</td>\n",
       "      <td>77</td>\n",
       "      <td>Cards</td>\n",
       "      <td>610</td>\n",
       "      <td>4425</td>\n",
       "      <td>1. Yellow card  , Mass confrontation</td>\n",
       "      <td>NaN</td>\n",
       "      <td>NaN</td>\n",
       "    </tr>\n",
       "    <tr>\n",
       "      <th>1</th>\n",
       "      <td>a72f7186d132775f234d3e2f7bc0ed5b</td>\n",
       "      <td>2012-08-05</td>\n",
       "      <td>2211607</td>\n",
       "      <td>77</td>\n",
       "      <td>Cards</td>\n",
       "      <td>383</td>\n",
       "      <td>33210</td>\n",
       "      <td>1. Yellow card  , Mass confrontation</td>\n",
       "      <td>NaN</td>\n",
       "      <td>NaN</td>\n",
       "    </tr>\n",
       "    <tr>\n",
       "      <th>2</th>\n",
       "      <td>b2d721eaed4692a5c59a92323689ef18</td>\n",
       "      <td>2012-08-05</td>\n",
       "      <td>2211607</td>\n",
       "      <td>3</td>\n",
       "      <td>Goals</td>\n",
       "      <td>383</td>\n",
       "      <td>36500</td>\n",
       "      <td>, Header, 1. Tournament Goal Assist: , Corner,...</td>\n",
       "      <td>NaN</td>\n",
       "      <td>56416.0</td>\n",
       "    </tr>\n",
       "    <tr>\n",
       "      <th>3</th>\n",
       "      <td>aef768899cedac0c9a650980219075a2</td>\n",
       "      <td>2012-08-05</td>\n",
       "      <td>2211607</td>\n",
       "      <td>53</td>\n",
       "      <td>Goals</td>\n",
       "      <td>383</td>\n",
       "      <td>36500</td>\n",
       "      <td>, Right-footed shot, 2. Tournament Goal Assist...</td>\n",
       "      <td>NaN</td>\n",
       "      <td>146258.0</td>\n",
       "    </tr>\n",
       "    <tr>\n",
       "      <th>4</th>\n",
       "      <td>5d6d9533023057b6619ecd145a038bbe</td>\n",
       "      <td>2012-08-05</td>\n",
       "      <td>2211607</td>\n",
       "      <td>74</td>\n",
       "      <td>Substitutions</td>\n",
       "      <td>383</td>\n",
       "      <td>36500</td>\n",
       "      <td>, Not reported</td>\n",
       "      <td>49499.0</td>\n",
       "      <td>NaN</td>\n",
       "    </tr>\n",
       "  </tbody>\n",
       "</table>\n",
       "</div>"
      ]
     },
     "execution_count": 70,
     "metadata": {},
     "output_type": "execute_result"
    }
   ],
   "execution_count": 70
  },
  {
   "metadata": {
    "ExecuteTime": {
     "end_time": "2025-01-12T22:24:48.647672Z",
     "start_time": "2025-01-12T22:24:48.636478Z"
    }
   },
   "cell_type": "code",
   "source": "game_events.columns",
   "id": "1f7b71e7c5e72a02",
   "outputs": [
    {
     "data": {
      "text/plain": [
       "Index(['game_event_id', 'date', 'game_id', 'minute', 'type', 'club_id',\n",
       "       'player_id', 'description', 'player_in_id', 'player_assist_id'],\n",
       "      dtype='object')"
      ]
     },
     "execution_count": 71,
     "metadata": {},
     "output_type": "execute_result"
    }
   ],
   "execution_count": 71
  },
  {
   "metadata": {
    "ExecuteTime": {
     "end_time": "2025-01-12T22:24:58.857200Z",
     "start_time": "2025-01-12T22:24:58.721777Z"
    }
   },
   "cell_type": "code",
   "source": "game_events.describe()",
   "id": "d06b433dabce89ae",
   "outputs": [
    {
     "data": {
      "text/plain": [
       "            game_id         minute        club_id     player_id  player_in_id  \\\n",
       "count  6.665580e+05  666558.000000  666558.000000  6.665580e+05  4.212490e+05   \n",
       "mean   3.051644e+06      63.503254    4595.409720  2.010716e+05  2.429946e+05   \n",
       "std    6.079955e+05      21.927700   10915.447142  1.878795e+05  2.082146e+05   \n",
       "min    2.211607e+06      -1.000000       1.000000  1.000000e+01  1.000000e+01   \n",
       "25%    2.483327e+06      51.000000     336.000000  5.714400e+04  7.422300e+04   \n",
       "50%    3.047444e+06      68.000000     984.000000  1.403100e+05  1.884980e+05   \n",
       "75%    3.589539e+06      80.000000    3026.000000  2.912000e+05  3.481990e+05   \n",
       "max    4.228114e+06     120.000000  112755.000000  1.207623e+06  1.207623e+06   \n",
       "\n",
       "       player_assist_id  \n",
       "count      3.085700e+04  \n",
       "mean       1.301114e+05  \n",
       "std        1.752904e+05  \n",
       "min        1.000000e+01  \n",
       "25%        3.134800e+04  \n",
       "50%        6.044400e+04  \n",
       "75%        1.404460e+05  \n",
       "max        1.207623e+06  "
      ],
      "text/html": [
       "<div>\n",
       "<style scoped>\n",
       "    .dataframe tbody tr th:only-of-type {\n",
       "        vertical-align: middle;\n",
       "    }\n",
       "\n",
       "    .dataframe tbody tr th {\n",
       "        vertical-align: top;\n",
       "    }\n",
       "\n",
       "    .dataframe thead th {\n",
       "        text-align: right;\n",
       "    }\n",
       "</style>\n",
       "<table border=\"1\" class=\"dataframe\">\n",
       "  <thead>\n",
       "    <tr style=\"text-align: right;\">\n",
       "      <th></th>\n",
       "      <th>game_id</th>\n",
       "      <th>minute</th>\n",
       "      <th>club_id</th>\n",
       "      <th>player_id</th>\n",
       "      <th>player_in_id</th>\n",
       "      <th>player_assist_id</th>\n",
       "    </tr>\n",
       "  </thead>\n",
       "  <tbody>\n",
       "    <tr>\n",
       "      <th>count</th>\n",
       "      <td>6.665580e+05</td>\n",
       "      <td>666558.000000</td>\n",
       "      <td>666558.000000</td>\n",
       "      <td>6.665580e+05</td>\n",
       "      <td>4.212490e+05</td>\n",
       "      <td>3.085700e+04</td>\n",
       "    </tr>\n",
       "    <tr>\n",
       "      <th>mean</th>\n",
       "      <td>3.051644e+06</td>\n",
       "      <td>63.503254</td>\n",
       "      <td>4595.409720</td>\n",
       "      <td>2.010716e+05</td>\n",
       "      <td>2.429946e+05</td>\n",
       "      <td>1.301114e+05</td>\n",
       "    </tr>\n",
       "    <tr>\n",
       "      <th>std</th>\n",
       "      <td>6.079955e+05</td>\n",
       "      <td>21.927700</td>\n",
       "      <td>10915.447142</td>\n",
       "      <td>1.878795e+05</td>\n",
       "      <td>2.082146e+05</td>\n",
       "      <td>1.752904e+05</td>\n",
       "    </tr>\n",
       "    <tr>\n",
       "      <th>min</th>\n",
       "      <td>2.211607e+06</td>\n",
       "      <td>-1.000000</td>\n",
       "      <td>1.000000</td>\n",
       "      <td>1.000000e+01</td>\n",
       "      <td>1.000000e+01</td>\n",
       "      <td>1.000000e+01</td>\n",
       "    </tr>\n",
       "    <tr>\n",
       "      <th>25%</th>\n",
       "      <td>2.483327e+06</td>\n",
       "      <td>51.000000</td>\n",
       "      <td>336.000000</td>\n",
       "      <td>5.714400e+04</td>\n",
       "      <td>7.422300e+04</td>\n",
       "      <td>3.134800e+04</td>\n",
       "    </tr>\n",
       "    <tr>\n",
       "      <th>50%</th>\n",
       "      <td>3.047444e+06</td>\n",
       "      <td>68.000000</td>\n",
       "      <td>984.000000</td>\n",
       "      <td>1.403100e+05</td>\n",
       "      <td>1.884980e+05</td>\n",
       "      <td>6.044400e+04</td>\n",
       "    </tr>\n",
       "    <tr>\n",
       "      <th>75%</th>\n",
       "      <td>3.589539e+06</td>\n",
       "      <td>80.000000</td>\n",
       "      <td>3026.000000</td>\n",
       "      <td>2.912000e+05</td>\n",
       "      <td>3.481990e+05</td>\n",
       "      <td>1.404460e+05</td>\n",
       "    </tr>\n",
       "    <tr>\n",
       "      <th>max</th>\n",
       "      <td>4.228114e+06</td>\n",
       "      <td>120.000000</td>\n",
       "      <td>112755.000000</td>\n",
       "      <td>1.207623e+06</td>\n",
       "      <td>1.207623e+06</td>\n",
       "      <td>1.207623e+06</td>\n",
       "    </tr>\n",
       "  </tbody>\n",
       "</table>\n",
       "</div>"
      ]
     },
     "execution_count": 72,
     "metadata": {},
     "output_type": "execute_result"
    }
   ],
   "execution_count": 72
  },
  {
   "metadata": {
    "ExecuteTime": {
     "end_time": "2025-01-12T22:25:24.004094Z",
     "start_time": "2025-01-12T22:25:23.909905Z"
    }
   },
   "cell_type": "code",
   "source": "print(game_events.isna().sum())",
   "id": "14a44b166f486c89",
   "outputs": [
    {
     "name": "stdout",
     "output_type": "stream",
     "text": [
      "game_event_id            0\n",
      "date                     0\n",
      "game_id                  0\n",
      "minute                   0\n",
      "type                     0\n",
      "club_id                  0\n",
      "player_id                0\n",
      "description         336325\n",
      "player_in_id        245309\n",
      "player_assist_id    635701\n",
      "dtype: int64\n"
     ]
    }
   ],
   "execution_count": 73
  },
  {
   "metadata": {
    "ExecuteTime": {
     "end_time": "2025-01-12T22:25:50.499234Z",
     "start_time": "2025-01-12T22:25:50.183952Z"
    }
   },
   "cell_type": "code",
   "source": "game_events.loc[game_events.duplicated()]",
   "id": "58fc992a9abc09e8",
   "outputs": [
    {
     "data": {
      "text/plain": [
       "Empty DataFrame\n",
       "Columns: [game_event_id, date, game_id, minute, type, club_id, player_id, description, player_in_id, player_assist_id]\n",
       "Index: []"
      ],
      "text/html": [
       "<div>\n",
       "<style scoped>\n",
       "    .dataframe tbody tr th:only-of-type {\n",
       "        vertical-align: middle;\n",
       "    }\n",
       "\n",
       "    .dataframe tbody tr th {\n",
       "        vertical-align: top;\n",
       "    }\n",
       "\n",
       "    .dataframe thead th {\n",
       "        text-align: right;\n",
       "    }\n",
       "</style>\n",
       "<table border=\"1\" class=\"dataframe\">\n",
       "  <thead>\n",
       "    <tr style=\"text-align: right;\">\n",
       "      <th></th>\n",
       "      <th>game_event_id</th>\n",
       "      <th>date</th>\n",
       "      <th>game_id</th>\n",
       "      <th>minute</th>\n",
       "      <th>type</th>\n",
       "      <th>club_id</th>\n",
       "      <th>player_id</th>\n",
       "      <th>description</th>\n",
       "      <th>player_in_id</th>\n",
       "      <th>player_assist_id</th>\n",
       "    </tr>\n",
       "  </thead>\n",
       "  <tbody>\n",
       "  </tbody>\n",
       "</table>\n",
       "</div>"
      ]
     },
     "execution_count": 74,
     "metadata": {},
     "output_type": "execute_result"
    }
   ],
   "execution_count": 74
  },
  {
   "metadata": {
    "ExecuteTime": {
     "end_time": "2025-01-12T22:26:22.104924Z",
     "start_time": "2025-01-12T22:26:21.950284Z"
    }
   },
   "cell_type": "code",
   "source": "game_lineups = pd.read_csv(\"/Users/alessandros/Desktop/Assignment_Data_2023-2024/data/game_lineups.csv\")",
   "id": "3ea234471129e648",
   "outputs": [],
   "execution_count": 75
  },
  {
   "metadata": {
    "ExecuteTime": {
     "end_time": "2025-01-12T22:26:29.493822Z",
     "start_time": "2025-01-12T22:26:29.487547Z"
    }
   },
   "cell_type": "code",
   "source": "game_lineups.shape",
   "id": "a83656b5aabaf9b5",
   "outputs": [
    {
     "data": {
      "text/plain": [
       "(119133, 9)"
      ]
     },
     "execution_count": 76,
     "metadata": {},
     "output_type": "execute_result"
    }
   ],
   "execution_count": 76
  },
  {
   "metadata": {
    "ExecuteTime": {
     "end_time": "2025-01-12T22:26:38.315703Z",
     "start_time": "2025-01-12T22:26:38.300860Z"
    }
   },
   "cell_type": "code",
   "source": "game_lineups.head()",
   "id": "8e777b7082617b9b",
   "outputs": [
    {
     "data": {
      "text/plain": [
       "                    game_lineups_id  game_id  club_id             type number  \\\n",
       "0  77b0f371923e0c8bdf050a1e269faaac  3606208      338  starting_lineup     89   \n",
       "1  cb6eeedb9f728570615d37b6fe7facaf  3606208      338  starting_lineup     10   \n",
       "2  8e63d5f47aac2bdb0e54f5481986e104  3606208      338  starting_lineup      5   \n",
       "3  ea4a96d8be410f2d646cf095c4faae7f  3606208      338  starting_lineup     94   \n",
       "4  e6abe553801b09bc623c3deb96acba17  3606208      338  starting_lineup     16   \n",
       "\n",
       "   player_id         player_name  team_captain            position  \n",
       "0     419061  Vladyslav Supryaga             0      Centre-Forward  \n",
       "1     368611   Mykola Shaparenko             0    Central Midfield  \n",
       "2     124182    Sergiy Sydorchuk             1  Defensive Midfield  \n",
       "3     181118     Tomasz Kedziora             0          Right-Back  \n",
       "4     404842   Vitaliy Mykolenko             0           Left-Back  "
      ],
      "text/html": [
       "<div>\n",
       "<style scoped>\n",
       "    .dataframe tbody tr th:only-of-type {\n",
       "        vertical-align: middle;\n",
       "    }\n",
       "\n",
       "    .dataframe tbody tr th {\n",
       "        vertical-align: top;\n",
       "    }\n",
       "\n",
       "    .dataframe thead th {\n",
       "        text-align: right;\n",
       "    }\n",
       "</style>\n",
       "<table border=\"1\" class=\"dataframe\">\n",
       "  <thead>\n",
       "    <tr style=\"text-align: right;\">\n",
       "      <th></th>\n",
       "      <th>game_lineups_id</th>\n",
       "      <th>game_id</th>\n",
       "      <th>club_id</th>\n",
       "      <th>type</th>\n",
       "      <th>number</th>\n",
       "      <th>player_id</th>\n",
       "      <th>player_name</th>\n",
       "      <th>team_captain</th>\n",
       "      <th>position</th>\n",
       "    </tr>\n",
       "  </thead>\n",
       "  <tbody>\n",
       "    <tr>\n",
       "      <th>0</th>\n",
       "      <td>77b0f371923e0c8bdf050a1e269faaac</td>\n",
       "      <td>3606208</td>\n",
       "      <td>338</td>\n",
       "      <td>starting_lineup</td>\n",
       "      <td>89</td>\n",
       "      <td>419061</td>\n",
       "      <td>Vladyslav Supryaga</td>\n",
       "      <td>0</td>\n",
       "      <td>Centre-Forward</td>\n",
       "    </tr>\n",
       "    <tr>\n",
       "      <th>1</th>\n",
       "      <td>cb6eeedb9f728570615d37b6fe7facaf</td>\n",
       "      <td>3606208</td>\n",
       "      <td>338</td>\n",
       "      <td>starting_lineup</td>\n",
       "      <td>10</td>\n",
       "      <td>368611</td>\n",
       "      <td>Mykola Shaparenko</td>\n",
       "      <td>0</td>\n",
       "      <td>Central Midfield</td>\n",
       "    </tr>\n",
       "    <tr>\n",
       "      <th>2</th>\n",
       "      <td>8e63d5f47aac2bdb0e54f5481986e104</td>\n",
       "      <td>3606208</td>\n",
       "      <td>338</td>\n",
       "      <td>starting_lineup</td>\n",
       "      <td>5</td>\n",
       "      <td>124182</td>\n",
       "      <td>Sergiy Sydorchuk</td>\n",
       "      <td>1</td>\n",
       "      <td>Defensive Midfield</td>\n",
       "    </tr>\n",
       "    <tr>\n",
       "      <th>3</th>\n",
       "      <td>ea4a96d8be410f2d646cf095c4faae7f</td>\n",
       "      <td>3606208</td>\n",
       "      <td>338</td>\n",
       "      <td>starting_lineup</td>\n",
       "      <td>94</td>\n",
       "      <td>181118</td>\n",
       "      <td>Tomasz Kedziora</td>\n",
       "      <td>0</td>\n",
       "      <td>Right-Back</td>\n",
       "    </tr>\n",
       "    <tr>\n",
       "      <th>4</th>\n",
       "      <td>e6abe553801b09bc623c3deb96acba17</td>\n",
       "      <td>3606208</td>\n",
       "      <td>338</td>\n",
       "      <td>starting_lineup</td>\n",
       "      <td>16</td>\n",
       "      <td>404842</td>\n",
       "      <td>Vitaliy Mykolenko</td>\n",
       "      <td>0</td>\n",
       "      <td>Left-Back</td>\n",
       "    </tr>\n",
       "  </tbody>\n",
       "</table>\n",
       "</div>"
      ]
     },
     "execution_count": 77,
     "metadata": {},
     "output_type": "execute_result"
    }
   ],
   "execution_count": 77
  },
  {
   "metadata": {
    "ExecuteTime": {
     "end_time": "2025-01-12T22:26:47.058983Z",
     "start_time": "2025-01-12T22:26:47.052978Z"
    }
   },
   "cell_type": "code",
   "source": "game_lineups.columns",
   "id": "46613bdc7c44c069",
   "outputs": [
    {
     "data": {
      "text/plain": [
       "Index(['game_lineups_id', 'game_id', 'club_id', 'type', 'number', 'player_id',\n",
       "       'player_name', 'team_captain', 'position'],\n",
       "      dtype='object')"
      ]
     },
     "execution_count": 78,
     "metadata": {},
     "output_type": "execute_result"
    }
   ],
   "execution_count": 78
  },
  {
   "metadata": {
    "ExecuteTime": {
     "end_time": "2025-01-12T22:26:57.866654Z",
     "start_time": "2025-01-12T22:26:57.843625Z"
    }
   },
   "cell_type": "code",
   "source": "game_lineups.describe()",
   "id": "6d718f9453c1614d",
   "outputs": [
    {
     "data": {
      "text/plain": [
       "            game_id        club_id     player_id   team_captain\n",
       "count  1.191330e+05  119133.000000  1.191330e+05  119133.000000\n",
       "mean   4.130364e+06    8888.762694  4.494484e+05       0.046041\n",
       "std    3.843767e+04   18472.811694  2.729591e+05       0.209575\n",
       "min    3.606208e+06       1.000000  3.159000e+03       0.000000\n",
       "25%    4.097953e+06     398.000000  2.375520e+05       0.000000\n",
       "50%    4.120854e+06    1100.000000  4.048510e+05       0.000000\n",
       "75%    4.160967e+06    6195.000000  6.249200e+05       0.000000\n",
       "max    4.228114e+06  112755.000000  1.207627e+06       1.000000"
      ],
      "text/html": [
       "<div>\n",
       "<style scoped>\n",
       "    .dataframe tbody tr th:only-of-type {\n",
       "        vertical-align: middle;\n",
       "    }\n",
       "\n",
       "    .dataframe tbody tr th {\n",
       "        vertical-align: top;\n",
       "    }\n",
       "\n",
       "    .dataframe thead th {\n",
       "        text-align: right;\n",
       "    }\n",
       "</style>\n",
       "<table border=\"1\" class=\"dataframe\">\n",
       "  <thead>\n",
       "    <tr style=\"text-align: right;\">\n",
       "      <th></th>\n",
       "      <th>game_id</th>\n",
       "      <th>club_id</th>\n",
       "      <th>player_id</th>\n",
       "      <th>team_captain</th>\n",
       "    </tr>\n",
       "  </thead>\n",
       "  <tbody>\n",
       "    <tr>\n",
       "      <th>count</th>\n",
       "      <td>1.191330e+05</td>\n",
       "      <td>119133.000000</td>\n",
       "      <td>1.191330e+05</td>\n",
       "      <td>119133.000000</td>\n",
       "    </tr>\n",
       "    <tr>\n",
       "      <th>mean</th>\n",
       "      <td>4.130364e+06</td>\n",
       "      <td>8888.762694</td>\n",
       "      <td>4.494484e+05</td>\n",
       "      <td>0.046041</td>\n",
       "    </tr>\n",
       "    <tr>\n",
       "      <th>std</th>\n",
       "      <td>3.843767e+04</td>\n",
       "      <td>18472.811694</td>\n",
       "      <td>2.729591e+05</td>\n",
       "      <td>0.209575</td>\n",
       "    </tr>\n",
       "    <tr>\n",
       "      <th>min</th>\n",
       "      <td>3.606208e+06</td>\n",
       "      <td>1.000000</td>\n",
       "      <td>3.159000e+03</td>\n",
       "      <td>0.000000</td>\n",
       "    </tr>\n",
       "    <tr>\n",
       "      <th>25%</th>\n",
       "      <td>4.097953e+06</td>\n",
       "      <td>398.000000</td>\n",
       "      <td>2.375520e+05</td>\n",
       "      <td>0.000000</td>\n",
       "    </tr>\n",
       "    <tr>\n",
       "      <th>50%</th>\n",
       "      <td>4.120854e+06</td>\n",
       "      <td>1100.000000</td>\n",
       "      <td>4.048510e+05</td>\n",
       "      <td>0.000000</td>\n",
       "    </tr>\n",
       "    <tr>\n",
       "      <th>75%</th>\n",
       "      <td>4.160967e+06</td>\n",
       "      <td>6195.000000</td>\n",
       "      <td>6.249200e+05</td>\n",
       "      <td>0.000000</td>\n",
       "    </tr>\n",
       "    <tr>\n",
       "      <th>max</th>\n",
       "      <td>4.228114e+06</td>\n",
       "      <td>112755.000000</td>\n",
       "      <td>1.207627e+06</td>\n",
       "      <td>1.000000</td>\n",
       "    </tr>\n",
       "  </tbody>\n",
       "</table>\n",
       "</div>"
      ]
     },
     "execution_count": 79,
     "metadata": {},
     "output_type": "execute_result"
    }
   ],
   "execution_count": 79
  },
  {
   "metadata": {
    "ExecuteTime": {
     "end_time": "2025-01-12T22:27:13.741836Z",
     "start_time": "2025-01-12T22:27:13.715892Z"
    }
   },
   "cell_type": "code",
   "source": "print(game_lineups.isna().sum())",
   "id": "647a07b3d874016a",
   "outputs": [
    {
     "name": "stdout",
     "output_type": "stream",
     "text": [
      "game_lineups_id    0\n",
      "game_id            0\n",
      "club_id            0\n",
      "type               0\n",
      "number             0\n",
      "player_id          0\n",
      "player_name        0\n",
      "team_captain       0\n",
      "position           0\n",
      "dtype: int64\n"
     ]
    }
   ],
   "execution_count": 80
  },
  {
   "metadata": {
    "ExecuteTime": {
     "end_time": "2025-01-12T22:27:59.613317Z",
     "start_time": "2025-01-12T22:27:59.551958Z"
    }
   },
   "cell_type": "code",
   "source": "game_lineups.loc[game_lineups.duplicated()]",
   "id": "2b031cc997bb864e",
   "outputs": [
    {
     "data": {
      "text/plain": [
       "Empty DataFrame\n",
       "Columns: [game_lineups_id, game_id, club_id, type, number, player_id, player_name, team_captain, position]\n",
       "Index: []"
      ],
      "text/html": [
       "<div>\n",
       "<style scoped>\n",
       "    .dataframe tbody tr th:only-of-type {\n",
       "        vertical-align: middle;\n",
       "    }\n",
       "\n",
       "    .dataframe tbody tr th {\n",
       "        vertical-align: top;\n",
       "    }\n",
       "\n",
       "    .dataframe thead th {\n",
       "        text-align: right;\n",
       "    }\n",
       "</style>\n",
       "<table border=\"1\" class=\"dataframe\">\n",
       "  <thead>\n",
       "    <tr style=\"text-align: right;\">\n",
       "      <th></th>\n",
       "      <th>game_lineups_id</th>\n",
       "      <th>game_id</th>\n",
       "      <th>club_id</th>\n",
       "      <th>type</th>\n",
       "      <th>number</th>\n",
       "      <th>player_id</th>\n",
       "      <th>player_name</th>\n",
       "      <th>team_captain</th>\n",
       "      <th>position</th>\n",
       "    </tr>\n",
       "  </thead>\n",
       "  <tbody>\n",
       "  </tbody>\n",
       "</table>\n",
       "</div>"
      ]
     },
     "execution_count": 82,
     "metadata": {},
     "output_type": "execute_result"
    }
   ],
   "execution_count": 82
  },
  {
   "metadata": {
    "ExecuteTime": {
     "end_time": "2025-01-12T22:28:32.759733Z",
     "start_time": "2025-01-12T22:28:32.542659Z"
    }
   },
   "cell_type": "code",
   "source": "games = pd.read_csv(\"/Users/alessandros/Desktop/Assignment_Data_2023-2024/data/games.csv\")",
   "id": "d012809bc4983303",
   "outputs": [],
   "execution_count": 84
  },
  {
   "metadata": {
    "ExecuteTime": {
     "end_time": "2025-01-12T22:28:42.714793Z",
     "start_time": "2025-01-12T22:28:42.708154Z"
    }
   },
   "cell_type": "code",
   "source": "games.shape",
   "id": "b35a9767e3f72667",
   "outputs": [
    {
     "data": {
      "text/plain": [
       "(65216, 23)"
      ]
     },
     "execution_count": 85,
     "metadata": {},
     "output_type": "execute_result"
    }
   ],
   "execution_count": 85
  },
  {
   "metadata": {
    "ExecuteTime": {
     "end_time": "2025-01-12T22:28:52.479554Z",
     "start_time": "2025-01-12T22:28:52.447940Z"
    }
   },
   "cell_type": "code",
   "source": "games.head()",
   "id": "46b95f8d8fc2f631",
   "outputs": [
    {
     "data": {
      "text/plain": [
       "   game_id competition_id  season         round        date  home_club_id  \\\n",
       "0  2222597            RU1    2012   6. Matchday  2012-08-25          3725   \n",
       "1  2222627            RU1    2012   5. Matchday  2012-08-20          2696   \n",
       "2  2222658            RU1    2012  10. Matchday  2012-09-30          2410   \n",
       "3  2222664            RU1    2012   8. Matchday  2012-09-15           932   \n",
       "4  2222683            RU1    2012  12. Matchday  2012-10-22          2696   \n",
       "\n",
       "   away_club_id  home_club_goals  away_club_goals  home_club_position  ...  \\\n",
       "0           232                2                1                 2.0  ...   \n",
       "1          4128                0                2                11.0  ...   \n",
       "2           121                0                2                 2.0  ...   \n",
       "3          2698                1                0                 5.0  ...   \n",
       "4         12438                0                1                11.0  ...   \n",
       "\n",
       "        stadium attendance               referee  \\\n",
       "0  Akhmat-Arena    21700.0  Vladislav Bezborodov   \n",
       "1     Metallurg    11400.0         Sergey Ivanov   \n",
       "2  Arena Khimki    12000.0        Sergey Karasev   \n",
       "3     RZD Arena    11408.0        Sergey Karasev   \n",
       "4     Metallurg     7534.0     Timur Arslanbekov   \n",
       "\n",
       "                                                 url  home_club_formation  \\\n",
       "0  https://www.transfermarkt.co.uk/terek-grozny_s...                  NaN   \n",
       "1  https://www.transfermarkt.co.uk/krylya-sovetov...                  NaN   \n",
       "2  https://www.transfermarkt.co.uk/cska-moscow_di...                  NaN   \n",
       "3  https://www.transfermarkt.co.uk/lokomotiv-mosc...                  NaN   \n",
       "4  https://www.transfermarkt.co.uk/krylya-sovetov...                  NaN   \n",
       "\n",
       "  away_club_formation                      home_club_name  \\\n",
       "0                 NaN                   RFK Akhmat Grozny   \n",
       "1                 NaN           PFK Krylya Sovetov Samara   \n",
       "2                 NaN                     PFK CSKA Moskva   \n",
       "3                 NaN  Футбольный клуб \"Локомотив\" Москва   \n",
       "4                 NaN           PFK Krylya Sovetov Samara   \n",
       "\n",
       "                    away_club_name aggregate competition_type  \n",
       "0                FK Spartak Moskva       2:1  domestic_league  \n",
       "1                       Amkar Perm       0:2  domestic_league  \n",
       "2                 FK Dinamo Moskva       0:2  domestic_league  \n",
       "3                   FC Rubin Kazan       1:0  domestic_league  \n",
       "4  Volga Nizhniy Novgorod (- 2016)       0:1  domestic_league  \n",
       "\n",
       "[5 rows x 23 columns]"
      ],
      "text/html": [
       "<div>\n",
       "<style scoped>\n",
       "    .dataframe tbody tr th:only-of-type {\n",
       "        vertical-align: middle;\n",
       "    }\n",
       "\n",
       "    .dataframe tbody tr th {\n",
       "        vertical-align: top;\n",
       "    }\n",
       "\n",
       "    .dataframe thead th {\n",
       "        text-align: right;\n",
       "    }\n",
       "</style>\n",
       "<table border=\"1\" class=\"dataframe\">\n",
       "  <thead>\n",
       "    <tr style=\"text-align: right;\">\n",
       "      <th></th>\n",
       "      <th>game_id</th>\n",
       "      <th>competition_id</th>\n",
       "      <th>season</th>\n",
       "      <th>round</th>\n",
       "      <th>date</th>\n",
       "      <th>home_club_id</th>\n",
       "      <th>away_club_id</th>\n",
       "      <th>home_club_goals</th>\n",
       "      <th>away_club_goals</th>\n",
       "      <th>home_club_position</th>\n",
       "      <th>...</th>\n",
       "      <th>stadium</th>\n",
       "      <th>attendance</th>\n",
       "      <th>referee</th>\n",
       "      <th>url</th>\n",
       "      <th>home_club_formation</th>\n",
       "      <th>away_club_formation</th>\n",
       "      <th>home_club_name</th>\n",
       "      <th>away_club_name</th>\n",
       "      <th>aggregate</th>\n",
       "      <th>competition_type</th>\n",
       "    </tr>\n",
       "  </thead>\n",
       "  <tbody>\n",
       "    <tr>\n",
       "      <th>0</th>\n",
       "      <td>2222597</td>\n",
       "      <td>RU1</td>\n",
       "      <td>2012</td>\n",
       "      <td>6. Matchday</td>\n",
       "      <td>2012-08-25</td>\n",
       "      <td>3725</td>\n",
       "      <td>232</td>\n",
       "      <td>2</td>\n",
       "      <td>1</td>\n",
       "      <td>2.0</td>\n",
       "      <td>...</td>\n",
       "      <td>Akhmat-Arena</td>\n",
       "      <td>21700.0</td>\n",
       "      <td>Vladislav Bezborodov</td>\n",
       "      <td>https://www.transfermarkt.co.uk/terek-grozny_s...</td>\n",
       "      <td>NaN</td>\n",
       "      <td>NaN</td>\n",
       "      <td>RFK Akhmat Grozny</td>\n",
       "      <td>FK Spartak Moskva</td>\n",
       "      <td>2:1</td>\n",
       "      <td>domestic_league</td>\n",
       "    </tr>\n",
       "    <tr>\n",
       "      <th>1</th>\n",
       "      <td>2222627</td>\n",
       "      <td>RU1</td>\n",
       "      <td>2012</td>\n",
       "      <td>5. Matchday</td>\n",
       "      <td>2012-08-20</td>\n",
       "      <td>2696</td>\n",
       "      <td>4128</td>\n",
       "      <td>0</td>\n",
       "      <td>2</td>\n",
       "      <td>11.0</td>\n",
       "      <td>...</td>\n",
       "      <td>Metallurg</td>\n",
       "      <td>11400.0</td>\n",
       "      <td>Sergey Ivanov</td>\n",
       "      <td>https://www.transfermarkt.co.uk/krylya-sovetov...</td>\n",
       "      <td>NaN</td>\n",
       "      <td>NaN</td>\n",
       "      <td>PFK Krylya Sovetov Samara</td>\n",
       "      <td>Amkar Perm</td>\n",
       "      <td>0:2</td>\n",
       "      <td>domestic_league</td>\n",
       "    </tr>\n",
       "    <tr>\n",
       "      <th>2</th>\n",
       "      <td>2222658</td>\n",
       "      <td>RU1</td>\n",
       "      <td>2012</td>\n",
       "      <td>10. Matchday</td>\n",
       "      <td>2012-09-30</td>\n",
       "      <td>2410</td>\n",
       "      <td>121</td>\n",
       "      <td>0</td>\n",
       "      <td>2</td>\n",
       "      <td>2.0</td>\n",
       "      <td>...</td>\n",
       "      <td>Arena Khimki</td>\n",
       "      <td>12000.0</td>\n",
       "      <td>Sergey Karasev</td>\n",
       "      <td>https://www.transfermarkt.co.uk/cska-moscow_di...</td>\n",
       "      <td>NaN</td>\n",
       "      <td>NaN</td>\n",
       "      <td>PFK CSKA Moskva</td>\n",
       "      <td>FK Dinamo Moskva</td>\n",
       "      <td>0:2</td>\n",
       "      <td>domestic_league</td>\n",
       "    </tr>\n",
       "    <tr>\n",
       "      <th>3</th>\n",
       "      <td>2222664</td>\n",
       "      <td>RU1</td>\n",
       "      <td>2012</td>\n",
       "      <td>8. Matchday</td>\n",
       "      <td>2012-09-15</td>\n",
       "      <td>932</td>\n",
       "      <td>2698</td>\n",
       "      <td>1</td>\n",
       "      <td>0</td>\n",
       "      <td>5.0</td>\n",
       "      <td>...</td>\n",
       "      <td>RZD Arena</td>\n",
       "      <td>11408.0</td>\n",
       "      <td>Sergey Karasev</td>\n",
       "      <td>https://www.transfermarkt.co.uk/lokomotiv-mosc...</td>\n",
       "      <td>NaN</td>\n",
       "      <td>NaN</td>\n",
       "      <td>Футбольный клуб \"Локомотив\" Москва</td>\n",
       "      <td>FC Rubin Kazan</td>\n",
       "      <td>1:0</td>\n",
       "      <td>domestic_league</td>\n",
       "    </tr>\n",
       "    <tr>\n",
       "      <th>4</th>\n",
       "      <td>2222683</td>\n",
       "      <td>RU1</td>\n",
       "      <td>2012</td>\n",
       "      <td>12. Matchday</td>\n",
       "      <td>2012-10-22</td>\n",
       "      <td>2696</td>\n",
       "      <td>12438</td>\n",
       "      <td>0</td>\n",
       "      <td>1</td>\n",
       "      <td>11.0</td>\n",
       "      <td>...</td>\n",
       "      <td>Metallurg</td>\n",
       "      <td>7534.0</td>\n",
       "      <td>Timur Arslanbekov</td>\n",
       "      <td>https://www.transfermarkt.co.uk/krylya-sovetov...</td>\n",
       "      <td>NaN</td>\n",
       "      <td>NaN</td>\n",
       "      <td>PFK Krylya Sovetov Samara</td>\n",
       "      <td>Volga Nizhniy Novgorod (- 2016)</td>\n",
       "      <td>0:1</td>\n",
       "      <td>domestic_league</td>\n",
       "    </tr>\n",
       "  </tbody>\n",
       "</table>\n",
       "<p>5 rows × 23 columns</p>\n",
       "</div>"
      ]
     },
     "execution_count": 86,
     "metadata": {},
     "output_type": "execute_result"
    }
   ],
   "execution_count": 86
  },
  {
   "metadata": {
    "ExecuteTime": {
     "end_time": "2025-01-12T22:29:09.690943Z",
     "start_time": "2025-01-12T22:29:09.684246Z"
    }
   },
   "cell_type": "code",
   "source": "games.columns",
   "id": "809dc94693b69552",
   "outputs": [
    {
     "data": {
      "text/plain": [
       "Index(['game_id', 'competition_id', 'season', 'round', 'date', 'home_club_id',\n",
       "       'away_club_id', 'home_club_goals', 'away_club_goals',\n",
       "       'home_club_position', 'away_club_position', 'home_club_manager_name',\n",
       "       'away_club_manager_name', 'stadium', 'attendance', 'referee', 'url',\n",
       "       'home_club_formation', 'away_club_formation', 'home_club_name',\n",
       "       'away_club_name', 'aggregate', 'competition_type'],\n",
       "      dtype='object')"
      ]
     },
     "execution_count": 87,
     "metadata": {},
     "output_type": "execute_result"
    }
   ],
   "execution_count": 87
  },
  {
   "metadata": {
    "ExecuteTime": {
     "end_time": "2025-01-12T22:29:25.562448Z",
     "start_time": "2025-01-12T22:29:25.520601Z"
    }
   },
   "cell_type": "code",
   "source": "games.describe()",
   "id": "d5938b7e635816ee",
   "outputs": [
    {
     "data": {
      "text/plain": [
       "            game_id        season   home_club_id   away_club_id  \\\n",
       "count  6.521600e+04  65216.000000   65216.000000   65216.000000   \n",
       "mean   3.018125e+06   2017.252990    4921.579597    4441.948862   \n",
       "std    5.605215e+05      3.348529   11440.848691   10262.628710   \n",
       "min    2.211607e+06   2012.000000       1.000000       2.000000   \n",
       "25%    2.518596e+06   2014.000000     354.000000     347.000000   \n",
       "50%    2.919854e+06   2017.000000     995.000000     989.000000   \n",
       "75%    3.450800e+06   2020.000000    3205.000000    3028.000000   \n",
       "max    4.228114e+06   2023.000000  112753.000000  112755.000000   \n",
       "\n",
       "       home_club_goals  away_club_goals  home_club_position  \\\n",
       "count     65216.000000     65216.000000        45762.000000   \n",
       "mean          1.593290         1.321440            9.273043   \n",
       "std           1.427243         1.363181            5.299837   \n",
       "min           0.000000         0.000000            1.000000   \n",
       "25%           1.000000         0.000000            5.000000   \n",
       "50%           1.000000         1.000000            9.000000   \n",
       "75%           2.000000         2.000000           14.000000   \n",
       "max          15.000000        19.000000           21.000000   \n",
       "\n",
       "       away_club_position    attendance  \n",
       "count        45762.000000  55704.000000  \n",
       "mean             9.456776  18060.337337  \n",
       "std              5.321858  17764.667425  \n",
       "min              1.000000      1.000000  \n",
       "25%              5.000000   4300.000000  \n",
       "50%              9.000000  12140.000000  \n",
       "75%             14.000000  26184.000000  \n",
       "max             21.000000  99354.000000  "
      ],
      "text/html": [
       "<div>\n",
       "<style scoped>\n",
       "    .dataframe tbody tr th:only-of-type {\n",
       "        vertical-align: middle;\n",
       "    }\n",
       "\n",
       "    .dataframe tbody tr th {\n",
       "        vertical-align: top;\n",
       "    }\n",
       "\n",
       "    .dataframe thead th {\n",
       "        text-align: right;\n",
       "    }\n",
       "</style>\n",
       "<table border=\"1\" class=\"dataframe\">\n",
       "  <thead>\n",
       "    <tr style=\"text-align: right;\">\n",
       "      <th></th>\n",
       "      <th>game_id</th>\n",
       "      <th>season</th>\n",
       "      <th>home_club_id</th>\n",
       "      <th>away_club_id</th>\n",
       "      <th>home_club_goals</th>\n",
       "      <th>away_club_goals</th>\n",
       "      <th>home_club_position</th>\n",
       "      <th>away_club_position</th>\n",
       "      <th>attendance</th>\n",
       "    </tr>\n",
       "  </thead>\n",
       "  <tbody>\n",
       "    <tr>\n",
       "      <th>count</th>\n",
       "      <td>6.521600e+04</td>\n",
       "      <td>65216.000000</td>\n",
       "      <td>65216.000000</td>\n",
       "      <td>65216.000000</td>\n",
       "      <td>65216.000000</td>\n",
       "      <td>65216.000000</td>\n",
       "      <td>45762.000000</td>\n",
       "      <td>45762.000000</td>\n",
       "      <td>55704.000000</td>\n",
       "    </tr>\n",
       "    <tr>\n",
       "      <th>mean</th>\n",
       "      <td>3.018125e+06</td>\n",
       "      <td>2017.252990</td>\n",
       "      <td>4921.579597</td>\n",
       "      <td>4441.948862</td>\n",
       "      <td>1.593290</td>\n",
       "      <td>1.321440</td>\n",
       "      <td>9.273043</td>\n",
       "      <td>9.456776</td>\n",
       "      <td>18060.337337</td>\n",
       "    </tr>\n",
       "    <tr>\n",
       "      <th>std</th>\n",
       "      <td>5.605215e+05</td>\n",
       "      <td>3.348529</td>\n",
       "      <td>11440.848691</td>\n",
       "      <td>10262.628710</td>\n",
       "      <td>1.427243</td>\n",
       "      <td>1.363181</td>\n",
       "      <td>5.299837</td>\n",
       "      <td>5.321858</td>\n",
       "      <td>17764.667425</td>\n",
       "    </tr>\n",
       "    <tr>\n",
       "      <th>min</th>\n",
       "      <td>2.211607e+06</td>\n",
       "      <td>2012.000000</td>\n",
       "      <td>1.000000</td>\n",
       "      <td>2.000000</td>\n",
       "      <td>0.000000</td>\n",
       "      <td>0.000000</td>\n",
       "      <td>1.000000</td>\n",
       "      <td>1.000000</td>\n",
       "      <td>1.000000</td>\n",
       "    </tr>\n",
       "    <tr>\n",
       "      <th>25%</th>\n",
       "      <td>2.518596e+06</td>\n",
       "      <td>2014.000000</td>\n",
       "      <td>354.000000</td>\n",
       "      <td>347.000000</td>\n",
       "      <td>1.000000</td>\n",
       "      <td>0.000000</td>\n",
       "      <td>5.000000</td>\n",
       "      <td>5.000000</td>\n",
       "      <td>4300.000000</td>\n",
       "    </tr>\n",
       "    <tr>\n",
       "      <th>50%</th>\n",
       "      <td>2.919854e+06</td>\n",
       "      <td>2017.000000</td>\n",
       "      <td>995.000000</td>\n",
       "      <td>989.000000</td>\n",
       "      <td>1.000000</td>\n",
       "      <td>1.000000</td>\n",
       "      <td>9.000000</td>\n",
       "      <td>9.000000</td>\n",
       "      <td>12140.000000</td>\n",
       "    </tr>\n",
       "    <tr>\n",
       "      <th>75%</th>\n",
       "      <td>3.450800e+06</td>\n",
       "      <td>2020.000000</td>\n",
       "      <td>3205.000000</td>\n",
       "      <td>3028.000000</td>\n",
       "      <td>2.000000</td>\n",
       "      <td>2.000000</td>\n",
       "      <td>14.000000</td>\n",
       "      <td>14.000000</td>\n",
       "      <td>26184.000000</td>\n",
       "    </tr>\n",
       "    <tr>\n",
       "      <th>max</th>\n",
       "      <td>4.228114e+06</td>\n",
       "      <td>2023.000000</td>\n",
       "      <td>112753.000000</td>\n",
       "      <td>112755.000000</td>\n",
       "      <td>15.000000</td>\n",
       "      <td>19.000000</td>\n",
       "      <td>21.000000</td>\n",
       "      <td>21.000000</td>\n",
       "      <td>99354.000000</td>\n",
       "    </tr>\n",
       "  </tbody>\n",
       "</table>\n",
       "</div>"
      ]
     },
     "execution_count": 88,
     "metadata": {},
     "output_type": "execute_result"
    }
   ],
   "execution_count": 88
  },
  {
   "metadata": {
    "ExecuteTime": {
     "end_time": "2025-01-12T22:29:39.267890Z",
     "start_time": "2025-01-12T22:29:39.234197Z"
    }
   },
   "cell_type": "code",
   "source": "print(games.isna().sum())",
   "id": "e2b0332bf1cff4b1",
   "outputs": [
    {
     "name": "stdout",
     "output_type": "stream",
     "text": [
      "game_id                       0\n",
      "competition_id                0\n",
      "season                        0\n",
      "round                         0\n",
      "date                          0\n",
      "home_club_id                  0\n",
      "away_club_id                  0\n",
      "home_club_goals               0\n",
      "away_club_goals               0\n",
      "home_club_position        19454\n",
      "away_club_position        19454\n",
      "home_club_manager_name      742\n",
      "away_club_manager_name      742\n",
      "stadium                     211\n",
      "attendance                 9512\n",
      "referee                     594\n",
      "url                           0\n",
      "home_club_formation       62347\n",
      "away_club_formation       62328\n",
      "home_club_name            11252\n",
      "away_club_name            10049\n",
      "aggregate                     0\n",
      "competition_type              0\n",
      "dtype: int64\n"
     ]
    }
   ],
   "execution_count": 89
  },
  {
   "metadata": {
    "ExecuteTime": {
     "end_time": "2025-01-12T22:30:05.104548Z",
     "start_time": "2025-01-12T22:30:05.032961Z"
    }
   },
   "cell_type": "code",
   "source": "games.loc[games.duplicated()]",
   "id": "23b60fa9b05533a0",
   "outputs": [
    {
     "data": {
      "text/plain": [
       "Empty DataFrame\n",
       "Columns: [game_id, competition_id, season, round, date, home_club_id, away_club_id, home_club_goals, away_club_goals, home_club_position, away_club_position, home_club_manager_name, away_club_manager_name, stadium, attendance, referee, url, home_club_formation, away_club_formation, home_club_name, away_club_name, aggregate, competition_type]\n",
       "Index: []\n",
       "\n",
       "[0 rows x 23 columns]"
      ],
      "text/html": [
       "<div>\n",
       "<style scoped>\n",
       "    .dataframe tbody tr th:only-of-type {\n",
       "        vertical-align: middle;\n",
       "    }\n",
       "\n",
       "    .dataframe tbody tr th {\n",
       "        vertical-align: top;\n",
       "    }\n",
       "\n",
       "    .dataframe thead th {\n",
       "        text-align: right;\n",
       "    }\n",
       "</style>\n",
       "<table border=\"1\" class=\"dataframe\">\n",
       "  <thead>\n",
       "    <tr style=\"text-align: right;\">\n",
       "      <th></th>\n",
       "      <th>game_id</th>\n",
       "      <th>competition_id</th>\n",
       "      <th>season</th>\n",
       "      <th>round</th>\n",
       "      <th>date</th>\n",
       "      <th>home_club_id</th>\n",
       "      <th>away_club_id</th>\n",
       "      <th>home_club_goals</th>\n",
       "      <th>away_club_goals</th>\n",
       "      <th>home_club_position</th>\n",
       "      <th>...</th>\n",
       "      <th>stadium</th>\n",
       "      <th>attendance</th>\n",
       "      <th>referee</th>\n",
       "      <th>url</th>\n",
       "      <th>home_club_formation</th>\n",
       "      <th>away_club_formation</th>\n",
       "      <th>home_club_name</th>\n",
       "      <th>away_club_name</th>\n",
       "      <th>aggregate</th>\n",
       "      <th>competition_type</th>\n",
       "    </tr>\n",
       "  </thead>\n",
       "  <tbody>\n",
       "  </tbody>\n",
       "</table>\n",
       "<p>0 rows × 23 columns</p>\n",
       "</div>"
      ]
     },
     "execution_count": 90,
     "metadata": {},
     "output_type": "execute_result"
    }
   ],
   "execution_count": 90
  },
  {
   "metadata": {
    "ExecuteTime": {
     "end_time": "2025-01-12T22:30:59.896511Z",
     "start_time": "2025-01-12T22:30:59.656846Z"
    }
   },
   "cell_type": "code",
   "source": "player_valuations = pd.read_csv(\"/Users/alessandros/Desktop/Assignment_Data_2023-2024/data/player_valuations.csv\")",
   "id": "83ae80c909973eb3",
   "outputs": [],
   "execution_count": 91
  },
  {
   "metadata": {
    "ExecuteTime": {
     "end_time": "2025-01-12T22:31:12.346315Z",
     "start_time": "2025-01-12T22:31:12.339958Z"
    }
   },
   "cell_type": "code",
   "source": "player_valuations.shape",
   "id": "168d8fcd6dafdfa7",
   "outputs": [
    {
     "data": {
      "text/plain": [
       "(440663, 9)"
      ]
     },
     "execution_count": 92,
     "metadata": {},
     "output_type": "execute_result"
    }
   ],
   "execution_count": 92
  },
  {
   "metadata": {
    "ExecuteTime": {
     "end_time": "2025-01-12T22:31:20.966279Z",
     "start_time": "2025-01-12T22:31:20.956806Z"
    }
   },
   "cell_type": "code",
   "source": "player_valuations.head()",
   "id": "80fb15b58f2f85d2",
   "outputs": [
    {
     "data": {
      "text/plain": [
       "   player_id  last_season             datetime        date    dateweek  \\\n",
       "0       3132         2013  2003-12-09 00:00:00  2003-12-09  2003-12-08   \n",
       "1       6893         2012  2003-12-15 00:00:00  2003-12-15  2003-12-15   \n",
       "2         10         2015  2004-10-04 00:00:00  2004-10-04  2004-10-04   \n",
       "3         26         2017  2004-10-04 00:00:00  2004-10-04  2004-10-04   \n",
       "4         65         2015  2004-10-04 00:00:00  2004-10-04  2004-10-04   \n",
       "\n",
       "   market_value_in_eur  n  current_club_id player_club_domestic_competition_id  \n",
       "0               400000  1              126                                 TR1  \n",
       "1               900000  1              984                                 GB1  \n",
       "2              7000000  1              398                                 IT1  \n",
       "3              1500000  1               16                                  L1  \n",
       "4              8000000  1             1091                                 GR1  "
      ],
      "text/html": [
       "<div>\n",
       "<style scoped>\n",
       "    .dataframe tbody tr th:only-of-type {\n",
       "        vertical-align: middle;\n",
       "    }\n",
       "\n",
       "    .dataframe tbody tr th {\n",
       "        vertical-align: top;\n",
       "    }\n",
       "\n",
       "    .dataframe thead th {\n",
       "        text-align: right;\n",
       "    }\n",
       "</style>\n",
       "<table border=\"1\" class=\"dataframe\">\n",
       "  <thead>\n",
       "    <tr style=\"text-align: right;\">\n",
       "      <th></th>\n",
       "      <th>player_id</th>\n",
       "      <th>last_season</th>\n",
       "      <th>datetime</th>\n",
       "      <th>date</th>\n",
       "      <th>dateweek</th>\n",
       "      <th>market_value_in_eur</th>\n",
       "      <th>n</th>\n",
       "      <th>current_club_id</th>\n",
       "      <th>player_club_domestic_competition_id</th>\n",
       "    </tr>\n",
       "  </thead>\n",
       "  <tbody>\n",
       "    <tr>\n",
       "      <th>0</th>\n",
       "      <td>3132</td>\n",
       "      <td>2013</td>\n",
       "      <td>2003-12-09 00:00:00</td>\n",
       "      <td>2003-12-09</td>\n",
       "      <td>2003-12-08</td>\n",
       "      <td>400000</td>\n",
       "      <td>1</td>\n",
       "      <td>126</td>\n",
       "      <td>TR1</td>\n",
       "    </tr>\n",
       "    <tr>\n",
       "      <th>1</th>\n",
       "      <td>6893</td>\n",
       "      <td>2012</td>\n",
       "      <td>2003-12-15 00:00:00</td>\n",
       "      <td>2003-12-15</td>\n",
       "      <td>2003-12-15</td>\n",
       "      <td>900000</td>\n",
       "      <td>1</td>\n",
       "      <td>984</td>\n",
       "      <td>GB1</td>\n",
       "    </tr>\n",
       "    <tr>\n",
       "      <th>2</th>\n",
       "      <td>10</td>\n",
       "      <td>2015</td>\n",
       "      <td>2004-10-04 00:00:00</td>\n",
       "      <td>2004-10-04</td>\n",
       "      <td>2004-10-04</td>\n",
       "      <td>7000000</td>\n",
       "      <td>1</td>\n",
       "      <td>398</td>\n",
       "      <td>IT1</td>\n",
       "    </tr>\n",
       "    <tr>\n",
       "      <th>3</th>\n",
       "      <td>26</td>\n",
       "      <td>2017</td>\n",
       "      <td>2004-10-04 00:00:00</td>\n",
       "      <td>2004-10-04</td>\n",
       "      <td>2004-10-04</td>\n",
       "      <td>1500000</td>\n",
       "      <td>1</td>\n",
       "      <td>16</td>\n",
       "      <td>L1</td>\n",
       "    </tr>\n",
       "    <tr>\n",
       "      <th>4</th>\n",
       "      <td>65</td>\n",
       "      <td>2015</td>\n",
       "      <td>2004-10-04 00:00:00</td>\n",
       "      <td>2004-10-04</td>\n",
       "      <td>2004-10-04</td>\n",
       "      <td>8000000</td>\n",
       "      <td>1</td>\n",
       "      <td>1091</td>\n",
       "      <td>GR1</td>\n",
       "    </tr>\n",
       "  </tbody>\n",
       "</table>\n",
       "</div>"
      ]
     },
     "execution_count": 93,
     "metadata": {},
     "output_type": "execute_result"
    }
   ],
   "execution_count": 93
  },
  {
   "metadata": {
    "ExecuteTime": {
     "end_time": "2025-01-12T22:31:30.578241Z",
     "start_time": "2025-01-12T22:31:30.569823Z"
    }
   },
   "cell_type": "code",
   "source": "player_valuations.columns",
   "id": "5324bb096083bce9",
   "outputs": [
    {
     "data": {
      "text/plain": [
       "Index(['player_id', 'last_season', 'datetime', 'date', 'dateweek',\n",
       "       'market_value_in_eur', 'n', 'current_club_id',\n",
       "       'player_club_domestic_competition_id'],\n",
       "      dtype='object')"
      ]
     },
     "execution_count": 94,
     "metadata": {},
     "output_type": "execute_result"
    }
   ],
   "execution_count": 94
  },
  {
   "metadata": {
    "ExecuteTime": {
     "end_time": "2025-01-12T22:31:39.543785Z",
     "start_time": "2025-01-12T22:31:39.484915Z"
    }
   },
   "cell_type": "code",
   "source": "player_valuations.describe()",
   "id": "43ac579c1ee7417f",
   "outputs": [
    {
     "data": {
      "text/plain": [
       "          player_id    last_season  market_value_in_eur         n  \\\n",
       "count  4.406630e+05  440663.000000         4.406630e+05  440663.0   \n",
       "mean   1.964113e+05    2018.762887         2.357557e+06       1.0   \n",
       "std    1.793622e+05       3.624305         6.603356e+06       0.0   \n",
       "min    1.000000e+01    2012.000000         1.000000e+04       1.0   \n",
       "25%    5.532200e+04    2016.000000         2.000000e+05       1.0   \n",
       "50%    1.407480e+05    2019.000000         5.000000e+05       1.0   \n",
       "75%    2.896450e+05    2022.000000         1.600000e+06       1.0   \n",
       "max    1.166093e+06    2023.000000         2.000000e+08       1.0   \n",
       "\n",
       "       current_club_id  \n",
       "count    440663.000000  \n",
       "mean       4041.891491  \n",
       "std        9508.375247  \n",
       "min           3.000000  \n",
       "25%         368.000000  \n",
       "50%        1010.000000  \n",
       "75%        2944.000000  \n",
       "max       83678.000000  "
      ],
      "text/html": [
       "<div>\n",
       "<style scoped>\n",
       "    .dataframe tbody tr th:only-of-type {\n",
       "        vertical-align: middle;\n",
       "    }\n",
       "\n",
       "    .dataframe tbody tr th {\n",
       "        vertical-align: top;\n",
       "    }\n",
       "\n",
       "    .dataframe thead th {\n",
       "        text-align: right;\n",
       "    }\n",
       "</style>\n",
       "<table border=\"1\" class=\"dataframe\">\n",
       "  <thead>\n",
       "    <tr style=\"text-align: right;\">\n",
       "      <th></th>\n",
       "      <th>player_id</th>\n",
       "      <th>last_season</th>\n",
       "      <th>market_value_in_eur</th>\n",
       "      <th>n</th>\n",
       "      <th>current_club_id</th>\n",
       "    </tr>\n",
       "  </thead>\n",
       "  <tbody>\n",
       "    <tr>\n",
       "      <th>count</th>\n",
       "      <td>4.406630e+05</td>\n",
       "      <td>440663.000000</td>\n",
       "      <td>4.406630e+05</td>\n",
       "      <td>440663.0</td>\n",
       "      <td>440663.000000</td>\n",
       "    </tr>\n",
       "    <tr>\n",
       "      <th>mean</th>\n",
       "      <td>1.964113e+05</td>\n",
       "      <td>2018.762887</td>\n",
       "      <td>2.357557e+06</td>\n",
       "      <td>1.0</td>\n",
       "      <td>4041.891491</td>\n",
       "    </tr>\n",
       "    <tr>\n",
       "      <th>std</th>\n",
       "      <td>1.793622e+05</td>\n",
       "      <td>3.624305</td>\n",
       "      <td>6.603356e+06</td>\n",
       "      <td>0.0</td>\n",
       "      <td>9508.375247</td>\n",
       "    </tr>\n",
       "    <tr>\n",
       "      <th>min</th>\n",
       "      <td>1.000000e+01</td>\n",
       "      <td>2012.000000</td>\n",
       "      <td>1.000000e+04</td>\n",
       "      <td>1.0</td>\n",
       "      <td>3.000000</td>\n",
       "    </tr>\n",
       "    <tr>\n",
       "      <th>25%</th>\n",
       "      <td>5.532200e+04</td>\n",
       "      <td>2016.000000</td>\n",
       "      <td>2.000000e+05</td>\n",
       "      <td>1.0</td>\n",
       "      <td>368.000000</td>\n",
       "    </tr>\n",
       "    <tr>\n",
       "      <th>50%</th>\n",
       "      <td>1.407480e+05</td>\n",
       "      <td>2019.000000</td>\n",
       "      <td>5.000000e+05</td>\n",
       "      <td>1.0</td>\n",
       "      <td>1010.000000</td>\n",
       "    </tr>\n",
       "    <tr>\n",
       "      <th>75%</th>\n",
       "      <td>2.896450e+05</td>\n",
       "      <td>2022.000000</td>\n",
       "      <td>1.600000e+06</td>\n",
       "      <td>1.0</td>\n",
       "      <td>2944.000000</td>\n",
       "    </tr>\n",
       "    <tr>\n",
       "      <th>max</th>\n",
       "      <td>1.166093e+06</td>\n",
       "      <td>2023.000000</td>\n",
       "      <td>2.000000e+08</td>\n",
       "      <td>1.0</td>\n",
       "      <td>83678.000000</td>\n",
       "    </tr>\n",
       "  </tbody>\n",
       "</table>\n",
       "</div>"
      ]
     },
     "execution_count": 95,
     "metadata": {},
     "output_type": "execute_result"
    }
   ],
   "execution_count": 95
  },
  {
   "metadata": {
    "ExecuteTime": {
     "end_time": "2025-01-12T22:31:50.906484Z",
     "start_time": "2025-01-12T22:31:50.868101Z"
    }
   },
   "cell_type": "code",
   "source": "print(player_valuations.isna().sum())",
   "id": "87bc419d93c33187",
   "outputs": [
    {
     "name": "stdout",
     "output_type": "stream",
     "text": [
      "player_id                              0\n",
      "last_season                            0\n",
      "datetime                               0\n",
      "date                                   0\n",
      "dateweek                               0\n",
      "market_value_in_eur                    0\n",
      "n                                      0\n",
      "current_club_id                        0\n",
      "player_club_domestic_competition_id    0\n",
      "dtype: int64\n"
     ]
    }
   ],
   "execution_count": 96
  },
  {
   "metadata": {
    "ExecuteTime": {
     "end_time": "2025-01-12T22:32:10.745965Z",
     "start_time": "2025-01-12T22:32:10.618119Z"
    }
   },
   "cell_type": "code",
   "source": "player_valuations.loc[player_valuations.duplicated()]",
   "id": "1816ece1555b1b1c",
   "outputs": [
    {
     "data": {
      "text/plain": [
       "Empty DataFrame\n",
       "Columns: [player_id, last_season, datetime, date, dateweek, market_value_in_eur, n, current_club_id, player_club_domestic_competition_id]\n",
       "Index: []"
      ],
      "text/html": [
       "<div>\n",
       "<style scoped>\n",
       "    .dataframe tbody tr th:only-of-type {\n",
       "        vertical-align: middle;\n",
       "    }\n",
       "\n",
       "    .dataframe tbody tr th {\n",
       "        vertical-align: top;\n",
       "    }\n",
       "\n",
       "    .dataframe thead th {\n",
       "        text-align: right;\n",
       "    }\n",
       "</style>\n",
       "<table border=\"1\" class=\"dataframe\">\n",
       "  <thead>\n",
       "    <tr style=\"text-align: right;\">\n",
       "      <th></th>\n",
       "      <th>player_id</th>\n",
       "      <th>last_season</th>\n",
       "      <th>datetime</th>\n",
       "      <th>date</th>\n",
       "      <th>dateweek</th>\n",
       "      <th>market_value_in_eur</th>\n",
       "      <th>n</th>\n",
       "      <th>current_club_id</th>\n",
       "      <th>player_club_domestic_competition_id</th>\n",
       "    </tr>\n",
       "  </thead>\n",
       "  <tbody>\n",
       "  </tbody>\n",
       "</table>\n",
       "</div>"
      ]
     },
     "execution_count": 97,
     "metadata": {},
     "output_type": "execute_result"
    }
   ],
   "execution_count": 97
  },
  {
   "metadata": {
    "ExecuteTime": {
     "end_time": "2025-01-12T22:32:36.685134Z",
     "start_time": "2025-01-12T22:32:36.527556Z"
    }
   },
   "cell_type": "code",
   "source": "players = pd.read_csv(\"/Users/alessandros/Desktop/Assignment_Data_2023-2024/data/players.csv\")",
   "id": "e211c0d0ef112856",
   "outputs": [],
   "execution_count": 98
  },
  {
   "metadata": {
    "ExecuteTime": {
     "end_time": "2025-01-12T22:32:58.350407Z",
     "start_time": "2025-01-12T22:32:58.342802Z"
    }
   },
   "cell_type": "code",
   "source": "players.shape",
   "id": "e8fc76aba862c74f",
   "outputs": [
    {
     "data": {
      "text/plain": [
       "(30302, 23)"
      ]
     },
     "execution_count": 99,
     "metadata": {},
     "output_type": "execute_result"
    }
   ],
   "execution_count": 99
  },
  {
   "metadata": {
    "ExecuteTime": {
     "end_time": "2025-01-12T22:33:07.311179Z",
     "start_time": "2025-01-12T22:33:07.299168Z"
    }
   },
   "cell_type": "code",
   "source": "players.head()",
   "id": "e7b936497727b87b",
   "outputs": [
    {
     "data": {
      "text/plain": [
       "   player_id first_name   last_name              name  last_season  \\\n",
       "0        598       Timo  Hildebrand   Timo Hildebrand         2014   \n",
       "1        670     Martin      Petrov     Martin Petrov         2012   \n",
       "2       1323     Martin     Amedick    Martin Amedick         2012   \n",
       "3       3195   Jermaine     Pennant  Jermaine Pennant         2013   \n",
       "4       3259     Damien        Duff       Damien Duff         2013   \n",
       "\n",
       "   current_club_id       player_code country_of_birth city_of_birth  \\\n",
       "0               24   timo-hildebrand          Germany         Worms   \n",
       "1              714     martin-petrov         Bulgaria        Vratsa   \n",
       "2               24    martin-amedick          Germany     Paderborn   \n",
       "3              512  jermaine-pennant          England    Nottingham   \n",
       "4              931       damien-duff          Ireland    Ballyboden   \n",
       "\n",
       "  country_of_citizenship  ...   foot height_in_cm market_value_in_eur  \\\n",
       "0                Germany  ...    NaN          NaN                 NaN   \n",
       "1               Bulgaria  ...    NaN          NaN                 NaN   \n",
       "2                Germany  ...    NaN          NaN                 NaN   \n",
       "3                England  ...  right        173.0                 NaN   \n",
       "4                Ireland  ...   left        177.0                 NaN   \n",
       "\n",
       "  highest_market_value_in_eur  contract_expiration_date  agent_name  \\\n",
       "0                  10000000.0                       NaN         NaN   \n",
       "1                  12000000.0                       NaN         IFM   \n",
       "2                   2750000.0                       NaN         NaN   \n",
       "3                  10500000.0                       NaN  Andrew Sky   \n",
       "4                  17000000.0                       NaN         NaN   \n",
       "\n",
       "                                           image_url  \\\n",
       "0  https://img.a.transfermarkt.technology/portrai...   \n",
       "1  https://img.a.transfermarkt.technology/portrai...   \n",
       "2  https://img.a.transfermarkt.technology/portrai...   \n",
       "3  https://img.a.transfermarkt.technology/portrai...   \n",
       "4  https://img.a.transfermarkt.technology/portrai...   \n",
       "\n",
       "                                                 url  \\\n",
       "0  https://www.transfermarkt.co.uk/timo-hildebran...   \n",
       "1  https://www.transfermarkt.co.uk/martin-petrov/...   \n",
       "2  https://www.transfermarkt.co.uk/martin-amedick...   \n",
       "3  https://www.transfermarkt.co.uk/jermaine-penna...   \n",
       "4  https://www.transfermarkt.co.uk/damien-duff/pr...   \n",
       "\n",
       "  current_club_domestic_competition_id       current_club_name  \n",
       "0                                   L1     Eintracht Frankfurt  \n",
       "1                                  ES1  RCD Espanyol Barcelona  \n",
       "2                                   L1     Eintracht Frankfurt  \n",
       "3                                  GB1              Stoke City  \n",
       "4                                  GB1               Fulham FC  \n",
       "\n",
       "[5 rows x 23 columns]"
      ],
      "text/html": [
       "<div>\n",
       "<style scoped>\n",
       "    .dataframe tbody tr th:only-of-type {\n",
       "        vertical-align: middle;\n",
       "    }\n",
       "\n",
       "    .dataframe tbody tr th {\n",
       "        vertical-align: top;\n",
       "    }\n",
       "\n",
       "    .dataframe thead th {\n",
       "        text-align: right;\n",
       "    }\n",
       "</style>\n",
       "<table border=\"1\" class=\"dataframe\">\n",
       "  <thead>\n",
       "    <tr style=\"text-align: right;\">\n",
       "      <th></th>\n",
       "      <th>player_id</th>\n",
       "      <th>first_name</th>\n",
       "      <th>last_name</th>\n",
       "      <th>name</th>\n",
       "      <th>last_season</th>\n",
       "      <th>current_club_id</th>\n",
       "      <th>player_code</th>\n",
       "      <th>country_of_birth</th>\n",
       "      <th>city_of_birth</th>\n",
       "      <th>country_of_citizenship</th>\n",
       "      <th>...</th>\n",
       "      <th>foot</th>\n",
       "      <th>height_in_cm</th>\n",
       "      <th>market_value_in_eur</th>\n",
       "      <th>highest_market_value_in_eur</th>\n",
       "      <th>contract_expiration_date</th>\n",
       "      <th>agent_name</th>\n",
       "      <th>image_url</th>\n",
       "      <th>url</th>\n",
       "      <th>current_club_domestic_competition_id</th>\n",
       "      <th>current_club_name</th>\n",
       "    </tr>\n",
       "  </thead>\n",
       "  <tbody>\n",
       "    <tr>\n",
       "      <th>0</th>\n",
       "      <td>598</td>\n",
       "      <td>Timo</td>\n",
       "      <td>Hildebrand</td>\n",
       "      <td>Timo Hildebrand</td>\n",
       "      <td>2014</td>\n",
       "      <td>24</td>\n",
       "      <td>timo-hildebrand</td>\n",
       "      <td>Germany</td>\n",
       "      <td>Worms</td>\n",
       "      <td>Germany</td>\n",
       "      <td>...</td>\n",
       "      <td>NaN</td>\n",
       "      <td>NaN</td>\n",
       "      <td>NaN</td>\n",
       "      <td>10000000.0</td>\n",
       "      <td>NaN</td>\n",
       "      <td>NaN</td>\n",
       "      <td>https://img.a.transfermarkt.technology/portrai...</td>\n",
       "      <td>https://www.transfermarkt.co.uk/timo-hildebran...</td>\n",
       "      <td>L1</td>\n",
       "      <td>Eintracht Frankfurt</td>\n",
       "    </tr>\n",
       "    <tr>\n",
       "      <th>1</th>\n",
       "      <td>670</td>\n",
       "      <td>Martin</td>\n",
       "      <td>Petrov</td>\n",
       "      <td>Martin Petrov</td>\n",
       "      <td>2012</td>\n",
       "      <td>714</td>\n",
       "      <td>martin-petrov</td>\n",
       "      <td>Bulgaria</td>\n",
       "      <td>Vratsa</td>\n",
       "      <td>Bulgaria</td>\n",
       "      <td>...</td>\n",
       "      <td>NaN</td>\n",
       "      <td>NaN</td>\n",
       "      <td>NaN</td>\n",
       "      <td>12000000.0</td>\n",
       "      <td>NaN</td>\n",
       "      <td>IFM</td>\n",
       "      <td>https://img.a.transfermarkt.technology/portrai...</td>\n",
       "      <td>https://www.transfermarkt.co.uk/martin-petrov/...</td>\n",
       "      <td>ES1</td>\n",
       "      <td>RCD Espanyol Barcelona</td>\n",
       "    </tr>\n",
       "    <tr>\n",
       "      <th>2</th>\n",
       "      <td>1323</td>\n",
       "      <td>Martin</td>\n",
       "      <td>Amedick</td>\n",
       "      <td>Martin Amedick</td>\n",
       "      <td>2012</td>\n",
       "      <td>24</td>\n",
       "      <td>martin-amedick</td>\n",
       "      <td>Germany</td>\n",
       "      <td>Paderborn</td>\n",
       "      <td>Germany</td>\n",
       "      <td>...</td>\n",
       "      <td>NaN</td>\n",
       "      <td>NaN</td>\n",
       "      <td>NaN</td>\n",
       "      <td>2750000.0</td>\n",
       "      <td>NaN</td>\n",
       "      <td>NaN</td>\n",
       "      <td>https://img.a.transfermarkt.technology/portrai...</td>\n",
       "      <td>https://www.transfermarkt.co.uk/martin-amedick...</td>\n",
       "      <td>L1</td>\n",
       "      <td>Eintracht Frankfurt</td>\n",
       "    </tr>\n",
       "    <tr>\n",
       "      <th>3</th>\n",
       "      <td>3195</td>\n",
       "      <td>Jermaine</td>\n",
       "      <td>Pennant</td>\n",
       "      <td>Jermaine Pennant</td>\n",
       "      <td>2013</td>\n",
       "      <td>512</td>\n",
       "      <td>jermaine-pennant</td>\n",
       "      <td>England</td>\n",
       "      <td>Nottingham</td>\n",
       "      <td>England</td>\n",
       "      <td>...</td>\n",
       "      <td>right</td>\n",
       "      <td>173.0</td>\n",
       "      <td>NaN</td>\n",
       "      <td>10500000.0</td>\n",
       "      <td>NaN</td>\n",
       "      <td>Andrew Sky</td>\n",
       "      <td>https://img.a.transfermarkt.technology/portrai...</td>\n",
       "      <td>https://www.transfermarkt.co.uk/jermaine-penna...</td>\n",
       "      <td>GB1</td>\n",
       "      <td>Stoke City</td>\n",
       "    </tr>\n",
       "    <tr>\n",
       "      <th>4</th>\n",
       "      <td>3259</td>\n",
       "      <td>Damien</td>\n",
       "      <td>Duff</td>\n",
       "      <td>Damien Duff</td>\n",
       "      <td>2013</td>\n",
       "      <td>931</td>\n",
       "      <td>damien-duff</td>\n",
       "      <td>Ireland</td>\n",
       "      <td>Ballyboden</td>\n",
       "      <td>Ireland</td>\n",
       "      <td>...</td>\n",
       "      <td>left</td>\n",
       "      <td>177.0</td>\n",
       "      <td>NaN</td>\n",
       "      <td>17000000.0</td>\n",
       "      <td>NaN</td>\n",
       "      <td>NaN</td>\n",
       "      <td>https://img.a.transfermarkt.technology/portrai...</td>\n",
       "      <td>https://www.transfermarkt.co.uk/damien-duff/pr...</td>\n",
       "      <td>GB1</td>\n",
       "      <td>Fulham FC</td>\n",
       "    </tr>\n",
       "  </tbody>\n",
       "</table>\n",
       "<p>5 rows × 23 columns</p>\n",
       "</div>"
      ]
     },
     "execution_count": 100,
     "metadata": {},
     "output_type": "execute_result"
    }
   ],
   "execution_count": 100
  },
  {
   "metadata": {
    "ExecuteTime": {
     "end_time": "2025-01-12T22:33:19.714515Z",
     "start_time": "2025-01-12T22:33:19.710448Z"
    }
   },
   "cell_type": "code",
   "source": "players.columns",
   "id": "f03220b64ac4dad2",
   "outputs": [
    {
     "data": {
      "text/plain": [
       "Index(['player_id', 'first_name', 'last_name', 'name', 'last_season',\n",
       "       'current_club_id', 'player_code', 'country_of_birth', 'city_of_birth',\n",
       "       'country_of_citizenship', 'date_of_birth', 'sub_position', 'position',\n",
       "       'foot', 'height_in_cm', 'market_value_in_eur',\n",
       "       'highest_market_value_in_eur', 'contract_expiration_date', 'agent_name',\n",
       "       'image_url', 'url', 'current_club_domestic_competition_id',\n",
       "       'current_club_name'],\n",
       "      dtype='object')"
      ]
     },
     "execution_count": 101,
     "metadata": {},
     "output_type": "execute_result"
    }
   ],
   "execution_count": 101
  },
  {
   "metadata": {
    "ExecuteTime": {
     "end_time": "2025-01-12T22:33:30.187983Z",
     "start_time": "2025-01-12T22:33:30.157658Z"
    }
   },
   "cell_type": "code",
   "source": "players.describe()",
   "id": "a7e8ac91a99fd7cf",
   "outputs": [
    {
     "data": {
      "text/plain": [
       "          player_id   last_season  current_club_id  height_in_cm  \\\n",
       "count  3.030200e+04  30302.000000     30302.000000  28204.000000   \n",
       "mean   3.112814e+05   2018.768926      4366.055574    182.234577   \n",
       "std    2.502577e+05      3.654540     10056.373140      6.833916   \n",
       "min    1.000000e+01   2012.000000         3.000000     18.000000   \n",
       "25%    9.527400e+04   2016.000000       403.000000    178.000000   \n",
       "50%    2.578345e+05   2019.000000      1071.000000    182.000000   \n",
       "75%    4.655942e+05   2022.000000      3008.000000    187.000000   \n",
       "max    1.186012e+06   2023.000000     83678.000000    207.000000   \n",
       "\n",
       "       market_value_in_eur  highest_market_value_in_eur  \n",
       "count         1.938300e+04                 2.898100e+04  \n",
       "mean          2.234721e+06                 3.571396e+06  \n",
       "std           7.340683e+06                 9.352255e+06  \n",
       "min           1.000000e+04                 1.000000e+04  \n",
       "25%           1.750000e+05                 2.500000e+05  \n",
       "50%           3.500000e+05                 7.500000e+05  \n",
       "75%           1.000000e+06                 2.700000e+06  \n",
       "max           1.800000e+08                 2.000000e+08  "
      ],
      "text/html": [
       "<div>\n",
       "<style scoped>\n",
       "    .dataframe tbody tr th:only-of-type {\n",
       "        vertical-align: middle;\n",
       "    }\n",
       "\n",
       "    .dataframe tbody tr th {\n",
       "        vertical-align: top;\n",
       "    }\n",
       "\n",
       "    .dataframe thead th {\n",
       "        text-align: right;\n",
       "    }\n",
       "</style>\n",
       "<table border=\"1\" class=\"dataframe\">\n",
       "  <thead>\n",
       "    <tr style=\"text-align: right;\">\n",
       "      <th></th>\n",
       "      <th>player_id</th>\n",
       "      <th>last_season</th>\n",
       "      <th>current_club_id</th>\n",
       "      <th>height_in_cm</th>\n",
       "      <th>market_value_in_eur</th>\n",
       "      <th>highest_market_value_in_eur</th>\n",
       "    </tr>\n",
       "  </thead>\n",
       "  <tbody>\n",
       "    <tr>\n",
       "      <th>count</th>\n",
       "      <td>3.030200e+04</td>\n",
       "      <td>30302.000000</td>\n",
       "      <td>30302.000000</td>\n",
       "      <td>28204.000000</td>\n",
       "      <td>1.938300e+04</td>\n",
       "      <td>2.898100e+04</td>\n",
       "    </tr>\n",
       "    <tr>\n",
       "      <th>mean</th>\n",
       "      <td>3.112814e+05</td>\n",
       "      <td>2018.768926</td>\n",
       "      <td>4366.055574</td>\n",
       "      <td>182.234577</td>\n",
       "      <td>2.234721e+06</td>\n",
       "      <td>3.571396e+06</td>\n",
       "    </tr>\n",
       "    <tr>\n",
       "      <th>std</th>\n",
       "      <td>2.502577e+05</td>\n",
       "      <td>3.654540</td>\n",
       "      <td>10056.373140</td>\n",
       "      <td>6.833916</td>\n",
       "      <td>7.340683e+06</td>\n",
       "      <td>9.352255e+06</td>\n",
       "    </tr>\n",
       "    <tr>\n",
       "      <th>min</th>\n",
       "      <td>1.000000e+01</td>\n",
       "      <td>2012.000000</td>\n",
       "      <td>3.000000</td>\n",
       "      <td>18.000000</td>\n",
       "      <td>1.000000e+04</td>\n",
       "      <td>1.000000e+04</td>\n",
       "    </tr>\n",
       "    <tr>\n",
       "      <th>25%</th>\n",
       "      <td>9.527400e+04</td>\n",
       "      <td>2016.000000</td>\n",
       "      <td>403.000000</td>\n",
       "      <td>178.000000</td>\n",
       "      <td>1.750000e+05</td>\n",
       "      <td>2.500000e+05</td>\n",
       "    </tr>\n",
       "    <tr>\n",
       "      <th>50%</th>\n",
       "      <td>2.578345e+05</td>\n",
       "      <td>2019.000000</td>\n",
       "      <td>1071.000000</td>\n",
       "      <td>182.000000</td>\n",
       "      <td>3.500000e+05</td>\n",
       "      <td>7.500000e+05</td>\n",
       "    </tr>\n",
       "    <tr>\n",
       "      <th>75%</th>\n",
       "      <td>4.655942e+05</td>\n",
       "      <td>2022.000000</td>\n",
       "      <td>3008.000000</td>\n",
       "      <td>187.000000</td>\n",
       "      <td>1.000000e+06</td>\n",
       "      <td>2.700000e+06</td>\n",
       "    </tr>\n",
       "    <tr>\n",
       "      <th>max</th>\n",
       "      <td>1.186012e+06</td>\n",
       "      <td>2023.000000</td>\n",
       "      <td>83678.000000</td>\n",
       "      <td>207.000000</td>\n",
       "      <td>1.800000e+08</td>\n",
       "      <td>2.000000e+08</td>\n",
       "    </tr>\n",
       "  </tbody>\n",
       "</table>\n",
       "</div>"
      ]
     },
     "execution_count": 102,
     "metadata": {},
     "output_type": "execute_result"
    }
   ],
   "execution_count": 102
  },
  {
   "metadata": {
    "ExecuteTime": {
     "end_time": "2025-01-12T22:33:46.384915Z",
     "start_time": "2025-01-12T22:33:46.352549Z"
    }
   },
   "cell_type": "code",
   "source": "print(players.isna().sum())",
   "id": "8cddca3e2b816bd6",
   "outputs": [
    {
     "name": "stdout",
     "output_type": "stream",
     "text": [
      "player_id                                   0\n",
      "first_name                               1965\n",
      "last_name                                   0\n",
      "name                                        0\n",
      "last_season                                 0\n",
      "current_club_id                             0\n",
      "player_code                                 0\n",
      "country_of_birth                         2689\n",
      "city_of_birth                            2203\n",
      "country_of_citizenship                    543\n",
      "date_of_birth                              47\n",
      "sub_position                              172\n",
      "position                                    0\n",
      "foot                                     2389\n",
      "height_in_cm                             2098\n",
      "market_value_in_eur                     10919\n",
      "highest_market_value_in_eur              1321\n",
      "contract_expiration_date                11467\n",
      "agent_name                              15361\n",
      "image_url                                   0\n",
      "url                                         0\n",
      "current_club_domestic_competition_id        0\n",
      "current_club_name                           0\n",
      "dtype: int64\n"
     ]
    }
   ],
   "execution_count": 103
  },
  {
   "metadata": {
    "ExecuteTime": {
     "end_time": "2025-01-12T22:34:03.673687Z",
     "start_time": "2025-01-12T22:34:03.615925Z"
    }
   },
   "cell_type": "code",
   "source": "players.loc[players.duplicated()]",
   "id": "4bd77a399f63d64f",
   "outputs": [
    {
     "data": {
      "text/plain": [
       "Empty DataFrame\n",
       "Columns: [player_id, first_name, last_name, name, last_season, current_club_id, player_code, country_of_birth, city_of_birth, country_of_citizenship, date_of_birth, sub_position, position, foot, height_in_cm, market_value_in_eur, highest_market_value_in_eur, contract_expiration_date, agent_name, image_url, url, current_club_domestic_competition_id, current_club_name]\n",
       "Index: []\n",
       "\n",
       "[0 rows x 23 columns]"
      ],
      "text/html": [
       "<div>\n",
       "<style scoped>\n",
       "    .dataframe tbody tr th:only-of-type {\n",
       "        vertical-align: middle;\n",
       "    }\n",
       "\n",
       "    .dataframe tbody tr th {\n",
       "        vertical-align: top;\n",
       "    }\n",
       "\n",
       "    .dataframe thead th {\n",
       "        text-align: right;\n",
       "    }\n",
       "</style>\n",
       "<table border=\"1\" class=\"dataframe\">\n",
       "  <thead>\n",
       "    <tr style=\"text-align: right;\">\n",
       "      <th></th>\n",
       "      <th>player_id</th>\n",
       "      <th>first_name</th>\n",
       "      <th>last_name</th>\n",
       "      <th>name</th>\n",
       "      <th>last_season</th>\n",
       "      <th>current_club_id</th>\n",
       "      <th>player_code</th>\n",
       "      <th>country_of_birth</th>\n",
       "      <th>city_of_birth</th>\n",
       "      <th>country_of_citizenship</th>\n",
       "      <th>...</th>\n",
       "      <th>foot</th>\n",
       "      <th>height_in_cm</th>\n",
       "      <th>market_value_in_eur</th>\n",
       "      <th>highest_market_value_in_eur</th>\n",
       "      <th>contract_expiration_date</th>\n",
       "      <th>agent_name</th>\n",
       "      <th>image_url</th>\n",
       "      <th>url</th>\n",
       "      <th>current_club_domestic_competition_id</th>\n",
       "      <th>current_club_name</th>\n",
       "    </tr>\n",
       "  </thead>\n",
       "  <tbody>\n",
       "  </tbody>\n",
       "</table>\n",
       "<p>0 rows × 23 columns</p>\n",
       "</div>"
      ]
     },
     "execution_count": 104,
     "metadata": {},
     "output_type": "execute_result"
    }
   ],
   "execution_count": 104
  },
  {
   "metadata": {
    "ExecuteTime": {
     "end_time": "2025-01-12T22:43:12.880588Z",
     "start_time": "2025-01-12T22:43:12.875059Z"
    }
   },
   "cell_type": "code",
   "source": "import numpy as np",
   "id": "603138f7a09290ef",
   "outputs": [],
   "execution_count": 112
  },
  {
   "metadata": {
    "ExecuteTime": {
     "end_time": "2025-01-12T22:43:17.441622Z",
     "start_time": "2025-01-12T22:43:17.439314Z"
    }
   },
   "cell_type": "code",
   "source": "import pandas as pd",
   "id": "6ed885006a2a7281",
   "outputs": [],
   "execution_count": 113
  },
  {
   "metadata": {
    "ExecuteTime": {
     "end_time": "2025-01-12T22:43:41.063126Z",
     "start_time": "2025-01-12T22:43:41.057602Z"
    }
   },
   "cell_type": "code",
   "source": "import matplotlib.pyplot as plt",
   "id": "cfadf8698d13a9ad",
   "outputs": [],
   "execution_count": 114
  },
  {
   "metadata": {
    "ExecuteTime": {
     "end_time": "2025-01-12T22:43:52.095567Z",
     "start_time": "2025-01-12T22:43:52.064256Z"
    }
   },
   "cell_type": "code",
   "source": "import geopandas as gpd",
   "id": "71ffe4cb8a2de2cd",
   "outputs": [
    {
     "ename": "ModuleNotFoundError",
     "evalue": "No module named 'geopandas'",
     "output_type": "error",
     "traceback": [
      "\u001B[0;31m---------------------------------------------------------------------------\u001B[0m",
      "\u001B[0;31mModuleNotFoundError\u001B[0m                       Traceback (most recent call last)",
      "Cell \u001B[0;32mIn[115], line 1\u001B[0m\n\u001B[0;32m----> 1\u001B[0m \u001B[38;5;28;01mimport\u001B[39;00m\u001B[38;5;250m \u001B[39m\u001B[38;5;21;01mgeopandas\u001B[39;00m\u001B[38;5;250m \u001B[39m\u001B[38;5;28;01mas\u001B[39;00m\u001B[38;5;250m \u001B[39m\u001B[38;5;21;01mgpd\u001B[39;00m\n",
      "\u001B[0;31mModuleNotFoundError\u001B[0m: No module named 'geopandas'"
     ]
    }
   ],
   "execution_count": 115
  },
  {
   "metadata": {
    "ExecuteTime": {
     "end_time": "2025-01-12T22:54:21.547609Z",
     "start_time": "2025-01-12T22:54:20.164481Z"
    }
   },
   "cell_type": "code",
   "source": "app = pd.read_csv(\"/Users/alessandros/Desktop/Assignment_Data_2023-2024/data/appearances.csv\")",
   "id": "96e26cc500d3ef2c",
   "outputs": [],
   "execution_count": 118
  },
  {
   "metadata": {
    "ExecuteTime": {
     "end_time": "2025-01-12T22:55:38.989858Z",
     "start_time": "2025-01-12T22:55:38.862689Z"
    }
   },
   "cell_type": "code",
   "source": "club_games = pd.read_csv(\"/Users/alessandros/Desktop/Assignment_Data_2023-2024/data/club_games.csv\")",
   "id": "2c7ea523134859d5",
   "outputs": [],
   "execution_count": 119
  },
  {
   "metadata": {
    "ExecuteTime": {
     "end_time": "2025-01-12T22:56:33.233889Z",
     "start_time": "2025-01-12T22:56:33.216018Z"
    }
   },
   "cell_type": "code",
   "source": "clubs = pd.read_csv(\"/Users/alessandros/Desktop/Assignment_Data_2023-2024/data/clubs.csv\")",
   "id": "6df87345471b5187",
   "outputs": [],
   "execution_count": 120
  },
  {
   "metadata": {
    "ExecuteTime": {
     "end_time": "2025-01-12T22:57:02.456377Z",
     "start_time": "2025-01-12T22:57:02.428879Z"
    }
   },
   "cell_type": "code",
   "source": "competitions = pd.read_csv(\"/Users/alessandros/Desktop/Assignment_Data_2023-2024/data/competitions.csv\")",
   "id": "da75dc2d4bfcd9ed",
   "outputs": [],
   "execution_count": 121
  },
  {
   "metadata": {
    "ExecuteTime": {
     "end_time": "2025-01-12T22:57:41.527755Z",
     "start_time": "2025-01-12T22:57:40.935598Z"
    }
   },
   "cell_type": "code",
   "source": "game_events = pd.read_csv(\"/Users/alessandros/Desktop/Assignment_Data_2023-2024/data/game_events.csv\")",
   "id": "b108b1fae2f7cbdd",
   "outputs": [],
   "execution_count": 122
  },
  {
   "metadata": {
    "ExecuteTime": {
     "end_time": "2025-01-12T22:58:13.396570Z",
     "start_time": "2025-01-12T22:58:13.254192Z"
    }
   },
   "cell_type": "code",
   "source": "game_lineups = pd.read_csv(\"/Users/alessandros/Desktop/Assignment_Data_2023-2024/data/game_lineups.csv\")",
   "id": "94a99e9b47638419",
   "outputs": [],
   "execution_count": 123
  },
  {
   "metadata": {
    "ExecuteTime": {
     "end_time": "2025-01-12T22:58:36.908196Z",
     "start_time": "2025-01-12T22:58:36.691566Z"
    }
   },
   "cell_type": "code",
   "source": "games = pd.read_csv(\"/Users/alessandros/Desktop/Assignment_Data_2023-2024/data/games.csv\")",
   "id": "bf234bf0ecaa9268",
   "outputs": [],
   "execution_count": 124
  },
  {
   "metadata": {
    "ExecuteTime": {
     "end_time": "2025-01-12T22:59:05.057913Z",
     "start_time": "2025-01-12T22:59:04.803560Z"
    }
   },
   "cell_type": "code",
   "source": "player_valuations = pd.read_csv(\"/Users/alessandros/Desktop/Assignment_Data_2023-2024/data/player_valuations.csv\")",
   "id": "24f94a4bf476c890",
   "outputs": [],
   "execution_count": 126
  },
  {
   "metadata": {
    "ExecuteTime": {
     "end_time": "2025-01-12T22:59:47.710611Z",
     "start_time": "2025-01-12T22:59:47.551756Z"
    }
   },
   "cell_type": "code",
   "source": "players = pd.read_csv(\"/Users/alessandros/Desktop/Assignment_Data_2023-2024/data/players.csv\")",
   "id": "1c0a16a30e3905d3",
   "outputs": [],
   "execution_count": 127
  },
  {
   "metadata": {},
   "cell_type": "code",
   "outputs": [],
   "execution_count": null,
   "source": "#Now we will analyze the distribution of the age at which players made their debut.",
   "id": "85b157a7c61d87f7"
  },
  {
   "metadata": {
    "ExecuteTime": {
     "end_time": "2025-01-12T23:01:45.971376Z",
     "start_time": "2025-01-12T23:01:45.930424Z"
    }
   },
   "cell_type": "code",
   "source": "players['date_of_birth'] = pd.to_datetime(players['date_of_birth'])",
   "id": "2ea70f4b3ad22adf",
   "outputs": [],
   "execution_count": 128
  },
  {
   "metadata": {
    "ExecuteTime": {
     "end_time": "2025-01-12T23:02:06.840151Z",
     "start_time": "2025-01-12T23:02:06.747231Z"
    }
   },
   "cell_type": "code",
   "source": "app['date'] = pd.to_datetime(app['date'])",
   "id": "1123c06fa67d3274",
   "outputs": [],
   "execution_count": 129
  },
  {
   "metadata": {
    "ExecuteTime": {
     "end_time": "2025-01-12T23:02:29.636Z",
     "start_time": "2025-01-12T23:02:29.584178Z"
    }
   },
   "cell_type": "code",
   "source": "first_appearances = app.groupby('player_id')['date'].min().reset_index()",
   "id": "beeb4144516f65aa",
   "outputs": [],
   "execution_count": 130
  },
  {
   "metadata": {
    "ExecuteTime": {
     "end_time": "2025-01-12T23:02:46.339078Z",
     "start_time": "2025-01-12T23:02:46.325668Z"
    }
   },
   "cell_type": "code",
   "source": "first_appearances.rename(columns={'date': 'debut_date'}, inplace=True)",
   "id": "feb55b9c53f1782a",
   "outputs": [],
   "execution_count": 131
  },
  {
   "metadata": {
    "ExecuteTime": {
     "end_time": "2025-01-12T23:03:26.175811Z",
     "start_time": "2025-01-12T23:03:26.135177Z"
    }
   },
   "cell_type": "code",
   "source": "player_debut = first_appearances.merge(players[['player_id', 'date_of_birth']], on='player_id')",
   "id": "abc778916af6e6bb",
   "outputs": [],
   "execution_count": 132
  },
  {
   "metadata": {
    "ExecuteTime": {
     "end_time": "2025-01-12T23:03:38.284950Z",
     "start_time": "2025-01-12T23:03:38.271807Z"
    }
   },
   "cell_type": "code",
   "source": "player_debut['debut_age'] = (player_debut['debut_date'] - player_debut['date_of_birth']).dt.days / 365.25",
   "id": "413a2d814ad97f39",
   "outputs": [],
   "execution_count": 133
  },
  {
   "metadata": {
    "ExecuteTime": {
     "end_time": "2025-01-12T23:03:51.109970Z",
     "start_time": "2025-01-12T23:03:51.097335Z"
    }
   },
   "cell_type": "code",
   "source": "average_debut_age = player_debut['debut_age'].mean()",
   "id": "4487e01b26fbda40",
   "outputs": [],
   "execution_count": 134
  },
  {
   "metadata": {
    "ExecuteTime": {
     "end_time": "2025-01-12T23:04:00.545087Z",
     "start_time": "2025-01-12T23:04:00.346623Z"
    }
   },
   "cell_type": "code",
   "source": [
    "plt.figure(figsize=(10, 6))\n",
    "plt.hist(player_debut['debut_age'], bins=20, color='skyblue', edgecolor='black')\n",
    "plt.axvline(average_debut_age, color='red', linestyle='dashed', linewidth=1)\n",
    "plt.xlabel('age at debut')\n",
    "plt.ylabel('frequency')\n",
    "plt.title('distribution of debut age for players')\n",
    "plt.text(average_debut_age + 0.2, plt.ylim()[1] * 0.9, f'Età media: {average_debut_age:.2f}', color='red')\n",
    "plt.grid(axis='y', linestyle='--', alpha=0.7)\n",
    "plt.show()"
   ],
   "id": "e725a62e736fc404",
   "outputs": [
    {
     "data": {
      "text/plain": [
       "<Figure size 1000x600 with 1 Axes>"
      ],
      "image/png": "[encoded data removed]"
     },
     "metadata": {},
     "output_type": "display_data"
    }
   ],
   "execution_count": 135
  },
  {
   "metadata": {},
   "cell_type": "code",
   "outputs": [],
   "execution_count": null,
   "source": "#With this histogram we can see the distribution of the age at which the players made their debut. The average age at debut is 23.36 years.",
   "id": "4252387e351090df"
  },
  {
   "metadata": {},
   "cell_type": "code",
   "outputs": [],
   "execution_count": null,
   "source": "#Total of red cards",
   "id": "15f058266f663942"
  },
  {
   "metadata": {
    "ExecuteTime": {
     "end_time": "2025-01-13T07:13:47.386213Z",
     "start_time": "2025-01-13T07:13:45.315625Z"
    }
   },
   "cell_type": "code",
   "source": [
    "import pandas as pd\n",
    "import matplotlib.pyplot as plt\n",
    "\n",
    "app = pd.read_csv(\"/Users/alessandros/Desktop/Assignment_Data_2023-2024/data/appearances.csv\")\n",
    "players = pd.read_csv(\"/Users/alessandros/Desktop/Assignment_Data_2023-2024/data/players.csv\")\n",
    "\n",
    "nationalities = [\"Italy\", \"France\", \"England\", \"Germany\", \"Spain\", \"Bulgaria\", \"Ireland\", \"Netherlands\", \"Belgium\"]\n",
    "filtered_players = players[players[\"country_of_birth\"].isin(nationalities)]\n",
    "\n",
    "top_players = filtered_players.groupby(\"country_of_birth\").head(1000)\n",
    "\n",
    "merged_df = pd.merge(top_players, app, on=\"player_id\")\n",
    "\n",
    "yellow_cards_by_nation = merged_df.groupby(\"country_of_birth\")[\"red_cards\"].sum()\n",
    "\n",
    "yellow_cards_by_nation = yellow_cards_by_nation.sort_values(ascending=False)\n",
    "\n",
    "plt.figure(figsize=(12, 6))\n",
    "ax =yellow_cards_by_nation.plot(kind=\"bar\", color=['blue', 'green', 'red', 'cyan', 'magenta', 'orange', 'purple', 'brown', 'grey'])\n",
    "for i in ax.containers:\n",
    "    ax.bar_label(i, label_type=\"edge\")\n",
    "plt.xlabel(\"Nazionalità\")\n",
    "plt.ylabel(\"Totale Cartellini Rossi\")\n",
    "plt.title(\"Totale dei Cartellini Rossi per Nazionalità\")\n",
    "plt.xticks(rotation=45)\n",
    "plt.grid(axis='y')\n",
    "plt.show()"
   ],
   "id": "f7c38bfd33f0fe61",
   "outputs": [
    {
     "data": {
      "text/plain": [
       "<Figure size 1200x600 with 1 Axes>"
      ],
      "image/png": "[encoded data removed]"
     },
     "metadata": {},
     "output_type": "display_data"
    }
   ],
   "execution_count": 140
  }
 ],
 "metadata": {
  "kernelspec": {
   "display_name": "Python 3",
   "language": "python",
   "name": "python3"
  },
  "language_info": {
   "codemirror_mode": {
    "name": "ipython",
    "version": 2
   },
   "file_extension": ".py",
   "mimetype": "text/x-python",
   "name": "python",
   "nbconvert_exporter": "python",
   "pygments_lexer": "ipython2",
   "version": "2.7.6"
  }
 },
 "nbformat": 4,
 "nbformat_minor": 5
}
